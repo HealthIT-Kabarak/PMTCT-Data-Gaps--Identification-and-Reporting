{
  "cells": [
    {
      "cell_type": "markdown",
      "metadata": {
        "id": "O3Ll1WNMEov0"
      },
      "source": [
        "# Cleaning of data\n",
        "\n",
        "There are two data files that will be merged and cleaned for the purpose of setting up an essential dataset for trainging the classification model.\n",
        "\n",
        "The `hts_migori.csv` and the `hts_kakamega.csv` datafiles, which is merged in to the `hts_merged.csv`.\n",
        "\n",
        "The `pmtct_migori.csv` and the `pmtct_kakamega.csv`, which is merged to the `pmtct_merged.csv`.\n",
        "\n",
        "\n",
        "From the hts.csv file, which contains the raw data, we will open the file and from the indicators, there are two other properties about the relation instances that can be extracted i.e `age` and  `gender`.\n",
        "\n"
      ]
    },
    {
      "cell_type": "markdown",
      "metadata": {
        "id": "Sat5ddo9HasG"
      },
      "source": [
        "---\n",
        "Install the csvkit library. Used in the wrangling of data process."
      ]
    },
    {
      "cell_type": "code",
      "execution_count": 16,
      "metadata": {
        "colab": {
          "base_uri": "https://localhost:8080/"
        },
        "id": "7I2ntKdOGw1P",
        "outputId": "6b5aa6d4-c9db-4753-d2fd-84756236bc7a",
        "vscode": {
          "languageId": "shellscript"
        }
      },
      "outputs": [
        {
          "name": "stdout",
          "output_type": "stream",
          "text": [
            "Requirement already satisfied: csvkit in /home/michael/anaconda3/lib/python3.9/site-packages (1.1.0)\n",
            "Requirement already satisfied: agate-dbf>=0.2.2 in /home/michael/anaconda3/lib/python3.9/site-packages (from csvkit) (0.2.2)\n",
            "Requirement already satisfied: agate-excel>=0.2.2 in /home/michael/anaconda3/lib/python3.9/site-packages (from csvkit) (0.2.5)\n",
            "Requirement already satisfied: agate-sql>=0.5.3 in /home/michael/anaconda3/lib/python3.9/site-packages (from csvkit) (0.5.8)\n",
            "Requirement already satisfied: agate>=1.6.1 in /home/michael/anaconda3/lib/python3.9/site-packages (from csvkit) (1.7.1)\n",
            "Requirement already satisfied: python-slugify>=1.2.1 in /home/michael/anaconda3/lib/python3.9/site-packages (from agate>=1.6.1->csvkit) (5.0.2)\n",
            "Requirement already satisfied: Babel>=2.0 in /home/michael/anaconda3/lib/python3.9/site-packages (from agate>=1.6.1->csvkit) (2.9.1)\n",
            "Requirement already satisfied: parsedatetime!=2.5,>=2.1 in /home/michael/anaconda3/lib/python3.9/site-packages (from agate>=1.6.1->csvkit) (2.6)\n",
            "Requirement already satisfied: isodate>=0.5.4 in /home/michael/anaconda3/lib/python3.9/site-packages (from agate>=1.6.1->csvkit) (0.6.1)\n",
            "Requirement already satisfied: leather>=0.3.2 in /home/michael/anaconda3/lib/python3.9/site-packages (from agate>=1.6.1->csvkit) (0.3.4)\n",
            "Requirement already satisfied: pytimeparse>=1.1.5 in /home/michael/anaconda3/lib/python3.9/site-packages (from agate>=1.6.1->csvkit) (1.1.8)\n",
            "Requirement already satisfied: dbfread>=2.0.5 in /home/michael/anaconda3/lib/python3.9/site-packages (from agate-dbf>=0.2.2->csvkit) (2.0.7)\n",
            "Requirement already satisfied: openpyxl>=2.3.0 in /home/michael/anaconda3/lib/python3.9/site-packages (from agate-excel>=0.2.2->csvkit) (3.0.10)\n",
            "Requirement already satisfied: xlrd>=0.9.4 in /home/michael/anaconda3/lib/python3.9/site-packages (from agate-excel>=0.2.2->csvkit) (2.0.1)\n",
            "Requirement already satisfied: olefile in /home/michael/anaconda3/lib/python3.9/site-packages (from agate-excel>=0.2.2->csvkit) (0.46)\n",
            "Requirement already satisfied: six in /home/michael/anaconda3/lib/python3.9/site-packages (from agate-excel>=0.2.2->csvkit) (1.16.0)\n",
            "Requirement already satisfied: sqlalchemy>=1.0.8 in /home/michael/anaconda3/lib/python3.9/site-packages (from agate-sql>=0.5.3->csvkit) (1.4.39)\n",
            "Requirement already satisfied: pytz>=2015.7 in /home/michael/anaconda3/lib/python3.9/site-packages (from Babel>=2.0->agate>=1.6.1->csvkit) (2022.1)\n",
            "Requirement already satisfied: et_xmlfile in /home/michael/anaconda3/lib/python3.9/site-packages (from openpyxl>=2.3.0->agate-excel>=0.2.2->csvkit) (1.1.0)\n",
            "Requirement already satisfied: text-unidecode>=1.3 in /home/michael/anaconda3/lib/python3.9/site-packages (from python-slugify>=1.2.1->agate>=1.6.1->csvkit) (1.3)\n",
            "Requirement already satisfied: greenlet!=0.4.17 in /home/michael/anaconda3/lib/python3.9/site-packages (from sqlalchemy>=1.0.8->agate-sql>=0.5.3->csvkit) (1.1.1)\n"
          ]
        }
      ],
      "source": [
        "# running shell commands to install requirements.\n",
        "!pip install csvkit\n"
      ]
    },
    {
      "cell_type": "code",
      "execution_count": 17,
      "metadata": {
        "id": "OVdtLMlvJxO4"
      },
      "outputs": [],
      "source": [
        "# import necessary liibraries\n",
        "import csvkit\n",
        "import subprocess"
      ]
    },
    {
      "cell_type": "code",
      "execution_count": 18,
      "metadata": {
        "colab": {
          "base_uri": "https://localhost:8080/"
        },
        "id": "GCgjknmylwRu",
        "outputId": "f726f66d-4df7-4fb9-c198-a47c0c8ce262"
      },
      "outputs": [
        {
          "name": "stdout",
          "output_type": "stream",
          "text": [
            "All column headers hts_migori\n",
            "\t\n",
            "  1: facilityuid\n",
            "  2: facility\n",
            "  3: code\n",
            "  4: ward\n",
            "  5: sub_county\n",
            "  6: county\n",
            "  7: indicator\n",
            "  8: Indicator Name\n",
            "  9: period\n",
            " 10: dhis2_value\n",
            " 11: datim_value\n",
            "\n",
            "All column headers hts_kakamega\n",
            "\t\n",
            "  1: facilityuid\n",
            "  2: facility\n",
            "  3: code\n",
            "  4: ward\n",
            "  5: sub_county\n",
            "  6: county\n",
            "  7: indicator\n",
            "  8: Indicator Name\n",
            "  9: period\n",
            " 10: dhis2_value\n",
            " 11: datim_value\n",
            "\n"
          ]
        }
      ],
      "source": [
        "# check all headers for migori hts data file\n",
        "input_file_hts_migori = \"./raw_data/hts_migori.csv\"\n",
        "input_file_hts_kakamega = \"./raw_data/hts_kakamega.csv\"\n",
        "\n",
        "output_hts_migori = subprocess.run(f\"csvcut -n {input_file_hts_migori}\", stdout=subprocess.PIPE, shell=True)\n",
        "output_hts_kakamega = subprocess.run(f\"csvcut -n {input_file_hts_kakamega}\", stdout=subprocess.PIPE, shell=True)\n",
        "print(f\"All column headers hts_migori\\n\\t\\n{output_hts_migori.stdout.decode()}\\nAll column headers hts_kakamega\\n\\t\\n{output_hts_kakamega.stdout.decode()}\")"
      ]
    },
    {
      "cell_type": "code",
      "execution_count": 19,
      "metadata": {
        "colab": {
          "base_uri": "https://localhost:8080/"
        },
        "id": "UZT6s3qeLorl",
        "outputId": "ce69b0e7-1901-47b6-a4c2-3e00c8878a38"
      },
      "outputs": [
        {
          "name": "stdout",
          "output_type": "stream",
          "text": [
            "All column headers pmtct_migori\n",
            "\t\n",
            "  1: facilityuid\n",
            "  2: facility\n",
            "  3: code\n",
            "  4: ward\n",
            "  5: sub_county\n",
            "  6: county\n",
            "  7: indicator\n",
            "  8: indicator_name\n",
            "  9: period\n",
            " 10: dhis2_value\n",
            " 11: datim_value\n",
            "\n",
            "All column headers pmtct_kakamega\n",
            "\t\n",
            "  1: facilityuid\n",
            "  2: facility\n",
            "  3: code\n",
            "  4: ward\n",
            "  5: sub_county\n",
            "  6: county\n",
            "  7: indicator\n",
            "  8: indicator_name\n",
            "  9: period\n",
            " 10: dhis2_value\n",
            " 11: datim_value\n",
            "\n"
          ]
        }
      ],
      "source": [
        "# check all headers for pmtct data files\n",
        "input_file_pmtct_migori = \"./raw_data/pmtct_migori.csv\"\n",
        "input_file_pmtct_kakamega = \"./raw_data/pmtct_kakamega.csv\"\n",
        "\n",
        "output_pmtct_migori = subprocess.run(f\"csvcut -n {input_file_pmtct_migori}\", stdout=subprocess.PIPE, shell=True)\n",
        "output_pmtct_kakamega = subprocess.run(f\"csvcut -n {input_file_pmtct_kakamega}\", stdout=subprocess.PIPE, shell=True)\n",
        "print(f\"All column headers pmtct_migori\\n\\t\\n{output_pmtct_migori.stdout.decode()}\\nAll column headers pmtct_kakamega\\n\\t\\n{output_pmtct_kakamega.stdout.decode()}\")"
      ]
    },
    {
      "cell_type": "markdown",
      "metadata": {
        "id": "EttsDaTZClZb"
      },
      "source": [
        "Comparing the headers of the two files, they are same. This means that they can be merged to one file without column conlficts."
      ]
    },
    {
      "cell_type": "code",
      "execution_count": 20,
      "metadata": {
        "colab": {
          "base_uri": "https://localhost:8080/"
        },
        "id": "VFqY0pNq8wLS",
        "outputId": "6b4b222d-7e06-4dcf-d51f-a3812fc44b33"
      },
      "outputs": [
        {
          "name": "stdout",
          "output_type": "stream",
          "text": [
            "All column headers\n",
            "\t\n",
            "  1: facilityuid\n",
            "  2: facility\n",
            "  3: code\n",
            "  4: ward\n",
            "  5: sub_county\n",
            "  6: county\n",
            "  7: indicator\n",
            "  8: Indicator Name\n",
            "  9: period\n",
            " 10: dhis2_value\n",
            " 11: datim_value\n",
            "\n"
          ]
        }
      ],
      "source": [
        "# Merge hts_migori and hts_kakamega to hts_merged\n",
        "hts_output_file= \"./raw_data/hts_merged.csv\"\n",
        "\n",
        "output = subprocess.run(f\"csvstack {input_file_hts_migori} {input_file_hts_kakamega} > {hts_output_file} && csvcut -n {hts_output_file}\", stdout=subprocess.PIPE, shell=True)\n",
        "print(f\"All column headers\\n\\t\\n{output.stdout.decode()}\")"
      ]
    },
    {
      "cell_type": "code",
      "execution_count": 21,
      "metadata": {
        "colab": {
          "base_uri": "https://localhost:8080/"
        },
        "id": "mTg3zqIzMn2x",
        "outputId": "1ef687bc-74a2-4abb-eaaa-a86d5bcf98d9"
      },
      "outputs": [
        {
          "name": "stdout",
          "output_type": "stream",
          "text": [
            "All column headers\n",
            "\t\n",
            "  1: facilityuid\n",
            "  2: facility\n",
            "  3: code\n",
            "  4: ward\n",
            "  5: sub_county\n",
            "  6: county\n",
            "  7: indicator\n",
            "  8: indicator_name\n",
            "  9: period\n",
            " 10: dhis2_value\n",
            " 11: datim_value\n",
            "\n"
          ]
        }
      ],
      "source": [
        "# Merge pmtct_migori and pmtct_kakamega to pmtct_merged\n",
        "pmtct_output_file= \"./clean_data/pmtct_merged.csv\"\n",
        "\n",
        "output = subprocess.run(f\"csvstack {input_file_pmtct_migori} {input_file_pmtct_kakamega} > {pmtct_output_file} && csvcut -n {pmtct_output_file}\", stdout=subprocess.PIPE, shell=True)\n",
        "print(f\"All column headers\\n\\t\\n{output.stdout.decode()}\")"
      ]
    },
    {
      "cell_type": "code",
      "execution_count": 22,
      "metadata": {},
      "outputs": [],
      "source": [
        "## clean the pmtct data file"
      ]
    },
    {
      "cell_type": "markdown",
      "metadata": {
        "id": "r6WTitSyk_mY"
      },
      "source": [
        "Having a look at the data"
      ]
    },
    {
      "cell_type": "code",
      "execution_count": 23,
      "metadata": {
        "colab": {
          "base_uri": "https://localhost:8080/"
        },
        "id": "YdDtWbA4JFWH",
        "outputId": "2cab8b7f-10bb-462a-a974-e610ef319da8"
      },
      "outputs": [
        {
          "name": "stdout",
          "output_type": "stream",
          "text": [
            "| facilityuid | facility                      |   code | ward              | sub_county            | county        | indicator   | indicator_name                                    | period | dhis2_value | datim_value |\n",
            "| ----------- | ----------------------------- | ------ | ----------------- | --------------------- | ------------- | ----------- | ------------------------------------------------- | ------ | ----------- | ----------- |\n",
            "| SZnkrFoimi2 | Kugitimo Health Centre        | 13,723 | Nyabasi east Ward | Kuria East Sub County | Migori County | ETX9cUWF43c | MOH 731  Initial test at ANC       HV02-04        | 2020Q1 |          64 |          64 |\n",
            "| xt2lltkTLza | Ntimaru Sub-District Hospital | 13,858 | Ntimaru west Ward | Kuria East Sub County | Migori County | ETX9cUWF43c | MOH 731  Initial test at ANC       HV02-04        | 2019Q4 |         119 |         124 |\n",
            "| NoZjHcIDHGW | Kegonga District Hospital     | 13,663 | Nyabasi east Ward | Kuria East Sub County | Migori County | qSgLzXh46n9 | MOH 731  Known Positive at 1st  ANC       HV02-03 | 2020Q2 |           1 |           1 |\n",
            "| SZnkrFoimi2 | Kugitimo Health Centre        | 13,723 | Nyabasi east Ward | Kuria East Sub County | Migori County | ETX9cUWF43c | MOH 731  Initial test at ANC       HV02-04        | 2020Q2 |          46 |          45 |\n",
            "\n"
          ]
        }
      ],
      "source": [
        "# Check the data columns of the pmtct merged file.\n",
        "output = subprocess.run(f\"csvcut {pmtct_output_file} | head -n 5 | csvlook\", stdout=subprocess.PIPE, shell=True)\n",
        "\n",
        "print(output.stdout.decode())\n"
      ]
    },
    {
      "cell_type": "code",
      "execution_count": 24,
      "metadata": {
        "colab": {
          "base_uri": "https://localhost:8080/"
        },
        "id": "ZWYnHf_fOrig",
        "outputId": "28a3d4eb-88a8-44ce-9bf6-bde355e465b6"
      },
      "outputs": [
        {
          "name": "stdout",
          "output_type": "stream",
          "text": [
            "| facilityuid | facility           |   code | ward             | sub_county        | county        | indicator   | Indicator Name                  | period | dhis2_value | datim_value |\n",
            "| ----------- | ------------------ | ------ | ---------------- | ----------------- | ------------- | ----------- | ------------------------------- | ------ | ----------- | ----------- |\n",
            "| aCOEeeYEcsO | Rabondo Dispensary | 14,019 | West sakwa Ward  | Awendo Sub County | Migori County | JiuqbydCIcy | MOH 731 Tested_20-24(F) HV01-07 | 2019Q4 |          33 |          87 |\n",
            "| aCOEeeYEcsO | Rabondo Dispensary | 14,019 | West sakwa Ward  | Awendo Sub County | Migori County | OePJt8CcZ0d | MOH 731 Tested_1-9 HV01-01      | 2020Q1 |          14 |          13 |\n",
            "| aWpElDmioIw | Kuja Dispensary    | 13,724 | North sakwa Ward | Awendo Sub County | Migori County | JiuqbydCIcy | MOH 731 Tested_20-24(F) HV01-07 | 2019Q4 |          15 |          53 |\n",
            "| aWpElDmioIw | Kuja Dispensary    | 13,724 | North sakwa Ward | Awendo Sub County | Migori County | pkShOkgNQt2 | MOH 731 Tested_20-24(M) HV01-06 | 2020Q2 |           9 |          10 |\n",
            "\n"
          ]
        }
      ],
      "source": [
        "# Check the data columns of the hts merged file.\n",
        "output = subprocess.run(f\"csvcut {hts_output_file} | head -n 5 | csvlook\", stdout=subprocess.PIPE, shell=True)\n",
        "\n",
        "print(output.stdout.decode())"
      ]
    },
    {
      "cell_type": "markdown",
      "metadata": {
        "id": "yiwomBtGD9iX"
      },
      "source": [
        "> From the data listed, the column name, \"Indicator Name\" might bring about difficulties in manipulatining it due to it having a space. Lets rename it to \"indicator_name\"."
      ]
    },
    {
      "cell_type": "code",
      "execution_count": 25,
      "metadata": {
        "colab": {
          "base_uri": "https://localhost:8080/"
        },
        "id": "A5_MBKMXk7nH",
        "outputId": "217f9574-731e-4fcb-abd2-b29ca14a196c"
      },
      "outputs": [
        {
          "name": "stdout",
          "output_type": "stream",
          "text": [
            "\t---------------\n",
            "Indicator Name\n",
            "\t---------------\n",
            "MOH 731 Tested_10-14(F) HV01-03\n",
            "\t---------------\n",
            "MOH 731 Tested_10-14 (M) HV01-02\n",
            "\t---------------\n",
            "MOH 731 Tested_15-19(F) HV01-05\n",
            "\t---------------\n",
            "MOH 731 Tested_15-19 (M) HV01-04\n",
            "\t---------------\n",
            "MOH 731 Tested_1-9 HV01-01\n",
            "\t---------------\n",
            "MOH 731 Tested_20-24(F) HV01-07\n",
            "\t---------------\n",
            "MOH 731 Tested_20-24(M) HV01-06\n",
            "\t---------------\n",
            "MOH 731 Tested_25+ (F) HV01-09\n",
            "\t---------------\n",
            "MOH 731 Tested_25+ (M) HV01-08\n"
          ]
        }
      ],
      "source": [
        "# change name for {column_name}\n",
        "column_name = \"'Indicator Name'\"\n",
        "output = subprocess.run(f\"csvcut -c {column_name} {hts_output_file} | sort | uniq\", stdout=subprocess.PIPE, shell=True)\n",
        "\n",
        "unique_values = output.stdout.decode().strip().split('\\n')\n",
        "for value in unique_values:\n",
        "    print(f\"\\t---------------\\n{value}\")\n"
      ]
    },
    {
      "cell_type": "markdown",
      "metadata": {
        "id": "TkIztBghKGKK"
      },
      "source": [
        "From the above values of the indicators column, these indicators carry more information about a given row or data instance, for example:\n",
        "\n",
        "- The 25+, 1-9, 20-24, 15-19, 10-14 and any other, give information on the age bracket of a given data instance\n",
        "- Where there is (M) or (F) is the gender.\n",
        "- With the age bracket of less than one years old (1-9) their gender is not indicated with their respective indicators."
      ]
    },
    {
      "cell_type": "markdown",
      "metadata": {
        "id": "H7jtAAldLKOV"
      },
      "source": [
        "Taking advantage of this, we can separate the information and have them on separrate columns.\n",
        "\n",
        "The indicators can also be simplified into simpler, short and understoodable terms."
      ]
    },
    {
      "cell_type": "code",
      "execution_count": 26,
      "metadata": {
        "colab": {
          "base_uri": "https://localhost:8080/"
        },
        "id": "enOAej_NH5NA",
        "outputId": "90bfcaa3-27bb-4f6d-e3c5-7eee7d46f6aa"
      },
      "outputs": [
        {
          "name": "stdout",
          "output_type": "stream",
          "text": [
            "Available columns: ['facilityuid', 'facility', 'code', 'ward', 'sub_county', 'county', 'indicator', 'Indicator Name', 'period', 'dhis2_value', 'datim_value']\n",
            "Updated columns: ['facilityuid', 'facility', 'code', 'ward', 'sub_county', 'county', 'indicator', 'indicator_name', 'period', 'dhis2_value', 'other', 'gender', 'short_indicator_name', 'age']\n"
          ]
        }
      ],
      "source": [
        "\n",
        "# Open the CSV file and create a new output CSV file\n",
        "with open('./raw_data/hts_merged.csv', 'r') as input_file, open('./raw_data/hts_merged_cleaned.csv', 'w', newline='') as output_file:\n",
        "    # Create a CSV reader object and a CSV writer object\n",
        "    reader = csvkit.DictReader(input_file)\n",
        "    print(f\"Available columns: {reader.fieldnames}\")\n",
        "    # Label unlabelled column\n",
        "    reader.fieldnames[-1] = 'other'\n",
        "    reader.fieldnames[7] = 'indicator_name'\n",
        "    writer = csvkit.DictWriter(output_file, fieldnames=reader.fieldnames + ['gender'] + ['short_indicator_name'] + ['age'])\n",
        "    print(f\"Updated columns: {writer.fieldnames}\")\n",
        "    writer.writeheader()\n",
        "\n",
        "    \n",
        "    # Iterate over each row of the input CSV file\n",
        "    for row in reader:\n",
        "        # Check if the indicators contains a given age/ age bracket and update age\n",
        "        if '25+' in row['indicator_name']:\n",
        "            row['age'] = '25+'\n",
        "        elif '1-9' in row['indicator_name']:\n",
        "            row['age'] = '1-9'\n",
        "        elif '20-24' in row['indicator_name']:\n",
        "            row['age'] = '20-24'\n",
        "        elif '15-19' in row['indicator_name']:\n",
        "            row['age'] = '15-19'\n",
        "        elif '10-14' in row['indicator_name']:\n",
        "            row['age'] = '10-14'\n",
        "        elif '<1' in row['indicator_name']:\n",
        "            row['age'] = '<1'\n",
        "        else:\n",
        "            row['age'] = 'N'\n",
        "        \n",
        "        # Check if the indicator_name contain certain indicator and shorten to simpler value alt\n",
        "        if 'Tested_' in row['indicator_name']:\n",
        "            row['short_indicator_name'] = 'tested'\n",
        "        else:\n",
        "            row['short_indicator_name'] = 'N'\n",
        "            \n",
        "        # Check if the indicator_name contains a letter M between brackets\n",
        "        if '(M)' in row['indicator_name']:\n",
        "            row['gender'] = 'male'\n",
        "        elif '(F)' in row['indicator_name']:\n",
        "            row['gender'] = 'female'\n",
        "        else:\n",
        "            row['gender'] = 'n'\n",
        "\n",
        "        # Write the updated row to the output CSV file\n",
        "        writer.writerow(row)"
      ]
    },
    {
      "cell_type": "code",
      "execution_count": 27,
      "metadata": {
        "colab": {
          "base_uri": "https://localhost:8080/"
        },
        "id": "UsOmUQ0-QuCI",
        "outputId": "d52d5ffd-680e-4ac1-f944-cafa84d055c5"
      },
      "outputs": [
        {
          "name": "stdout",
          "output_type": "stream",
          "text": [
            "| facilityuid | indicator_name                  | gender | age   | short_indicator_name |\n",
            "| ----------- | ------------------------------- | ------ | ----- | -------------------- |\n",
            "| aCOEeeYEcsO | MOH 731 Tested_20-24(F) HV01-07 | female | 20-24 | tested               |\n",
            "| aCOEeeYEcsO | MOH 731 Tested_1-9 HV01-01      | n      | 1-9   | tested               |\n",
            "| aWpElDmioIw | MOH 731 Tested_20-24(F) HV01-07 | female | 20-24 | tested               |\n",
            "| aWpElDmioIw | MOH 731 Tested_20-24(M) HV01-06 | male   | 20-24 | tested               |\n",
            "\n"
          ]
        }
      ],
      "source": [
        "#Have a look at the added columns\n",
        "columns = 'facilityuid,indicator_name,gender,age,short_indicator_name'\n",
        "input_file = './raw_data/hts_merged_cleaned.csv'\n",
        "\n",
        "output = subprocess.run(f\"csvcut -c {columns} {input_file} | head -n 5 | csvlook\", stdout=subprocess.PIPE, shell=True)\n",
        "print(output.stdout.decode())\n"
      ]
    },
    {
      "cell_type": "markdown",
      "metadata": {
        "id": "xXnjFpYMQHoI"
      },
      "source": [
        "> From the above, we can now choose to discard the indicators column and have a well organized dataset.\n",
        "\n",
        "- With the short indicators;\n",
        "\n",
        "  `tested` - Those who are tested, includes the positive and those who have started ART\n",
        "\n",
        " \n"
      ]
    },
    {
      "cell_type": "code",
      "execution_count": 28,
      "metadata": {
        "colab": {
          "base_uri": "https://localhost:8080/"
        },
        "id": "jUpAoGL_Fga3",
        "outputId": "b3dab0d7-3979-488d-9173-12467119b82f"
      },
      "outputs": [
        {
          "name": "stdout",
          "output_type": "stream",
          "text": [
            "\n"
          ]
        }
      ],
      "source": [
        "# removing the indicators column\n",
        "columns = 'facilityuid,facility,code,ward,sub_county,county,indicator,period,dhis2_value,other,gender,short_indicator_name,age'\n",
        "output_file = './clean_data/hts_cleaned.csv'\n",
        "\n",
        "output = subprocess.run(f\"csvcut -c {columns} {input_file} > {output_file}\", stdout=subprocess.PIPE, shell=True)\n",
        "print(output.stdout.decode())\n"
      ]
    },
    {
      "cell_type": "code",
      "execution_count": 29,
      "metadata": {
        "colab": {
          "base_uri": "https://localhost:8080/"
        },
        "id": "60yxcoFwSnaq",
        "outputId": "99c6b28c-0074-414f-e4e5-2f4aa1eff831"
      },
      "outputs": [
        {
          "name": "stdout",
          "output_type": "stream",
          "text": [
            "All columns\n",
            "\t\n",
            "  1: facilityuid\n",
            "  2: facility\n",
            "  3: code\n",
            "  4: ward\n",
            "  5: sub_county\n",
            "  6: county\n",
            "  7: indicator\n",
            "  8: period\n",
            "  9: dhis2_value\n",
            " 10: other\n",
            " 11: gender\n",
            " 12: short_indicator_name\n",
            " 13: age\n",
            "\n"
          ]
        }
      ],
      "source": [
        "output = subprocess.run(f\"csvcut -n {output_file}\", stdout=subprocess.PIPE, shell=True)\n",
        "print(f\"All columns\\n\\t\\n{output.stdout.decode()}\")"
      ]
    },
    {
      "cell_type": "code",
      "execution_count": 30,
      "metadata": {
        "colab": {
          "base_uri": "https://localhost:8080/"
        },
        "id": "VxO4tDrVXPSv",
        "outputId": "cc90d948-63c4-47ef-ddfa-3e4cd4eb750e"
      },
      "outputs": [
        {
          "name": "stdout",
          "output_type": "stream",
          "text": [
            "| facilityuid | facility           |   code | ward             | sub_county        | county        | indicator   | period | dhis2_value | other | gender | short_indicator_name | age   |\n",
            "| ----------- | ------------------ | ------ | ---------------- | ----------------- | ------------- | ----------- | ------ | ----------- | ----- | ------ | -------------------- | ----- |\n",
            "| aCOEeeYEcsO | Rabondo Dispensary | 14,019 | West sakwa Ward  | Awendo Sub County | Migori County | JiuqbydCIcy | 2019Q4 |          33 |    87 | female | tested               | 20-24 |\n",
            "| aCOEeeYEcsO | Rabondo Dispensary | 14,019 | West sakwa Ward  | Awendo Sub County | Migori County | OePJt8CcZ0d | 2020Q1 |          14 |    13 | n      | tested               | 1-9   |\n",
            "| aWpElDmioIw | Kuja Dispensary    | 13,724 | North sakwa Ward | Awendo Sub County | Migori County | JiuqbydCIcy | 2019Q4 |          15 |    53 | female | tested               | 20-24 |\n",
            "| aWpElDmioIw | Kuja Dispensary    | 13,724 | North sakwa Ward | Awendo Sub County | Migori County | pkShOkgNQt2 | 2020Q2 |           9 |    10 | male   | tested               | 20-24 |\n",
            "| aWpElDmioIw | Kuja Dispensary    | 13,724 | North sakwa Ward | Awendo Sub County | Migori County | YXJf27jfkvS | 2019Q4 |           7 |    39 | female | tested               | 15-19 |\n",
            "\n"
          ]
        }
      ],
      "source": [
        "#Have a look at the added columns\n",
        "output = subprocess.run(f\"csvcut -c {columns} {output_file} | head -n 6 | csvlook\", stdout=subprocess.PIPE, shell=True)\n",
        "print(output.stdout.decode())\n"
      ]
    }
  ],
  "metadata": {
    "colab": {
      "provenance": []
    },
    "kernelspec": {
      "display_name": "base",
      "language": "python",
      "name": "python3"
    },
    "language_info": {
      "codemirror_mode": {
        "name": "ipython",
        "version": 3
      },
      "file_extension": ".py",
      "mimetype": "text/x-python",
      "name": "python",
      "nbconvert_exporter": "python",
      "pygments_lexer": "ipython3",
      "version": "3.9.13"
    },
    "vscode": {
      "interpreter": {
        "hash": "5764602bc5e15974420ba0a3caed7061d770b6b7de350fe4980c5fe44de76677"
      }
    }
  },
  "nbformat": 4,
  "nbformat_minor": 0
}
