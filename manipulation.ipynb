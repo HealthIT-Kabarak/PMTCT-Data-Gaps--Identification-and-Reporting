{
 "cells": [
  {
   "cell_type": "code",
   "execution_count": 284,
   "metadata": {
    "pycharm": {
     "name": "#%%\n"
    }
   },
   "outputs": [
    {
     "data": {
      "text/plain": "   facilityuid            facility   code              ward  \\\n0  aCOEeeYEcsO  Rabondo Dispensary  14019   West sakwa Ward   \n1  aWpElDmioIw     Kuja Dispensary  13724  North sakwa Ward   \n2  aWpElDmioIw     Kuja Dispensary  13724  North sakwa Ward   \n3  aWpElDmioIw     Kuja Dispensary  13724  North sakwa Ward   \n4  B8Y8xuk4MFf  Ngo'nga Dispensary  17052  South sakwa Ward   \n\n          sub_county         county    indicator  period  dhis2_value  \\\n0  Awendo Sub County  Migori County  JiuqbydCIcy  2019Q4           33   \n1  Awendo Sub County  Migori County  JiuqbydCIcy  2019Q4           15   \n2  Awendo Sub County  Migori County  pkShOkgNQt2  2020Q2            9   \n3  Awendo Sub County  Migori County  YXJf27jfkvS  2019Q4            7   \n4  Awendo Sub County  Migori County  gMICOUtzqRb  2019Q4            3   \n\n   datim_value gender    age  \n0         87.0    (F)  20-24  \n1         53.0    (F)  20-24  \n2         10.0    (M)  20-24  \n3         39.0    (F)  15-19  \n4          5.0    (F)  10-14  ",
      "text/html": "<div>\n<style scoped>\n    .dataframe tbody tr th:only-of-type {\n        vertical-align: middle;\n    }\n\n    .dataframe tbody tr th {\n        vertical-align: top;\n    }\n\n    .dataframe thead th {\n        text-align: right;\n    }\n</style>\n<table border=\"1\" class=\"dataframe\">\n  <thead>\n    <tr style=\"text-align: right;\">\n      <th></th>\n      <th>facilityuid</th>\n      <th>facility</th>\n      <th>code</th>\n      <th>ward</th>\n      <th>sub_county</th>\n      <th>county</th>\n      <th>indicator</th>\n      <th>period</th>\n      <th>dhis2_value</th>\n      <th>datim_value</th>\n      <th>gender</th>\n      <th>age</th>\n    </tr>\n  </thead>\n  <tbody>\n    <tr>\n      <th>0</th>\n      <td>aCOEeeYEcsO</td>\n      <td>Rabondo Dispensary</td>\n      <td>14019</td>\n      <td>West sakwa Ward</td>\n      <td>Awendo Sub County</td>\n      <td>Migori County</td>\n      <td>JiuqbydCIcy</td>\n      <td>2019Q4</td>\n      <td>33</td>\n      <td>87.0</td>\n      <td>(F)</td>\n      <td>20-24</td>\n    </tr>\n    <tr>\n      <th>1</th>\n      <td>aWpElDmioIw</td>\n      <td>Kuja Dispensary</td>\n      <td>13724</td>\n      <td>North sakwa Ward</td>\n      <td>Awendo Sub County</td>\n      <td>Migori County</td>\n      <td>JiuqbydCIcy</td>\n      <td>2019Q4</td>\n      <td>15</td>\n      <td>53.0</td>\n      <td>(F)</td>\n      <td>20-24</td>\n    </tr>\n    <tr>\n      <th>2</th>\n      <td>aWpElDmioIw</td>\n      <td>Kuja Dispensary</td>\n      <td>13724</td>\n      <td>North sakwa Ward</td>\n      <td>Awendo Sub County</td>\n      <td>Migori County</td>\n      <td>pkShOkgNQt2</td>\n      <td>2020Q2</td>\n      <td>9</td>\n      <td>10.0</td>\n      <td>(M)</td>\n      <td>20-24</td>\n    </tr>\n    <tr>\n      <th>3</th>\n      <td>aWpElDmioIw</td>\n      <td>Kuja Dispensary</td>\n      <td>13724</td>\n      <td>North sakwa Ward</td>\n      <td>Awendo Sub County</td>\n      <td>Migori County</td>\n      <td>YXJf27jfkvS</td>\n      <td>2019Q4</td>\n      <td>7</td>\n      <td>39.0</td>\n      <td>(F)</td>\n      <td>15-19</td>\n    </tr>\n    <tr>\n      <th>4</th>\n      <td>B8Y8xuk4MFf</td>\n      <td>Ngo'nga Dispensary</td>\n      <td>17052</td>\n      <td>South sakwa Ward</td>\n      <td>Awendo Sub County</td>\n      <td>Migori County</td>\n      <td>gMICOUtzqRb</td>\n      <td>2019Q4</td>\n      <td>3</td>\n      <td>5.0</td>\n      <td>(F)</td>\n      <td>10-14</td>\n    </tr>\n  </tbody>\n</table>\n</div>"
     },
     "execution_count": 284,
     "metadata": {},
     "output_type": "execute_result"
    }
   ],
   "source": [
    "import pandas as pd\n",
    "import seaborn as sns\n",
    "# Merge HTS  and PMTCT data\n",
    "\n",
    "hts_df = pd.read_csv('./clean_data/clean_hts.csv')\n",
    "pmtct_df = pd.read_csv('./clean_data/merged_pmtct.csv')\n",
    "\n",
    "# hts_merged = pd.concat([hts_migori, hts_kakamega], ignore_index=True)\n",
    "hts_df.head()"
   ]
  },
  {
   "cell_type": "code",
   "execution_count": 239,
   "metadata": {
    "pycharm": {
     "name": "#%%\n"
    }
   },
   "outputs": [
    {
     "data": {
      "text/plain": "                    dhis2_value  datim_value\nfacilityuid period                          \nAKCk8JAY0dK 2019Q4          168        200.0\n            2020Q1          234        280.0\n            2020Q2          101        149.0\nAbSJUr5oge2 2019Q4          322        541.0\n            2020Q1          415        683.0\n...                         ...          ...\nzvicDsjeRbr 2020Q1           32         44.0\n            2020Q2           21         52.0\nzwV7ekHDAwe 2019Q4          739        890.0\n            2020Q1          455        510.0\n            2020Q2          396        333.0\n\n[858 rows x 2 columns]",
      "text/html": "<div>\n<style scoped>\n    .dataframe tbody tr th:only-of-type {\n        vertical-align: middle;\n    }\n\n    .dataframe tbody tr th {\n        vertical-align: top;\n    }\n\n    .dataframe thead th {\n        text-align: right;\n    }\n</style>\n<table border=\"1\" class=\"dataframe\">\n  <thead>\n    <tr style=\"text-align: right;\">\n      <th></th>\n      <th></th>\n      <th>dhis2_value</th>\n      <th>datim_value</th>\n    </tr>\n    <tr>\n      <th>facilityuid</th>\n      <th>period</th>\n      <th></th>\n      <th></th>\n    </tr>\n  </thead>\n  <tbody>\n    <tr>\n      <th rowspan=\"3\" valign=\"top\">AKCk8JAY0dK</th>\n      <th>2019Q4</th>\n      <td>168</td>\n      <td>200.0</td>\n    </tr>\n    <tr>\n      <th>2020Q1</th>\n      <td>234</td>\n      <td>280.0</td>\n    </tr>\n    <tr>\n      <th>2020Q2</th>\n      <td>101</td>\n      <td>149.0</td>\n    </tr>\n    <tr>\n      <th rowspan=\"2\" valign=\"top\">AbSJUr5oge2</th>\n      <th>2019Q4</th>\n      <td>322</td>\n      <td>541.0</td>\n    </tr>\n    <tr>\n      <th>2020Q1</th>\n      <td>415</td>\n      <td>683.0</td>\n    </tr>\n    <tr>\n      <th>...</th>\n      <th>...</th>\n      <td>...</td>\n      <td>...</td>\n    </tr>\n    <tr>\n      <th rowspan=\"2\" valign=\"top\">zvicDsjeRbr</th>\n      <th>2020Q1</th>\n      <td>32</td>\n      <td>44.0</td>\n    </tr>\n    <tr>\n      <th>2020Q2</th>\n      <td>21</td>\n      <td>52.0</td>\n    </tr>\n    <tr>\n      <th rowspan=\"3\" valign=\"top\">zwV7ekHDAwe</th>\n      <th>2019Q4</th>\n      <td>739</td>\n      <td>890.0</td>\n    </tr>\n    <tr>\n      <th>2020Q1</th>\n      <td>455</td>\n      <td>510.0</td>\n    </tr>\n    <tr>\n      <th>2020Q2</th>\n      <td>396</td>\n      <td>333.0</td>\n    </tr>\n  </tbody>\n</table>\n<p>858 rows × 2 columns</p>\n</div>"
     },
     "execution_count": 239,
     "metadata": {},
     "output_type": "execute_result"
    }
   ],
   "source": [
    "hts_df = hts_df.groupby(['facilityuid', 'period']).agg({'dhis2_value': 'sum', 'datim_value': 'sum'})\n",
    "\n",
    "hts_df"
   ]
  },
  {
   "cell_type": "code",
   "execution_count": 240,
   "metadata": {
    "pycharm": {
     "name": "#%%\n"
    }
   },
   "outputs": [
    {
     "data": {
      "text/plain": "     facilityuid  period  dhis2_value  datim_value\n0    AKCk8JAY0dK  2019Q4          168        200.0\n1    AKCk8JAY0dK  2020Q1          234        280.0\n2    AKCk8JAY0dK  2020Q2          101        149.0\n3    AbSJUr5oge2  2019Q4          322        541.0\n4    AbSJUr5oge2  2020Q1          415        683.0\n..           ...     ...          ...          ...\n853  zvicDsjeRbr  2020Q1           32         44.0\n854  zvicDsjeRbr  2020Q2           21         52.0\n855  zwV7ekHDAwe  2019Q4          739        890.0\n856  zwV7ekHDAwe  2020Q1          455        510.0\n857  zwV7ekHDAwe  2020Q2          396        333.0\n\n[858 rows x 4 columns]",
      "text/html": "<div>\n<style scoped>\n    .dataframe tbody tr th:only-of-type {\n        vertical-align: middle;\n    }\n\n    .dataframe tbody tr th {\n        vertical-align: top;\n    }\n\n    .dataframe thead th {\n        text-align: right;\n    }\n</style>\n<table border=\"1\" class=\"dataframe\">\n  <thead>\n    <tr style=\"text-align: right;\">\n      <th></th>\n      <th>facilityuid</th>\n      <th>period</th>\n      <th>dhis2_value</th>\n      <th>datim_value</th>\n    </tr>\n  </thead>\n  <tbody>\n    <tr>\n      <th>0</th>\n      <td>AKCk8JAY0dK</td>\n      <td>2019Q4</td>\n      <td>168</td>\n      <td>200.0</td>\n    </tr>\n    <tr>\n      <th>1</th>\n      <td>AKCk8JAY0dK</td>\n      <td>2020Q1</td>\n      <td>234</td>\n      <td>280.0</td>\n    </tr>\n    <tr>\n      <th>2</th>\n      <td>AKCk8JAY0dK</td>\n      <td>2020Q2</td>\n      <td>101</td>\n      <td>149.0</td>\n    </tr>\n    <tr>\n      <th>3</th>\n      <td>AbSJUr5oge2</td>\n      <td>2019Q4</td>\n      <td>322</td>\n      <td>541.0</td>\n    </tr>\n    <tr>\n      <th>4</th>\n      <td>AbSJUr5oge2</td>\n      <td>2020Q1</td>\n      <td>415</td>\n      <td>683.0</td>\n    </tr>\n    <tr>\n      <th>...</th>\n      <td>...</td>\n      <td>...</td>\n      <td>...</td>\n      <td>...</td>\n    </tr>\n    <tr>\n      <th>853</th>\n      <td>zvicDsjeRbr</td>\n      <td>2020Q1</td>\n      <td>32</td>\n      <td>44.0</td>\n    </tr>\n    <tr>\n      <th>854</th>\n      <td>zvicDsjeRbr</td>\n      <td>2020Q2</td>\n      <td>21</td>\n      <td>52.0</td>\n    </tr>\n    <tr>\n      <th>855</th>\n      <td>zwV7ekHDAwe</td>\n      <td>2019Q4</td>\n      <td>739</td>\n      <td>890.0</td>\n    </tr>\n    <tr>\n      <th>856</th>\n      <td>zwV7ekHDAwe</td>\n      <td>2020Q1</td>\n      <td>455</td>\n      <td>510.0</td>\n    </tr>\n    <tr>\n      <th>857</th>\n      <td>zwV7ekHDAwe</td>\n      <td>2020Q2</td>\n      <td>396</td>\n      <td>333.0</td>\n    </tr>\n  </tbody>\n</table>\n<p>858 rows × 4 columns</p>\n</div>"
     },
     "execution_count": 240,
     "metadata": {},
     "output_type": "execute_result"
    }
   ],
   "source": [
    "hts_df = hts_df.reset_index()\n",
    "hts_df"
   ]
  },
  {
   "cell_type": "code",
   "execution_count": 241,
   "metadata": {
    "pycharm": {
     "name": "#%%\n"
    }
   },
   "outputs": [
    {
     "data": {
      "text/plain": "     facilityuid  period  total_dhis2_value_hts  total_datim_value_hts\n0    AKCk8JAY0dK  2019Q4                    168                  200.0\n1    AKCk8JAY0dK  2020Q1                    234                  280.0\n2    AKCk8JAY0dK  2020Q2                    101                  149.0\n3    AbSJUr5oge2  2019Q4                    322                  541.0\n4    AbSJUr5oge2  2020Q1                    415                  683.0\n..           ...     ...                    ...                    ...\n853  zvicDsjeRbr  2020Q1                     32                   44.0\n854  zvicDsjeRbr  2020Q2                     21                   52.0\n855  zwV7ekHDAwe  2019Q4                    739                  890.0\n856  zwV7ekHDAwe  2020Q1                    455                  510.0\n857  zwV7ekHDAwe  2020Q2                    396                  333.0\n\n[858 rows x 4 columns]",
      "text/html": "<div>\n<style scoped>\n    .dataframe tbody tr th:only-of-type {\n        vertical-align: middle;\n    }\n\n    .dataframe tbody tr th {\n        vertical-align: top;\n    }\n\n    .dataframe thead th {\n        text-align: right;\n    }\n</style>\n<table border=\"1\" class=\"dataframe\">\n  <thead>\n    <tr style=\"text-align: right;\">\n      <th></th>\n      <th>facilityuid</th>\n      <th>period</th>\n      <th>total_dhis2_value_hts</th>\n      <th>total_datim_value_hts</th>\n    </tr>\n  </thead>\n  <tbody>\n    <tr>\n      <th>0</th>\n      <td>AKCk8JAY0dK</td>\n      <td>2019Q4</td>\n      <td>168</td>\n      <td>200.0</td>\n    </tr>\n    <tr>\n      <th>1</th>\n      <td>AKCk8JAY0dK</td>\n      <td>2020Q1</td>\n      <td>234</td>\n      <td>280.0</td>\n    </tr>\n    <tr>\n      <th>2</th>\n      <td>AKCk8JAY0dK</td>\n      <td>2020Q2</td>\n      <td>101</td>\n      <td>149.0</td>\n    </tr>\n    <tr>\n      <th>3</th>\n      <td>AbSJUr5oge2</td>\n      <td>2019Q4</td>\n      <td>322</td>\n      <td>541.0</td>\n    </tr>\n    <tr>\n      <th>4</th>\n      <td>AbSJUr5oge2</td>\n      <td>2020Q1</td>\n      <td>415</td>\n      <td>683.0</td>\n    </tr>\n    <tr>\n      <th>...</th>\n      <td>...</td>\n      <td>...</td>\n      <td>...</td>\n      <td>...</td>\n    </tr>\n    <tr>\n      <th>853</th>\n      <td>zvicDsjeRbr</td>\n      <td>2020Q1</td>\n      <td>32</td>\n      <td>44.0</td>\n    </tr>\n    <tr>\n      <th>854</th>\n      <td>zvicDsjeRbr</td>\n      <td>2020Q2</td>\n      <td>21</td>\n      <td>52.0</td>\n    </tr>\n    <tr>\n      <th>855</th>\n      <td>zwV7ekHDAwe</td>\n      <td>2019Q4</td>\n      <td>739</td>\n      <td>890.0</td>\n    </tr>\n    <tr>\n      <th>856</th>\n      <td>zwV7ekHDAwe</td>\n      <td>2020Q1</td>\n      <td>455</td>\n      <td>510.0</td>\n    </tr>\n    <tr>\n      <th>857</th>\n      <td>zwV7ekHDAwe</td>\n      <td>2020Q2</td>\n      <td>396</td>\n      <td>333.0</td>\n    </tr>\n  </tbody>\n</table>\n<p>858 rows × 4 columns</p>\n</div>"
     },
     "execution_count": 241,
     "metadata": {},
     "output_type": "execute_result"
    }
   ],
   "source": [
    "hts_df = hts_df.rename(columns={'dhis2_value': 'total_dhis2_value_hts', 'datim_value': 'total_datim_value_hts'})\n",
    "hts_df"
   ]
  },
  {
   "cell_type": "code",
   "execution_count": 242,
   "metadata": {
    "pycharm": {
     "name": "#%%\n"
    }
   },
   "outputs": [
    {
     "data": {
      "text/plain": "     facilityuid  period  total_dhis2_value_hts  total_datim_value_hts  \\\n0    AKCk8JAY0dK  2019Q4                    168                  200.0   \n1    AKCk8JAY0dK  2020Q1                    234                  280.0   \n2    AKCk8JAY0dK  2020Q2                    101                  149.0   \n3    AbSJUr5oge2  2019Q4                    322                  541.0   \n4    AbSJUr5oge2  2020Q1                    415                  683.0   \n..           ...     ...                    ...                    ...   \n853  zvicDsjeRbr  2020Q1                     32                   44.0   \n854  zvicDsjeRbr  2020Q2                     21                   52.0   \n855  zwV7ekHDAwe  2019Q4                    739                  890.0   \n856  zwV7ekHDAwe  2020Q1                    455                  510.0   \n857  zwV7ekHDAwe  2020Q2                    396                  333.0   \n\n     difference_hts  \n0             -32.0  \n1             -46.0  \n2             -48.0  \n3            -219.0  \n4            -268.0  \n..              ...  \n853           -12.0  \n854           -31.0  \n855          -151.0  \n856           -55.0  \n857            63.0  \n\n[858 rows x 5 columns]",
      "text/html": "<div>\n<style scoped>\n    .dataframe tbody tr th:only-of-type {\n        vertical-align: middle;\n    }\n\n    .dataframe tbody tr th {\n        vertical-align: top;\n    }\n\n    .dataframe thead th {\n        text-align: right;\n    }\n</style>\n<table border=\"1\" class=\"dataframe\">\n  <thead>\n    <tr style=\"text-align: right;\">\n      <th></th>\n      <th>facilityuid</th>\n      <th>period</th>\n      <th>total_dhis2_value_hts</th>\n      <th>total_datim_value_hts</th>\n      <th>difference_hts</th>\n    </tr>\n  </thead>\n  <tbody>\n    <tr>\n      <th>0</th>\n      <td>AKCk8JAY0dK</td>\n      <td>2019Q4</td>\n      <td>168</td>\n      <td>200.0</td>\n      <td>-32.0</td>\n    </tr>\n    <tr>\n      <th>1</th>\n      <td>AKCk8JAY0dK</td>\n      <td>2020Q1</td>\n      <td>234</td>\n      <td>280.0</td>\n      <td>-46.0</td>\n    </tr>\n    <tr>\n      <th>2</th>\n      <td>AKCk8JAY0dK</td>\n      <td>2020Q2</td>\n      <td>101</td>\n      <td>149.0</td>\n      <td>-48.0</td>\n    </tr>\n    <tr>\n      <th>3</th>\n      <td>AbSJUr5oge2</td>\n      <td>2019Q4</td>\n      <td>322</td>\n      <td>541.0</td>\n      <td>-219.0</td>\n    </tr>\n    <tr>\n      <th>4</th>\n      <td>AbSJUr5oge2</td>\n      <td>2020Q1</td>\n      <td>415</td>\n      <td>683.0</td>\n      <td>-268.0</td>\n    </tr>\n    <tr>\n      <th>...</th>\n      <td>...</td>\n      <td>...</td>\n      <td>...</td>\n      <td>...</td>\n      <td>...</td>\n    </tr>\n    <tr>\n      <th>853</th>\n      <td>zvicDsjeRbr</td>\n      <td>2020Q1</td>\n      <td>32</td>\n      <td>44.0</td>\n      <td>-12.0</td>\n    </tr>\n    <tr>\n      <th>854</th>\n      <td>zvicDsjeRbr</td>\n      <td>2020Q2</td>\n      <td>21</td>\n      <td>52.0</td>\n      <td>-31.0</td>\n    </tr>\n    <tr>\n      <th>855</th>\n      <td>zwV7ekHDAwe</td>\n      <td>2019Q4</td>\n      <td>739</td>\n      <td>890.0</td>\n      <td>-151.0</td>\n    </tr>\n    <tr>\n      <th>856</th>\n      <td>zwV7ekHDAwe</td>\n      <td>2020Q1</td>\n      <td>455</td>\n      <td>510.0</td>\n      <td>-55.0</td>\n    </tr>\n    <tr>\n      <th>857</th>\n      <td>zwV7ekHDAwe</td>\n      <td>2020Q2</td>\n      <td>396</td>\n      <td>333.0</td>\n      <td>63.0</td>\n    </tr>\n  </tbody>\n</table>\n<p>858 rows × 5 columns</p>\n</div>"
     },
     "execution_count": 242,
     "metadata": {},
     "output_type": "execute_result"
    }
   ],
   "source": [
    "hts_df['difference_hts'] = hts_df['total_dhis2_value_hts'] - hts_df['total_datim_value_hts']\n",
    "hts_df"
   ]
  },
  {
   "cell_type": "code",
   "execution_count": 243,
   "metadata": {
    "pycharm": {
     "name": "#%%\n"
    }
   },
   "outputs": [
    {
     "data": {
      "text/plain": "     facilityuid  period  total_dhis2_value_hts  total_datim_value_hts  \\\n0    AKCk8JAY0dK  2019Q4                    168                  200.0   \n1    AKCk8JAY0dK  2020Q1                    234                  280.0   \n2    AKCk8JAY0dK  2020Q2                    101                  149.0   \n3    AbSJUr5oge2  2019Q4                    322                  541.0   \n4    AbSJUr5oge2  2020Q1                    415                  683.0   \n..           ...     ...                    ...                    ...   \n853  zvicDsjeRbr  2020Q1                     32                   44.0   \n854  zvicDsjeRbr  2020Q2                     21                   52.0   \n855  zwV7ekHDAwe  2019Q4                    739                  890.0   \n856  zwV7ekHDAwe  2020Q1                    455                  510.0   \n857  zwV7ekHDAwe  2020Q2                    396                  333.0   \n\n     difference_hts  percentage_difference_hts  \n0             -32.0                  16.000000  \n1             -46.0                  16.428571  \n2             -48.0                  32.214765  \n3            -219.0                  40.480591  \n4            -268.0                  39.238653  \n..              ...                        ...  \n853           -12.0                  27.272727  \n854           -31.0                  59.615385  \n855          -151.0                  16.966292  \n856           -55.0                  10.784314  \n857            63.0                  18.918919  \n\n[858 rows x 6 columns]",
      "text/html": "<div>\n<style scoped>\n    .dataframe tbody tr th:only-of-type {\n        vertical-align: middle;\n    }\n\n    .dataframe tbody tr th {\n        vertical-align: top;\n    }\n\n    .dataframe thead th {\n        text-align: right;\n    }\n</style>\n<table border=\"1\" class=\"dataframe\">\n  <thead>\n    <tr style=\"text-align: right;\">\n      <th></th>\n      <th>facilityuid</th>\n      <th>period</th>\n      <th>total_dhis2_value_hts</th>\n      <th>total_datim_value_hts</th>\n      <th>difference_hts</th>\n      <th>percentage_difference_hts</th>\n    </tr>\n  </thead>\n  <tbody>\n    <tr>\n      <th>0</th>\n      <td>AKCk8JAY0dK</td>\n      <td>2019Q4</td>\n      <td>168</td>\n      <td>200.0</td>\n      <td>-32.0</td>\n      <td>16.000000</td>\n    </tr>\n    <tr>\n      <th>1</th>\n      <td>AKCk8JAY0dK</td>\n      <td>2020Q1</td>\n      <td>234</td>\n      <td>280.0</td>\n      <td>-46.0</td>\n      <td>16.428571</td>\n    </tr>\n    <tr>\n      <th>2</th>\n      <td>AKCk8JAY0dK</td>\n      <td>2020Q2</td>\n      <td>101</td>\n      <td>149.0</td>\n      <td>-48.0</td>\n      <td>32.214765</td>\n    </tr>\n    <tr>\n      <th>3</th>\n      <td>AbSJUr5oge2</td>\n      <td>2019Q4</td>\n      <td>322</td>\n      <td>541.0</td>\n      <td>-219.0</td>\n      <td>40.480591</td>\n    </tr>\n    <tr>\n      <th>4</th>\n      <td>AbSJUr5oge2</td>\n      <td>2020Q1</td>\n      <td>415</td>\n      <td>683.0</td>\n      <td>-268.0</td>\n      <td>39.238653</td>\n    </tr>\n    <tr>\n      <th>...</th>\n      <td>...</td>\n      <td>...</td>\n      <td>...</td>\n      <td>...</td>\n      <td>...</td>\n      <td>...</td>\n    </tr>\n    <tr>\n      <th>853</th>\n      <td>zvicDsjeRbr</td>\n      <td>2020Q1</td>\n      <td>32</td>\n      <td>44.0</td>\n      <td>-12.0</td>\n      <td>27.272727</td>\n    </tr>\n    <tr>\n      <th>854</th>\n      <td>zvicDsjeRbr</td>\n      <td>2020Q2</td>\n      <td>21</td>\n      <td>52.0</td>\n      <td>-31.0</td>\n      <td>59.615385</td>\n    </tr>\n    <tr>\n      <th>855</th>\n      <td>zwV7ekHDAwe</td>\n      <td>2019Q4</td>\n      <td>739</td>\n      <td>890.0</td>\n      <td>-151.0</td>\n      <td>16.966292</td>\n    </tr>\n    <tr>\n      <th>856</th>\n      <td>zwV7ekHDAwe</td>\n      <td>2020Q1</td>\n      <td>455</td>\n      <td>510.0</td>\n      <td>-55.0</td>\n      <td>10.784314</td>\n    </tr>\n    <tr>\n      <th>857</th>\n      <td>zwV7ekHDAwe</td>\n      <td>2020Q2</td>\n      <td>396</td>\n      <td>333.0</td>\n      <td>63.0</td>\n      <td>18.918919</td>\n    </tr>\n  </tbody>\n</table>\n<p>858 rows × 6 columns</p>\n</div>"
     },
     "execution_count": 243,
     "metadata": {},
     "output_type": "execute_result"
    }
   ],
   "source": [
    "hts_df['percentage_difference_hts'] = abs(hts_df['difference_hts'] / hts_df['total_datim_value_hts'] * 100)\n",
    "hts_df"
   ]
  },
  {
   "attachments": {},
   "cell_type": "markdown",
   "metadata": {
    "pycharm": {
     "name": "#%% md\n"
    }
   },
   "source": [
    "# PMTCT"
   ]
  },
  {
   "cell_type": "code",
   "execution_count": 244,
   "metadata": {
    "pycharm": {
     "name": "#%%\n"
    }
   },
   "outputs": [
    {
     "data": {
      "text/plain": "   facilityuid                       facility     code               ward  \\\n0  SZnkrFoimi2         Kugitimo Health Centre  13723.0  Nyabasi east Ward   \n1  xt2lltkTLza  Ntimaru Sub-District Hospital  13858.0  Ntimaru west Ward   \n2  NoZjHcIDHGW      Kegonga District Hospital  13663.0  Nyabasi east Ward   \n3  SZnkrFoimi2         Kugitimo Health Centre  13723.0  Nyabasi east Ward   \n4  xt2lltkTLza  Ntimaru Sub-District Hospital  13858.0  Ntimaru west Ward   \n\n              sub_county         county    indicator  \\\n0  Kuria East Sub County  Migori County  ETX9cUWF43c   \n1  Kuria East Sub County  Migori County  ETX9cUWF43c   \n2  Kuria East Sub County  Migori County  qSgLzXh46n9   \n3  Kuria East Sub County  Migori County  ETX9cUWF43c   \n4  Kuria East Sub County  Migori County  ETX9cUWF43c   \n\n                                      indicator_name  period  dhis2_value  \\\n0         MOH 731  Initial test at ANC       HV02-04  2020Q1         64.0   \n1         MOH 731  Initial test at ANC       HV02-04  2019Q4        119.0   \n2  MOH 731  Known Positive at 1st  ANC       HV02-03  2020Q2          1.0   \n3         MOH 731  Initial test at ANC       HV02-04  2020Q2         46.0   \n4         MOH 731  Initial test at ANC       HV02-04  2020Q1        194.0   \n\n   datim_value  \n0         64.0  \n1        124.0  \n2          1.0  \n3         45.0  \n4        191.0  ",
      "text/html": "<div>\n<style scoped>\n    .dataframe tbody tr th:only-of-type {\n        vertical-align: middle;\n    }\n\n    .dataframe tbody tr th {\n        vertical-align: top;\n    }\n\n    .dataframe thead th {\n        text-align: right;\n    }\n</style>\n<table border=\"1\" class=\"dataframe\">\n  <thead>\n    <tr style=\"text-align: right;\">\n      <th></th>\n      <th>facilityuid</th>\n      <th>facility</th>\n      <th>code</th>\n      <th>ward</th>\n      <th>sub_county</th>\n      <th>county</th>\n      <th>indicator</th>\n      <th>indicator_name</th>\n      <th>period</th>\n      <th>dhis2_value</th>\n      <th>datim_value</th>\n    </tr>\n  </thead>\n  <tbody>\n    <tr>\n      <th>0</th>\n      <td>SZnkrFoimi2</td>\n      <td>Kugitimo Health Centre</td>\n      <td>13723.0</td>\n      <td>Nyabasi east Ward</td>\n      <td>Kuria East Sub County</td>\n      <td>Migori County</td>\n      <td>ETX9cUWF43c</td>\n      <td>MOH 731  Initial test at ANC       HV02-04</td>\n      <td>2020Q1</td>\n      <td>64.0</td>\n      <td>64.0</td>\n    </tr>\n    <tr>\n      <th>1</th>\n      <td>xt2lltkTLza</td>\n      <td>Ntimaru Sub-District Hospital</td>\n      <td>13858.0</td>\n      <td>Ntimaru west Ward</td>\n      <td>Kuria East Sub County</td>\n      <td>Migori County</td>\n      <td>ETX9cUWF43c</td>\n      <td>MOH 731  Initial test at ANC       HV02-04</td>\n      <td>2019Q4</td>\n      <td>119.0</td>\n      <td>124.0</td>\n    </tr>\n    <tr>\n      <th>2</th>\n      <td>NoZjHcIDHGW</td>\n      <td>Kegonga District Hospital</td>\n      <td>13663.0</td>\n      <td>Nyabasi east Ward</td>\n      <td>Kuria East Sub County</td>\n      <td>Migori County</td>\n      <td>qSgLzXh46n9</td>\n      <td>MOH 731  Known Positive at 1st  ANC       HV02-03</td>\n      <td>2020Q2</td>\n      <td>1.0</td>\n      <td>1.0</td>\n    </tr>\n    <tr>\n      <th>3</th>\n      <td>SZnkrFoimi2</td>\n      <td>Kugitimo Health Centre</td>\n      <td>13723.0</td>\n      <td>Nyabasi east Ward</td>\n      <td>Kuria East Sub County</td>\n      <td>Migori County</td>\n      <td>ETX9cUWF43c</td>\n      <td>MOH 731  Initial test at ANC       HV02-04</td>\n      <td>2020Q2</td>\n      <td>46.0</td>\n      <td>45.0</td>\n    </tr>\n    <tr>\n      <th>4</th>\n      <td>xt2lltkTLza</td>\n      <td>Ntimaru Sub-District Hospital</td>\n      <td>13858.0</td>\n      <td>Ntimaru west Ward</td>\n      <td>Kuria East Sub County</td>\n      <td>Migori County</td>\n      <td>ETX9cUWF43c</td>\n      <td>MOH 731  Initial test at ANC       HV02-04</td>\n      <td>2020Q1</td>\n      <td>194.0</td>\n      <td>191.0</td>\n    </tr>\n  </tbody>\n</table>\n</div>"
     },
     "execution_count": 244,
     "metadata": {},
     "output_type": "execute_result"
    }
   ],
   "source": [
    "# hts_merged = pd.concat([hts_migori, hts_kakamega], ignore_index=True)\n",
    "pmtct_df.head()"
   ]
  },
  {
   "cell_type": "code",
   "execution_count": 245,
   "metadata": {
    "pycharm": {
     "name": "#%%\n"
    }
   },
   "outputs": [
    {
     "data": {
      "text/plain": "                    dhis2_value  datim_value\nfacilityuid period                          \nAKCk8JAY0dK 2019Q4         31.0         31.0\n            2020Q1         46.0         46.0\n            2020Q2         49.0         49.0\nAbSJUr5oge2 2019Q4        217.0        213.0\n            2020Q1        272.0        267.0\n...                         ...          ...\nzvicDsjeRbr 2020Q1         20.0         20.0\n            2020Q2         31.0         29.0\nzwV7ekHDAwe 2019Q4         66.0         66.0\n            2020Q1         93.0         85.0\n            2020Q2         57.0         56.0\n\n[821 rows x 2 columns]",
      "text/html": "<div>\n<style scoped>\n    .dataframe tbody tr th:only-of-type {\n        vertical-align: middle;\n    }\n\n    .dataframe tbody tr th {\n        vertical-align: top;\n    }\n\n    .dataframe thead th {\n        text-align: right;\n    }\n</style>\n<table border=\"1\" class=\"dataframe\">\n  <thead>\n    <tr style=\"text-align: right;\">\n      <th></th>\n      <th></th>\n      <th>dhis2_value</th>\n      <th>datim_value</th>\n    </tr>\n    <tr>\n      <th>facilityuid</th>\n      <th>period</th>\n      <th></th>\n      <th></th>\n    </tr>\n  </thead>\n  <tbody>\n    <tr>\n      <th rowspan=\"3\" valign=\"top\">AKCk8JAY0dK</th>\n      <th>2019Q4</th>\n      <td>31.0</td>\n      <td>31.0</td>\n    </tr>\n    <tr>\n      <th>2020Q1</th>\n      <td>46.0</td>\n      <td>46.0</td>\n    </tr>\n    <tr>\n      <th>2020Q2</th>\n      <td>49.0</td>\n      <td>49.0</td>\n    </tr>\n    <tr>\n      <th rowspan=\"2\" valign=\"top\">AbSJUr5oge2</th>\n      <th>2019Q4</th>\n      <td>217.0</td>\n      <td>213.0</td>\n    </tr>\n    <tr>\n      <th>2020Q1</th>\n      <td>272.0</td>\n      <td>267.0</td>\n    </tr>\n    <tr>\n      <th>...</th>\n      <th>...</th>\n      <td>...</td>\n      <td>...</td>\n    </tr>\n    <tr>\n      <th rowspan=\"2\" valign=\"top\">zvicDsjeRbr</th>\n      <th>2020Q1</th>\n      <td>20.0</td>\n      <td>20.0</td>\n    </tr>\n    <tr>\n      <th>2020Q2</th>\n      <td>31.0</td>\n      <td>29.0</td>\n    </tr>\n    <tr>\n      <th rowspan=\"3\" valign=\"top\">zwV7ekHDAwe</th>\n      <th>2019Q4</th>\n      <td>66.0</td>\n      <td>66.0</td>\n    </tr>\n    <tr>\n      <th>2020Q1</th>\n      <td>93.0</td>\n      <td>85.0</td>\n    </tr>\n    <tr>\n      <th>2020Q2</th>\n      <td>57.0</td>\n      <td>56.0</td>\n    </tr>\n  </tbody>\n</table>\n<p>821 rows × 2 columns</p>\n</div>"
     },
     "execution_count": 245,
     "metadata": {},
     "output_type": "execute_result"
    }
   ],
   "source": [
    "pmtct_df = pmtct_df.groupby(['facilityuid', 'period']).agg({'dhis2_value': 'sum', 'datim_value': 'sum'})\n",
    "\n",
    "pmtct_df"
   ]
  },
  {
   "cell_type": "code",
   "execution_count": 246,
   "metadata": {
    "pycharm": {
     "name": "#%%\n"
    }
   },
   "outputs": [
    {
     "data": {
      "text/plain": "     facilityuid  period  dhis2_value  datim_value\n0    AKCk8JAY0dK  2019Q4         31.0         31.0\n1    AKCk8JAY0dK  2020Q1         46.0         46.0\n2    AKCk8JAY0dK  2020Q2         49.0         49.0\n3    AbSJUr5oge2  2019Q4        217.0        213.0\n4    AbSJUr5oge2  2020Q1        272.0        267.0\n..           ...     ...          ...          ...\n816  zvicDsjeRbr  2020Q1         20.0         20.0\n817  zvicDsjeRbr  2020Q2         31.0         29.0\n818  zwV7ekHDAwe  2019Q4         66.0         66.0\n819  zwV7ekHDAwe  2020Q1         93.0         85.0\n820  zwV7ekHDAwe  2020Q2         57.0         56.0\n\n[821 rows x 4 columns]",
      "text/html": "<div>\n<style scoped>\n    .dataframe tbody tr th:only-of-type {\n        vertical-align: middle;\n    }\n\n    .dataframe tbody tr th {\n        vertical-align: top;\n    }\n\n    .dataframe thead th {\n        text-align: right;\n    }\n</style>\n<table border=\"1\" class=\"dataframe\">\n  <thead>\n    <tr style=\"text-align: right;\">\n      <th></th>\n      <th>facilityuid</th>\n      <th>period</th>\n      <th>dhis2_value</th>\n      <th>datim_value</th>\n    </tr>\n  </thead>\n  <tbody>\n    <tr>\n      <th>0</th>\n      <td>AKCk8JAY0dK</td>\n      <td>2019Q4</td>\n      <td>31.0</td>\n      <td>31.0</td>\n    </tr>\n    <tr>\n      <th>1</th>\n      <td>AKCk8JAY0dK</td>\n      <td>2020Q1</td>\n      <td>46.0</td>\n      <td>46.0</td>\n    </tr>\n    <tr>\n      <th>2</th>\n      <td>AKCk8JAY0dK</td>\n      <td>2020Q2</td>\n      <td>49.0</td>\n      <td>49.0</td>\n    </tr>\n    <tr>\n      <th>3</th>\n      <td>AbSJUr5oge2</td>\n      <td>2019Q4</td>\n      <td>217.0</td>\n      <td>213.0</td>\n    </tr>\n    <tr>\n      <th>4</th>\n      <td>AbSJUr5oge2</td>\n      <td>2020Q1</td>\n      <td>272.0</td>\n      <td>267.0</td>\n    </tr>\n    <tr>\n      <th>...</th>\n      <td>...</td>\n      <td>...</td>\n      <td>...</td>\n      <td>...</td>\n    </tr>\n    <tr>\n      <th>816</th>\n      <td>zvicDsjeRbr</td>\n      <td>2020Q1</td>\n      <td>20.0</td>\n      <td>20.0</td>\n    </tr>\n    <tr>\n      <th>817</th>\n      <td>zvicDsjeRbr</td>\n      <td>2020Q2</td>\n      <td>31.0</td>\n      <td>29.0</td>\n    </tr>\n    <tr>\n      <th>818</th>\n      <td>zwV7ekHDAwe</td>\n      <td>2019Q4</td>\n      <td>66.0</td>\n      <td>66.0</td>\n    </tr>\n    <tr>\n      <th>819</th>\n      <td>zwV7ekHDAwe</td>\n      <td>2020Q1</td>\n      <td>93.0</td>\n      <td>85.0</td>\n    </tr>\n    <tr>\n      <th>820</th>\n      <td>zwV7ekHDAwe</td>\n      <td>2020Q2</td>\n      <td>57.0</td>\n      <td>56.0</td>\n    </tr>\n  </tbody>\n</table>\n<p>821 rows × 4 columns</p>\n</div>"
     },
     "execution_count": 246,
     "metadata": {},
     "output_type": "execute_result"
    }
   ],
   "source": [
    "pmtct_df = pmtct_df.reset_index()\n",
    "pmtct_df"
   ]
  },
  {
   "cell_type": "code",
   "execution_count": 247,
   "metadata": {
    "pycharm": {
     "name": "#%%\n"
    }
   },
   "outputs": [
    {
     "data": {
      "text/plain": "     facilityuid  period  total_dhis2_value_pmtct  total_datim_value_pmtct\n0    AKCk8JAY0dK  2019Q4                     31.0                     31.0\n1    AKCk8JAY0dK  2020Q1                     46.0                     46.0\n2    AKCk8JAY0dK  2020Q2                     49.0                     49.0\n3    AbSJUr5oge2  2019Q4                    217.0                    213.0\n4    AbSJUr5oge2  2020Q1                    272.0                    267.0\n..           ...     ...                      ...                      ...\n816  zvicDsjeRbr  2020Q1                     20.0                     20.0\n817  zvicDsjeRbr  2020Q2                     31.0                     29.0\n818  zwV7ekHDAwe  2019Q4                     66.0                     66.0\n819  zwV7ekHDAwe  2020Q1                     93.0                     85.0\n820  zwV7ekHDAwe  2020Q2                     57.0                     56.0\n\n[821 rows x 4 columns]",
      "text/html": "<div>\n<style scoped>\n    .dataframe tbody tr th:only-of-type {\n        vertical-align: middle;\n    }\n\n    .dataframe tbody tr th {\n        vertical-align: top;\n    }\n\n    .dataframe thead th {\n        text-align: right;\n    }\n</style>\n<table border=\"1\" class=\"dataframe\">\n  <thead>\n    <tr style=\"text-align: right;\">\n      <th></th>\n      <th>facilityuid</th>\n      <th>period</th>\n      <th>total_dhis2_value_pmtct</th>\n      <th>total_datim_value_pmtct</th>\n    </tr>\n  </thead>\n  <tbody>\n    <tr>\n      <th>0</th>\n      <td>AKCk8JAY0dK</td>\n      <td>2019Q4</td>\n      <td>31.0</td>\n      <td>31.0</td>\n    </tr>\n    <tr>\n      <th>1</th>\n      <td>AKCk8JAY0dK</td>\n      <td>2020Q1</td>\n      <td>46.0</td>\n      <td>46.0</td>\n    </tr>\n    <tr>\n      <th>2</th>\n      <td>AKCk8JAY0dK</td>\n      <td>2020Q2</td>\n      <td>49.0</td>\n      <td>49.0</td>\n    </tr>\n    <tr>\n      <th>3</th>\n      <td>AbSJUr5oge2</td>\n      <td>2019Q4</td>\n      <td>217.0</td>\n      <td>213.0</td>\n    </tr>\n    <tr>\n      <th>4</th>\n      <td>AbSJUr5oge2</td>\n      <td>2020Q1</td>\n      <td>272.0</td>\n      <td>267.0</td>\n    </tr>\n    <tr>\n      <th>...</th>\n      <td>...</td>\n      <td>...</td>\n      <td>...</td>\n      <td>...</td>\n    </tr>\n    <tr>\n      <th>816</th>\n      <td>zvicDsjeRbr</td>\n      <td>2020Q1</td>\n      <td>20.0</td>\n      <td>20.0</td>\n    </tr>\n    <tr>\n      <th>817</th>\n      <td>zvicDsjeRbr</td>\n      <td>2020Q2</td>\n      <td>31.0</td>\n      <td>29.0</td>\n    </tr>\n    <tr>\n      <th>818</th>\n      <td>zwV7ekHDAwe</td>\n      <td>2019Q4</td>\n      <td>66.0</td>\n      <td>66.0</td>\n    </tr>\n    <tr>\n      <th>819</th>\n      <td>zwV7ekHDAwe</td>\n      <td>2020Q1</td>\n      <td>93.0</td>\n      <td>85.0</td>\n    </tr>\n    <tr>\n      <th>820</th>\n      <td>zwV7ekHDAwe</td>\n      <td>2020Q2</td>\n      <td>57.0</td>\n      <td>56.0</td>\n    </tr>\n  </tbody>\n</table>\n<p>821 rows × 4 columns</p>\n</div>"
     },
     "execution_count": 247,
     "metadata": {},
     "output_type": "execute_result"
    }
   ],
   "source": [
    "pmtct_df = pmtct_df.rename(columns={'dhis2_value': 'total_dhis2_value_pmtct', 'datim_value': 'total_datim_value_pmtct'})\n",
    "pmtct_df"
   ]
  },
  {
   "cell_type": "code",
   "execution_count": 248,
   "metadata": {
    "pycharm": {
     "name": "#%%\n"
    }
   },
   "outputs": [
    {
     "data": {
      "text/plain": "     facilityuid  period  total_dhis2_value_pmtct  total_datim_value_pmtct  \\\n0    AKCk8JAY0dK  2019Q4                     31.0                     31.0   \n1    AKCk8JAY0dK  2020Q1                     46.0                     46.0   \n2    AKCk8JAY0dK  2020Q2                     49.0                     49.0   \n3    AbSJUr5oge2  2019Q4                    217.0                    213.0   \n4    AbSJUr5oge2  2020Q1                    272.0                    267.0   \n..           ...     ...                      ...                      ...   \n816  zvicDsjeRbr  2020Q1                     20.0                     20.0   \n817  zvicDsjeRbr  2020Q2                     31.0                     29.0   \n818  zwV7ekHDAwe  2019Q4                     66.0                     66.0   \n819  zwV7ekHDAwe  2020Q1                     93.0                     85.0   \n820  zwV7ekHDAwe  2020Q2                     57.0                     56.0   \n\n     difference_pmtct  \n0                 0.0  \n1                 0.0  \n2                 0.0  \n3                 4.0  \n4                 5.0  \n..                ...  \n816               0.0  \n817               2.0  \n818               0.0  \n819               8.0  \n820               1.0  \n\n[821 rows x 5 columns]",
      "text/html": "<div>\n<style scoped>\n    .dataframe tbody tr th:only-of-type {\n        vertical-align: middle;\n    }\n\n    .dataframe tbody tr th {\n        vertical-align: top;\n    }\n\n    .dataframe thead th {\n        text-align: right;\n    }\n</style>\n<table border=\"1\" class=\"dataframe\">\n  <thead>\n    <tr style=\"text-align: right;\">\n      <th></th>\n      <th>facilityuid</th>\n      <th>period</th>\n      <th>total_dhis2_value_pmtct</th>\n      <th>total_datim_value_pmtct</th>\n      <th>difference_pmtct</th>\n    </tr>\n  </thead>\n  <tbody>\n    <tr>\n      <th>0</th>\n      <td>AKCk8JAY0dK</td>\n      <td>2019Q4</td>\n      <td>31.0</td>\n      <td>31.0</td>\n      <td>0.0</td>\n    </tr>\n    <tr>\n      <th>1</th>\n      <td>AKCk8JAY0dK</td>\n      <td>2020Q1</td>\n      <td>46.0</td>\n      <td>46.0</td>\n      <td>0.0</td>\n    </tr>\n    <tr>\n      <th>2</th>\n      <td>AKCk8JAY0dK</td>\n      <td>2020Q2</td>\n      <td>49.0</td>\n      <td>49.0</td>\n      <td>0.0</td>\n    </tr>\n    <tr>\n      <th>3</th>\n      <td>AbSJUr5oge2</td>\n      <td>2019Q4</td>\n      <td>217.0</td>\n      <td>213.0</td>\n      <td>4.0</td>\n    </tr>\n    <tr>\n      <th>4</th>\n      <td>AbSJUr5oge2</td>\n      <td>2020Q1</td>\n      <td>272.0</td>\n      <td>267.0</td>\n      <td>5.0</td>\n    </tr>\n    <tr>\n      <th>...</th>\n      <td>...</td>\n      <td>...</td>\n      <td>...</td>\n      <td>...</td>\n      <td>...</td>\n    </tr>\n    <tr>\n      <th>816</th>\n      <td>zvicDsjeRbr</td>\n      <td>2020Q1</td>\n      <td>20.0</td>\n      <td>20.0</td>\n      <td>0.0</td>\n    </tr>\n    <tr>\n      <th>817</th>\n      <td>zvicDsjeRbr</td>\n      <td>2020Q2</td>\n      <td>31.0</td>\n      <td>29.0</td>\n      <td>2.0</td>\n    </tr>\n    <tr>\n      <th>818</th>\n      <td>zwV7ekHDAwe</td>\n      <td>2019Q4</td>\n      <td>66.0</td>\n      <td>66.0</td>\n      <td>0.0</td>\n    </tr>\n    <tr>\n      <th>819</th>\n      <td>zwV7ekHDAwe</td>\n      <td>2020Q1</td>\n      <td>93.0</td>\n      <td>85.0</td>\n      <td>8.0</td>\n    </tr>\n    <tr>\n      <th>820</th>\n      <td>zwV7ekHDAwe</td>\n      <td>2020Q2</td>\n      <td>57.0</td>\n      <td>56.0</td>\n      <td>1.0</td>\n    </tr>\n  </tbody>\n</table>\n<p>821 rows × 5 columns</p>\n</div>"
     },
     "execution_count": 248,
     "metadata": {},
     "output_type": "execute_result"
    }
   ],
   "source": [
    "pmtct_df['difference_pmtct'] = pmtct_df['total_dhis2_value_pmtct'] - pmtct_df['total_datim_value_pmtct']\n",
    "pmtct_df"
   ]
  },
  {
   "cell_type": "code",
   "execution_count": 249,
   "metadata": {
    "pycharm": {
     "name": "#%%\n"
    }
   },
   "outputs": [
    {
     "data": {
      "text/plain": "     facilityuid  period  total_dhis2_value_pmtct  total_datim_value_pmtct  \\\n0    AKCk8JAY0dK  2019Q4                     31.0                     31.0   \n1    AKCk8JAY0dK  2020Q1                     46.0                     46.0   \n2    AKCk8JAY0dK  2020Q2                     49.0                     49.0   \n3    AbSJUr5oge2  2019Q4                    217.0                    213.0   \n4    AbSJUr5oge2  2020Q1                    272.0                    267.0   \n..           ...     ...                      ...                      ...   \n816  zvicDsjeRbr  2020Q1                     20.0                     20.0   \n817  zvicDsjeRbr  2020Q2                     31.0                     29.0   \n818  zwV7ekHDAwe  2019Q4                     66.0                     66.0   \n819  zwV7ekHDAwe  2020Q1                     93.0                     85.0   \n820  zwV7ekHDAwe  2020Q2                     57.0                     56.0   \n\n     difference_pmtct  percentage_difference_pmtct  \n0                 0.0                     0.000000  \n1                 0.0                     0.000000  \n2                 0.0                     0.000000  \n3                 4.0                     1.877934  \n4                 5.0                     1.872659  \n..                ...                          ...  \n816               0.0                     0.000000  \n817               2.0                     6.896552  \n818               0.0                     0.000000  \n819               8.0                     9.411765  \n820               1.0                     1.785714  \n\n[821 rows x 6 columns]",
      "text/html": "<div>\n<style scoped>\n    .dataframe tbody tr th:only-of-type {\n        vertical-align: middle;\n    }\n\n    .dataframe tbody tr th {\n        vertical-align: top;\n    }\n\n    .dataframe thead th {\n        text-align: right;\n    }\n</style>\n<table border=\"1\" class=\"dataframe\">\n  <thead>\n    <tr style=\"text-align: right;\">\n      <th></th>\n      <th>facilityuid</th>\n      <th>period</th>\n      <th>total_dhis2_value_pmtct</th>\n      <th>total_datim_value_pmtct</th>\n      <th>difference_pmtct</th>\n      <th>percentage_difference_pmtct</th>\n    </tr>\n  </thead>\n  <tbody>\n    <tr>\n      <th>0</th>\n      <td>AKCk8JAY0dK</td>\n      <td>2019Q4</td>\n      <td>31.0</td>\n      <td>31.0</td>\n      <td>0.0</td>\n      <td>0.000000</td>\n    </tr>\n    <tr>\n      <th>1</th>\n      <td>AKCk8JAY0dK</td>\n      <td>2020Q1</td>\n      <td>46.0</td>\n      <td>46.0</td>\n      <td>0.0</td>\n      <td>0.000000</td>\n    </tr>\n    <tr>\n      <th>2</th>\n      <td>AKCk8JAY0dK</td>\n      <td>2020Q2</td>\n      <td>49.0</td>\n      <td>49.0</td>\n      <td>0.0</td>\n      <td>0.000000</td>\n    </tr>\n    <tr>\n      <th>3</th>\n      <td>AbSJUr5oge2</td>\n      <td>2019Q4</td>\n      <td>217.0</td>\n      <td>213.0</td>\n      <td>4.0</td>\n      <td>1.877934</td>\n    </tr>\n    <tr>\n      <th>4</th>\n      <td>AbSJUr5oge2</td>\n      <td>2020Q1</td>\n      <td>272.0</td>\n      <td>267.0</td>\n      <td>5.0</td>\n      <td>1.872659</td>\n    </tr>\n    <tr>\n      <th>...</th>\n      <td>...</td>\n      <td>...</td>\n      <td>...</td>\n      <td>...</td>\n      <td>...</td>\n      <td>...</td>\n    </tr>\n    <tr>\n      <th>816</th>\n      <td>zvicDsjeRbr</td>\n      <td>2020Q1</td>\n      <td>20.0</td>\n      <td>20.0</td>\n      <td>0.0</td>\n      <td>0.000000</td>\n    </tr>\n    <tr>\n      <th>817</th>\n      <td>zvicDsjeRbr</td>\n      <td>2020Q2</td>\n      <td>31.0</td>\n      <td>29.0</td>\n      <td>2.0</td>\n      <td>6.896552</td>\n    </tr>\n    <tr>\n      <th>818</th>\n      <td>zwV7ekHDAwe</td>\n      <td>2019Q4</td>\n      <td>66.0</td>\n      <td>66.0</td>\n      <td>0.0</td>\n      <td>0.000000</td>\n    </tr>\n    <tr>\n      <th>819</th>\n      <td>zwV7ekHDAwe</td>\n      <td>2020Q1</td>\n      <td>93.0</td>\n      <td>85.0</td>\n      <td>8.0</td>\n      <td>9.411765</td>\n    </tr>\n    <tr>\n      <th>820</th>\n      <td>zwV7ekHDAwe</td>\n      <td>2020Q2</td>\n      <td>57.0</td>\n      <td>56.0</td>\n      <td>1.0</td>\n      <td>1.785714</td>\n    </tr>\n  </tbody>\n</table>\n<p>821 rows × 6 columns</p>\n</div>"
     },
     "execution_count": 249,
     "metadata": {},
     "output_type": "execute_result"
    }
   ],
   "source": [
    "pmtct_df['percentage_difference_pmtct'] = abs(pmtct_df['difference_pmtct'] / pmtct_df['total_datim_value_pmtct'] * 100)\n",
    "pmtct_df"
   ]
  },
  {
   "attachments": {},
   "cell_type": "markdown",
   "metadata": {
    "pycharm": {
     "name": "#%% md\n"
    }
   },
   "source": [
    "# Merge PMTCT and HTS"
   ]
  },
  {
   "cell_type": "code",
   "execution_count": 250,
   "metadata": {
    "pycharm": {
     "name": "#%%\n"
    }
   },
   "outputs": [
    {
     "data": {
      "text/plain": "     facilityuid  period  total_dhis2_value_hts  total_datim_value_hts  \\\n0    AKCk8JAY0dK  2019Q4                    168                  200.0   \n1    AKCk8JAY0dK  2020Q1                    234                  280.0   \n2    AKCk8JAY0dK  2020Q2                    101                  149.0   \n3    AbSJUr5oge2  2019Q4                    322                  541.0   \n4    AbSJUr5oge2  2020Q1                    415                  683.0   \n..           ...     ...                    ...                    ...   \n816  zvicDsjeRbr  2020Q1                     32                   44.0   \n817  zvicDsjeRbr  2020Q2                     21                   52.0   \n818  zwV7ekHDAwe  2019Q4                    739                  890.0   \n819  zwV7ekHDAwe  2020Q1                    455                  510.0   \n820  zwV7ekHDAwe  2020Q2                    396                  333.0   \n\n     difference_hts  percentage_difference_hts  total_dhis2_value_pmtct  \\\n0             -32.0                  16.000000                     31.0   \n1             -46.0                  16.428571                     46.0   \n2             -48.0                  32.214765                     49.0   \n3            -219.0                  40.480591                    217.0   \n4            -268.0                  39.238653                    272.0   \n..              ...                        ...                      ...   \n816           -12.0                  27.272727                     20.0   \n817           -31.0                  59.615385                     31.0   \n818          -151.0                  16.966292                     66.0   \n819           -55.0                  10.784314                     93.0   \n820            63.0                  18.918919                     57.0   \n\n     total_datim_value_pmtct  difference_pmtct  percentage_difference_pmtct  \n0                       31.0               0.0                     0.000000  \n1                       46.0               0.0                     0.000000  \n2                       49.0               0.0                     0.000000  \n3                      213.0               4.0                     1.877934  \n4                      267.0               5.0                     1.872659  \n..                       ...               ...                          ...  \n816                     20.0               0.0                     0.000000  \n817                     29.0               2.0                     6.896552  \n818                     66.0               0.0                     0.000000  \n819                     85.0               8.0                     9.411765  \n820                     56.0               1.0                     1.785714  \n\n[821 rows x 10 columns]",
      "text/html": "<div>\n<style scoped>\n    .dataframe tbody tr th:only-of-type {\n        vertical-align: middle;\n    }\n\n    .dataframe tbody tr th {\n        vertical-align: top;\n    }\n\n    .dataframe thead th {\n        text-align: right;\n    }\n</style>\n<table border=\"1\" class=\"dataframe\">\n  <thead>\n    <tr style=\"text-align: right;\">\n      <th></th>\n      <th>facilityuid</th>\n      <th>period</th>\n      <th>total_dhis2_value_hts</th>\n      <th>total_datim_value_hts</th>\n      <th>difference_hts</th>\n      <th>percentage_difference_hts</th>\n      <th>total_dhis2_value_pmtct</th>\n      <th>total_datim_value_pmtct</th>\n      <th>difference_pmtct</th>\n      <th>percentage_difference_pmtct</th>\n    </tr>\n  </thead>\n  <tbody>\n    <tr>\n      <th>0</th>\n      <td>AKCk8JAY0dK</td>\n      <td>2019Q4</td>\n      <td>168</td>\n      <td>200.0</td>\n      <td>-32.0</td>\n      <td>16.000000</td>\n      <td>31.0</td>\n      <td>31.0</td>\n      <td>0.0</td>\n      <td>0.000000</td>\n    </tr>\n    <tr>\n      <th>1</th>\n      <td>AKCk8JAY0dK</td>\n      <td>2020Q1</td>\n      <td>234</td>\n      <td>280.0</td>\n      <td>-46.0</td>\n      <td>16.428571</td>\n      <td>46.0</td>\n      <td>46.0</td>\n      <td>0.0</td>\n      <td>0.000000</td>\n    </tr>\n    <tr>\n      <th>2</th>\n      <td>AKCk8JAY0dK</td>\n      <td>2020Q2</td>\n      <td>101</td>\n      <td>149.0</td>\n      <td>-48.0</td>\n      <td>32.214765</td>\n      <td>49.0</td>\n      <td>49.0</td>\n      <td>0.0</td>\n      <td>0.000000</td>\n    </tr>\n    <tr>\n      <th>3</th>\n      <td>AbSJUr5oge2</td>\n      <td>2019Q4</td>\n      <td>322</td>\n      <td>541.0</td>\n      <td>-219.0</td>\n      <td>40.480591</td>\n      <td>217.0</td>\n      <td>213.0</td>\n      <td>4.0</td>\n      <td>1.877934</td>\n    </tr>\n    <tr>\n      <th>4</th>\n      <td>AbSJUr5oge2</td>\n      <td>2020Q1</td>\n      <td>415</td>\n      <td>683.0</td>\n      <td>-268.0</td>\n      <td>39.238653</td>\n      <td>272.0</td>\n      <td>267.0</td>\n      <td>5.0</td>\n      <td>1.872659</td>\n    </tr>\n    <tr>\n      <th>...</th>\n      <td>...</td>\n      <td>...</td>\n      <td>...</td>\n      <td>...</td>\n      <td>...</td>\n      <td>...</td>\n      <td>...</td>\n      <td>...</td>\n      <td>...</td>\n      <td>...</td>\n    </tr>\n    <tr>\n      <th>816</th>\n      <td>zvicDsjeRbr</td>\n      <td>2020Q1</td>\n      <td>32</td>\n      <td>44.0</td>\n      <td>-12.0</td>\n      <td>27.272727</td>\n      <td>20.0</td>\n      <td>20.0</td>\n      <td>0.0</td>\n      <td>0.000000</td>\n    </tr>\n    <tr>\n      <th>817</th>\n      <td>zvicDsjeRbr</td>\n      <td>2020Q2</td>\n      <td>21</td>\n      <td>52.0</td>\n      <td>-31.0</td>\n      <td>59.615385</td>\n      <td>31.0</td>\n      <td>29.0</td>\n      <td>2.0</td>\n      <td>6.896552</td>\n    </tr>\n    <tr>\n      <th>818</th>\n      <td>zwV7ekHDAwe</td>\n      <td>2019Q4</td>\n      <td>739</td>\n      <td>890.0</td>\n      <td>-151.0</td>\n      <td>16.966292</td>\n      <td>66.0</td>\n      <td>66.0</td>\n      <td>0.0</td>\n      <td>0.000000</td>\n    </tr>\n    <tr>\n      <th>819</th>\n      <td>zwV7ekHDAwe</td>\n      <td>2020Q1</td>\n      <td>455</td>\n      <td>510.0</td>\n      <td>-55.0</td>\n      <td>10.784314</td>\n      <td>93.0</td>\n      <td>85.0</td>\n      <td>8.0</td>\n      <td>9.411765</td>\n    </tr>\n    <tr>\n      <th>820</th>\n      <td>zwV7ekHDAwe</td>\n      <td>2020Q2</td>\n      <td>396</td>\n      <td>333.0</td>\n      <td>63.0</td>\n      <td>18.918919</td>\n      <td>57.0</td>\n      <td>56.0</td>\n      <td>1.0</td>\n      <td>1.785714</td>\n    </tr>\n  </tbody>\n</table>\n<p>821 rows × 10 columns</p>\n</div>"
     },
     "execution_count": 250,
     "metadata": {},
     "output_type": "execute_result"
    }
   ],
   "source": [
    "merged_df = pd.merge(hts_df, pmtct_df, on=[\"facilityuid\",\"period\"])\n",
    "merged_df"
   ]
  },
  {
   "cell_type": "code",
   "execution_count": 251,
   "metadata": {
    "pycharm": {
     "name": "#%%\n"
    }
   },
   "outputs": [
    {
     "name": "stdout",
     "output_type": "stream",
     "text": [
      "28.64864864864865\n"
     ]
    },
    {
     "data": {
      "text/plain": "     facilityuid  period  total_dhis2_value_hts  total_datim_value_hts  \\\n2    AKCk8JAY0dK  2020Q2                    101                  149.0   \n3    AbSJUr5oge2  2019Q4                    322                  541.0   \n4    AbSJUr5oge2  2020Q1                    415                  683.0   \n5    AbSJUr5oge2  2020Q2                    255                  483.0   \n6    B8Y8xuk4MFf  2019Q4                    303                  487.0   \n..           ...     ...                    ...                    ...   \n812  zsswqbRZEzQ  2019Q4                    108                  165.0   \n813  zsswqbRZEzQ  2020Q1                    106                  192.0   \n814  zsswqbRZEzQ  2020Q2                     62                  133.0   \n815  zvicDsjeRbr  2019Q4                     51                   72.0   \n817  zvicDsjeRbr  2020Q2                     21                   52.0   \n\n     difference_hts  percentage_difference_hts  total_dhis2_value_pmtct  \\\n2             -48.0                  32.214765                     49.0   \n3            -219.0                  40.480591                    217.0   \n4            -268.0                  39.238653                    272.0   \n5            -228.0                  47.204969                    229.0   \n6            -184.0                  37.782341                     42.0   \n..              ...                        ...                      ...   \n812           -57.0                  34.545455                     57.0   \n813           -86.0                  44.791667                     86.0   \n814           -71.0                  53.383459                     72.0   \n815           -21.0                  29.166667                     23.0   \n817           -31.0                  59.615385                     31.0   \n\n     total_datim_value_pmtct  difference_pmtct  percentage_difference_pmtct  \n2                       49.0               0.0                     0.000000  \n3                      213.0               4.0                     1.877934  \n4                      267.0               5.0                     1.872659  \n5                      223.0               6.0                     2.690583  \n6                       40.0               2.0                     5.000000  \n..                       ...               ...                          ...  \n812                     57.0               0.0                     0.000000  \n813                     85.0               1.0                     1.176471  \n814                     71.0               1.0                     1.408451  \n815                     23.0               0.0                     0.000000  \n817                     29.0               2.0                     6.896552  \n\n[410 rows x 10 columns]",
      "text/html": "<div>\n<style scoped>\n    .dataframe tbody tr th:only-of-type {\n        vertical-align: middle;\n    }\n\n    .dataframe tbody tr th {\n        vertical-align: top;\n    }\n\n    .dataframe thead th {\n        text-align: right;\n    }\n</style>\n<table border=\"1\" class=\"dataframe\">\n  <thead>\n    <tr style=\"text-align: right;\">\n      <th></th>\n      <th>facilityuid</th>\n      <th>period</th>\n      <th>total_dhis2_value_hts</th>\n      <th>total_datim_value_hts</th>\n      <th>difference_hts</th>\n      <th>percentage_difference_hts</th>\n      <th>total_dhis2_value_pmtct</th>\n      <th>total_datim_value_pmtct</th>\n      <th>difference_pmtct</th>\n      <th>percentage_difference_pmtct</th>\n    </tr>\n  </thead>\n  <tbody>\n    <tr>\n      <th>2</th>\n      <td>AKCk8JAY0dK</td>\n      <td>2020Q2</td>\n      <td>101</td>\n      <td>149.0</td>\n      <td>-48.0</td>\n      <td>32.214765</td>\n      <td>49.0</td>\n      <td>49.0</td>\n      <td>0.0</td>\n      <td>0.000000</td>\n    </tr>\n    <tr>\n      <th>3</th>\n      <td>AbSJUr5oge2</td>\n      <td>2019Q4</td>\n      <td>322</td>\n      <td>541.0</td>\n      <td>-219.0</td>\n      <td>40.480591</td>\n      <td>217.0</td>\n      <td>213.0</td>\n      <td>4.0</td>\n      <td>1.877934</td>\n    </tr>\n    <tr>\n      <th>4</th>\n      <td>AbSJUr5oge2</td>\n      <td>2020Q1</td>\n      <td>415</td>\n      <td>683.0</td>\n      <td>-268.0</td>\n      <td>39.238653</td>\n      <td>272.0</td>\n      <td>267.0</td>\n      <td>5.0</td>\n      <td>1.872659</td>\n    </tr>\n    <tr>\n      <th>5</th>\n      <td>AbSJUr5oge2</td>\n      <td>2020Q2</td>\n      <td>255</td>\n      <td>483.0</td>\n      <td>-228.0</td>\n      <td>47.204969</td>\n      <td>229.0</td>\n      <td>223.0</td>\n      <td>6.0</td>\n      <td>2.690583</td>\n    </tr>\n    <tr>\n      <th>6</th>\n      <td>B8Y8xuk4MFf</td>\n      <td>2019Q4</td>\n      <td>303</td>\n      <td>487.0</td>\n      <td>-184.0</td>\n      <td>37.782341</td>\n      <td>42.0</td>\n      <td>40.0</td>\n      <td>2.0</td>\n      <td>5.000000</td>\n    </tr>\n    <tr>\n      <th>...</th>\n      <td>...</td>\n      <td>...</td>\n      <td>...</td>\n      <td>...</td>\n      <td>...</td>\n      <td>...</td>\n      <td>...</td>\n      <td>...</td>\n      <td>...</td>\n      <td>...</td>\n    </tr>\n    <tr>\n      <th>812</th>\n      <td>zsswqbRZEzQ</td>\n      <td>2019Q4</td>\n      <td>108</td>\n      <td>165.0</td>\n      <td>-57.0</td>\n      <td>34.545455</td>\n      <td>57.0</td>\n      <td>57.0</td>\n      <td>0.0</td>\n      <td>0.000000</td>\n    </tr>\n    <tr>\n      <th>813</th>\n      <td>zsswqbRZEzQ</td>\n      <td>2020Q1</td>\n      <td>106</td>\n      <td>192.0</td>\n      <td>-86.0</td>\n      <td>44.791667</td>\n      <td>86.0</td>\n      <td>85.0</td>\n      <td>1.0</td>\n      <td>1.176471</td>\n    </tr>\n    <tr>\n      <th>814</th>\n      <td>zsswqbRZEzQ</td>\n      <td>2020Q2</td>\n      <td>62</td>\n      <td>133.0</td>\n      <td>-71.0</td>\n      <td>53.383459</td>\n      <td>72.0</td>\n      <td>71.0</td>\n      <td>1.0</td>\n      <td>1.408451</td>\n    </tr>\n    <tr>\n      <th>815</th>\n      <td>zvicDsjeRbr</td>\n      <td>2019Q4</td>\n      <td>51</td>\n      <td>72.0</td>\n      <td>-21.0</td>\n      <td>29.166667</td>\n      <td>23.0</td>\n      <td>23.0</td>\n      <td>0.0</td>\n      <td>0.000000</td>\n    </tr>\n    <tr>\n      <th>817</th>\n      <td>zvicDsjeRbr</td>\n      <td>2020Q2</td>\n      <td>21</td>\n      <td>52.0</td>\n      <td>-31.0</td>\n      <td>59.615385</td>\n      <td>31.0</td>\n      <td>29.0</td>\n      <td>2.0</td>\n      <td>6.896552</td>\n    </tr>\n  </tbody>\n</table>\n<p>410 rows × 10 columns</p>\n</div>"
     },
     "execution_count": 251,
     "metadata": {},
     "output_type": "execute_result"
    }
   ],
   "source": [
    "# calculate mean\n",
    "cutoff = merged_df[\"percentage_difference_hts\"].median()\n",
    "print(cutoff)\n",
    "z = merged_df[merged_df['percentage_difference_hts'] > cutoff]\n",
    "z"
   ]
  },
  {
   "cell_type": "code",
   "execution_count": 252,
   "outputs": [
    {
     "data": {
      "text/plain": "411"
     },
     "execution_count": 252,
     "metadata": {},
     "output_type": "execute_result"
    }
   ],
   "source": [
    "len(merged_df) - len(z)"
   ],
   "metadata": {
    "collapsed": false,
    "pycharm": {
     "name": "#%%\n"
    }
   }
  },
  {
   "cell_type": "code",
   "execution_count": 253,
   "outputs": [
    {
     "data": {
      "text/plain": "<Figure size 640x480 with 1 Axes>",
      "image/png": "[encoded data removed]"
     },
     "metadata": {},
     "output_type": "display_data"
    }
   ],
   "source": [
    "import matplotlib.pyplot as plt\n",
    "import seaborn as sns\n",
    "data = {\"accepted\": (len(merged_df) - len(z)),\n",
    "        \"rejected_at_first\": len(z)}\n",
    "\n",
    "x_data = list(data.keys())\n",
    "y_data = list(data.values())\n",
    "\n",
    "\n",
    "bar = plt.bar(x_data, y_data, color ='maroon',\n",
    "        width = 0.4)\n",
    "bar[0].set_color('g')\n",
    "bar[1].set_color('r')\n",
    "plt.xlabel(\"acceptance\")\n",
    "plt.ylabel(\"Total count\")\n",
    "plt.title(\"Relational plot between accepted and rejected\")\n",
    "plt.show()"
   ],
   "metadata": {
    "collapsed": false,
    "pycharm": {
     "name": "#%%\n"
    }
   }
  },
  {
   "cell_type": "markdown",
   "source": [
    "From the bar plot above we know that there's a problem with the presented data. If values in the percentage_difference column are above cutoff which is defined by the median value, an assumption is made that the facilities did not submit their PMTCT results. We add the PMTCT results to the respective columns."
   ],
   "metadata": {
    "collapsed": false,
    "pycharm": {
     "name": "#%% md\n"
    }
   }
  },
  {
   "cell_type": "code",
   "execution_count": 254,
   "metadata": {
    "pycharm": {
     "name": "#%%\n"
    }
   },
   "outputs": [
    {
     "data": {
      "text/plain": "     facilityuid  period  total_dhis2_value_hts  total_datim_value_hts  \\\n0    AKCk8JAY0dK  2019Q4                    168                  200.0   \n1    AKCk8JAY0dK  2020Q1                    234                  280.0   \n2    AKCk8JAY0dK  2020Q2                    101                  149.0   \n3    AbSJUr5oge2  2019Q4                    322                  541.0   \n4    AbSJUr5oge2  2020Q1                    415                  683.0   \n..           ...     ...                    ...                    ...   \n816  zvicDsjeRbr  2020Q1                     32                   44.0   \n817  zvicDsjeRbr  2020Q2                     21                   52.0   \n818  zwV7ekHDAwe  2019Q4                    739                  890.0   \n819  zwV7ekHDAwe  2020Q1                    455                  510.0   \n820  zwV7ekHDAwe  2020Q2                    396                  333.0   \n\n     difference_hts  percentage_difference_hts  total_dhis2_value_pmtct  \\\n0             -32.0                  16.000000                     31.0   \n1             -46.0                  16.428571                     46.0   \n2             -48.0                  32.214765                     49.0   \n3            -219.0                  40.480591                    217.0   \n4            -268.0                  39.238653                    272.0   \n..              ...                        ...                      ...   \n816           -12.0                  27.272727                     20.0   \n817           -31.0                  59.615385                     31.0   \n818          -151.0                  16.966292                     66.0   \n819           -55.0                  10.784314                     93.0   \n820            63.0                  18.918919                     57.0   \n\n     total_datim_value_pmtct  difference_pmtct  percentage_difference_pmtct  \\\n0                       31.0               0.0                     0.000000   \n1                       46.0               0.0                     0.000000   \n2                       49.0               0.0                     0.000000   \n3                      213.0               4.0                     1.877934   \n4                      267.0               5.0                     1.872659   \n..                       ...               ...                          ...   \n816                     20.0               0.0                     0.000000   \n817                     29.0               2.0                     6.896552   \n818                     66.0               0.0                     0.000000   \n819                     85.0               8.0                     9.411765   \n820                     56.0               1.0                     1.785714   \n\n    accept  \n0      yes  \n1      yes  \n2       no  \n3       no  \n4       no  \n..     ...  \n816    yes  \n817     no  \n818    yes  \n819    yes  \n820    yes  \n\n[821 rows x 11 columns]",
      "text/html": "<div>\n<style scoped>\n    .dataframe tbody tr th:only-of-type {\n        vertical-align: middle;\n    }\n\n    .dataframe tbody tr th {\n        vertical-align: top;\n    }\n\n    .dataframe thead th {\n        text-align: right;\n    }\n</style>\n<table border=\"1\" class=\"dataframe\">\n  <thead>\n    <tr style=\"text-align: right;\">\n      <th></th>\n      <th>facilityuid</th>\n      <th>period</th>\n      <th>total_dhis2_value_hts</th>\n      <th>total_datim_value_hts</th>\n      <th>difference_hts</th>\n      <th>percentage_difference_hts</th>\n      <th>total_dhis2_value_pmtct</th>\n      <th>total_datim_value_pmtct</th>\n      <th>difference_pmtct</th>\n      <th>percentage_difference_pmtct</th>\n      <th>accept</th>\n    </tr>\n  </thead>\n  <tbody>\n    <tr>\n      <th>0</th>\n      <td>AKCk8JAY0dK</td>\n      <td>2019Q4</td>\n      <td>168</td>\n      <td>200.0</td>\n      <td>-32.0</td>\n      <td>16.000000</td>\n      <td>31.0</td>\n      <td>31.0</td>\n      <td>0.0</td>\n      <td>0.000000</td>\n      <td>yes</td>\n    </tr>\n    <tr>\n      <th>1</th>\n      <td>AKCk8JAY0dK</td>\n      <td>2020Q1</td>\n      <td>234</td>\n      <td>280.0</td>\n      <td>-46.0</td>\n      <td>16.428571</td>\n      <td>46.0</td>\n      <td>46.0</td>\n      <td>0.0</td>\n      <td>0.000000</td>\n      <td>yes</td>\n    </tr>\n    <tr>\n      <th>2</th>\n      <td>AKCk8JAY0dK</td>\n      <td>2020Q2</td>\n      <td>101</td>\n      <td>149.0</td>\n      <td>-48.0</td>\n      <td>32.214765</td>\n      <td>49.0</td>\n      <td>49.0</td>\n      <td>0.0</td>\n      <td>0.000000</td>\n      <td>no</td>\n    </tr>\n    <tr>\n      <th>3</th>\n      <td>AbSJUr5oge2</td>\n      <td>2019Q4</td>\n      <td>322</td>\n      <td>541.0</td>\n      <td>-219.0</td>\n      <td>40.480591</td>\n      <td>217.0</td>\n      <td>213.0</td>\n      <td>4.0</td>\n      <td>1.877934</td>\n      <td>no</td>\n    </tr>\n    <tr>\n      <th>4</th>\n      <td>AbSJUr5oge2</td>\n      <td>2020Q1</td>\n      <td>415</td>\n      <td>683.0</td>\n      <td>-268.0</td>\n      <td>39.238653</td>\n      <td>272.0</td>\n      <td>267.0</td>\n      <td>5.0</td>\n      <td>1.872659</td>\n      <td>no</td>\n    </tr>\n    <tr>\n      <th>...</th>\n      <td>...</td>\n      <td>...</td>\n      <td>...</td>\n      <td>...</td>\n      <td>...</td>\n      <td>...</td>\n      <td>...</td>\n      <td>...</td>\n      <td>...</td>\n      <td>...</td>\n      <td>...</td>\n    </tr>\n    <tr>\n      <th>816</th>\n      <td>zvicDsjeRbr</td>\n      <td>2020Q1</td>\n      <td>32</td>\n      <td>44.0</td>\n      <td>-12.0</td>\n      <td>27.272727</td>\n      <td>20.0</td>\n      <td>20.0</td>\n      <td>0.0</td>\n      <td>0.000000</td>\n      <td>yes</td>\n    </tr>\n    <tr>\n      <th>817</th>\n      <td>zvicDsjeRbr</td>\n      <td>2020Q2</td>\n      <td>21</td>\n      <td>52.0</td>\n      <td>-31.0</td>\n      <td>59.615385</td>\n      <td>31.0</td>\n      <td>29.0</td>\n      <td>2.0</td>\n      <td>6.896552</td>\n      <td>no</td>\n    </tr>\n    <tr>\n      <th>818</th>\n      <td>zwV7ekHDAwe</td>\n      <td>2019Q4</td>\n      <td>739</td>\n      <td>890.0</td>\n      <td>-151.0</td>\n      <td>16.966292</td>\n      <td>66.0</td>\n      <td>66.0</td>\n      <td>0.0</td>\n      <td>0.000000</td>\n      <td>yes</td>\n    </tr>\n    <tr>\n      <th>819</th>\n      <td>zwV7ekHDAwe</td>\n      <td>2020Q1</td>\n      <td>455</td>\n      <td>510.0</td>\n      <td>-55.0</td>\n      <td>10.784314</td>\n      <td>93.0</td>\n      <td>85.0</td>\n      <td>8.0</td>\n      <td>9.411765</td>\n      <td>yes</td>\n    </tr>\n    <tr>\n      <th>820</th>\n      <td>zwV7ekHDAwe</td>\n      <td>2020Q2</td>\n      <td>396</td>\n      <td>333.0</td>\n      <td>63.0</td>\n      <td>18.918919</td>\n      <td>57.0</td>\n      <td>56.0</td>\n      <td>1.0</td>\n      <td>1.785714</td>\n      <td>yes</td>\n    </tr>\n  </tbody>\n</table>\n<p>821 rows × 11 columns</p>\n</div>"
     },
     "execution_count": 254,
     "metadata": {},
     "output_type": "execute_result"
    }
   ],
   "source": [
    "# define a lambda function with if-else conditions\n",
    "merged_df['accept'] = merged_df['percentage_difference_hts'].apply(lambda x: 'yes' if x < cutoff else 'no')\n",
    "merged_df"
   ]
  },
  {
   "cell_type": "code",
   "execution_count": 255,
   "metadata": {
    "pycharm": {
     "name": "#%%\n"
    }
   },
   "outputs": [
    {
     "data": {
      "text/plain": "411"
     },
     "execution_count": 255,
     "metadata": {},
     "output_type": "execute_result"
    }
   ],
   "source": [
    "len(merged_df[merged_df['accept'] == 'no'])\n"
   ]
  },
  {
   "cell_type": "code",
   "execution_count": 256,
   "metadata": {
    "pycharm": {
     "name": "#%%\n"
    }
   },
   "outputs": [
    {
     "data": {
      "text/plain": "     facilityuid  period  total_dhis2_value_hts  total_datim_value_hts  \\\n2    AKCk8JAY0dK  2020Q2                    101                  149.0   \n3    AbSJUr5oge2  2019Q4                    322                  541.0   \n4    AbSJUr5oge2  2020Q1                    415                  683.0   \n5    AbSJUr5oge2  2020Q2                    255                  483.0   \n6    B8Y8xuk4MFf  2019Q4                    303                  487.0   \n..           ...     ...                    ...                    ...   \n812  zsswqbRZEzQ  2019Q4                    108                  165.0   \n813  zsswqbRZEzQ  2020Q1                    106                  192.0   \n814  zsswqbRZEzQ  2020Q2                     62                  133.0   \n815  zvicDsjeRbr  2019Q4                     51                   72.0   \n817  zvicDsjeRbr  2020Q2                     21                   52.0   \n\n     difference_hts  percentage_difference_hts  total_dhis2_value_pmtct  \\\n2             -48.0                  32.214765                     49.0   \n3            -219.0                  40.480591                    217.0   \n4            -268.0                  39.238653                    272.0   \n5            -228.0                  47.204969                    229.0   \n6            -184.0                  37.782341                     42.0   \n..              ...                        ...                      ...   \n812           -57.0                  34.545455                     57.0   \n813           -86.0                  44.791667                     86.0   \n814           -71.0                  53.383459                     72.0   \n815           -21.0                  29.166667                     23.0   \n817           -31.0                  59.615385                     31.0   \n\n     total_datim_value_pmtct  difference_pmtct  percentage_difference_pmtct  \\\n2                       49.0               0.0                     0.000000   \n3                      213.0               4.0                     1.877934   \n4                      267.0               5.0                     1.872659   \n5                      223.0               6.0                     2.690583   \n6                       40.0               2.0                     5.000000   \n..                       ...               ...                          ...   \n812                     57.0               0.0                     0.000000   \n813                     85.0               1.0                     1.176471   \n814                     71.0               1.0                     1.408451   \n815                     23.0               0.0                     0.000000   \n817                     29.0               2.0                     6.896552   \n\n    accept  \n2       no  \n3       no  \n4       no  \n5       no  \n6       no  \n..     ...  \n812     no  \n813     no  \n814     no  \n815     no  \n817     no  \n\n[411 rows x 11 columns]",
      "text/html": "<div>\n<style scoped>\n    .dataframe tbody tr th:only-of-type {\n        vertical-align: middle;\n    }\n\n    .dataframe tbody tr th {\n        vertical-align: top;\n    }\n\n    .dataframe thead th {\n        text-align: right;\n    }\n</style>\n<table border=\"1\" class=\"dataframe\">\n  <thead>\n    <tr style=\"text-align: right;\">\n      <th></th>\n      <th>facilityuid</th>\n      <th>period</th>\n      <th>total_dhis2_value_hts</th>\n      <th>total_datim_value_hts</th>\n      <th>difference_hts</th>\n      <th>percentage_difference_hts</th>\n      <th>total_dhis2_value_pmtct</th>\n      <th>total_datim_value_pmtct</th>\n      <th>difference_pmtct</th>\n      <th>percentage_difference_pmtct</th>\n      <th>accept</th>\n    </tr>\n  </thead>\n  <tbody>\n    <tr>\n      <th>2</th>\n      <td>AKCk8JAY0dK</td>\n      <td>2020Q2</td>\n      <td>101</td>\n      <td>149.0</td>\n      <td>-48.0</td>\n      <td>32.214765</td>\n      <td>49.0</td>\n      <td>49.0</td>\n      <td>0.0</td>\n      <td>0.000000</td>\n      <td>no</td>\n    </tr>\n    <tr>\n      <th>3</th>\n      <td>AbSJUr5oge2</td>\n      <td>2019Q4</td>\n      <td>322</td>\n      <td>541.0</td>\n      <td>-219.0</td>\n      <td>40.480591</td>\n      <td>217.0</td>\n      <td>213.0</td>\n      <td>4.0</td>\n      <td>1.877934</td>\n      <td>no</td>\n    </tr>\n    <tr>\n      <th>4</th>\n      <td>AbSJUr5oge2</td>\n      <td>2020Q1</td>\n      <td>415</td>\n      <td>683.0</td>\n      <td>-268.0</td>\n      <td>39.238653</td>\n      <td>272.0</td>\n      <td>267.0</td>\n      <td>5.0</td>\n      <td>1.872659</td>\n      <td>no</td>\n    </tr>\n    <tr>\n      <th>5</th>\n      <td>AbSJUr5oge2</td>\n      <td>2020Q2</td>\n      <td>255</td>\n      <td>483.0</td>\n      <td>-228.0</td>\n      <td>47.204969</td>\n      <td>229.0</td>\n      <td>223.0</td>\n      <td>6.0</td>\n      <td>2.690583</td>\n      <td>no</td>\n    </tr>\n    <tr>\n      <th>6</th>\n      <td>B8Y8xuk4MFf</td>\n      <td>2019Q4</td>\n      <td>303</td>\n      <td>487.0</td>\n      <td>-184.0</td>\n      <td>37.782341</td>\n      <td>42.0</td>\n      <td>40.0</td>\n      <td>2.0</td>\n      <td>5.000000</td>\n      <td>no</td>\n    </tr>\n    <tr>\n      <th>...</th>\n      <td>...</td>\n      <td>...</td>\n      <td>...</td>\n      <td>...</td>\n      <td>...</td>\n      <td>...</td>\n      <td>...</td>\n      <td>...</td>\n      <td>...</td>\n      <td>...</td>\n      <td>...</td>\n    </tr>\n    <tr>\n      <th>812</th>\n      <td>zsswqbRZEzQ</td>\n      <td>2019Q4</td>\n      <td>108</td>\n      <td>165.0</td>\n      <td>-57.0</td>\n      <td>34.545455</td>\n      <td>57.0</td>\n      <td>57.0</td>\n      <td>0.0</td>\n      <td>0.000000</td>\n      <td>no</td>\n    </tr>\n    <tr>\n      <th>813</th>\n      <td>zsswqbRZEzQ</td>\n      <td>2020Q1</td>\n      <td>106</td>\n      <td>192.0</td>\n      <td>-86.0</td>\n      <td>44.791667</td>\n      <td>86.0</td>\n      <td>85.0</td>\n      <td>1.0</td>\n      <td>1.176471</td>\n      <td>no</td>\n    </tr>\n    <tr>\n      <th>814</th>\n      <td>zsswqbRZEzQ</td>\n      <td>2020Q2</td>\n      <td>62</td>\n      <td>133.0</td>\n      <td>-71.0</td>\n      <td>53.383459</td>\n      <td>72.0</td>\n      <td>71.0</td>\n      <td>1.0</td>\n      <td>1.408451</td>\n      <td>no</td>\n    </tr>\n    <tr>\n      <th>815</th>\n      <td>zvicDsjeRbr</td>\n      <td>2019Q4</td>\n      <td>51</td>\n      <td>72.0</td>\n      <td>-21.0</td>\n      <td>29.166667</td>\n      <td>23.0</td>\n      <td>23.0</td>\n      <td>0.0</td>\n      <td>0.000000</td>\n      <td>no</td>\n    </tr>\n    <tr>\n      <th>817</th>\n      <td>zvicDsjeRbr</td>\n      <td>2020Q2</td>\n      <td>21</td>\n      <td>52.0</td>\n      <td>-31.0</td>\n      <td>59.615385</td>\n      <td>31.0</td>\n      <td>29.0</td>\n      <td>2.0</td>\n      <td>6.896552</td>\n      <td>no</td>\n    </tr>\n  </tbody>\n</table>\n<p>411 rows × 11 columns</p>\n</div>"
     },
     "execution_count": 256,
     "metadata": {},
     "output_type": "execute_result"
    }
   ],
   "source": [
    "rejected = merged_df[merged_df['accept'] == 'no']\n",
    "rejected"
   ]
  },
  {
   "cell_type": "code",
   "execution_count": 257,
   "metadata": {
    "pycharm": {
     "name": "#%%\n"
    }
   },
   "outputs": [
    {
     "name": "stderr",
     "output_type": "stream",
     "text": [
      "C:\\Users\\bowen\\AppData\\Local\\Temp\\ipykernel_13684\\1809374107.py:2: SettingWithCopyWarning: \n",
      "A value is trying to be set on a copy of a slice from a DataFrame.\n",
      "Try using .loc[row_indexer,col_indexer] = value instead\n",
      "\n",
      "See the caveats in the documentation: https://pandas.pydata.org/pandas-docs/stable/user_guide/indexing.html#returning-a-view-versus-a-copy\n"
     ]
    },
    {
     "data": {
      "text/plain": "     facilityuid  period  total_dhis2_value_hts  total_datim_value_hts  \\\n2    AKCk8JAY0dK  2020Q2                    101                  149.0   \n3    AbSJUr5oge2  2019Q4                    322                  541.0   \n4    AbSJUr5oge2  2020Q1                    415                  683.0   \n5    AbSJUr5oge2  2020Q2                    255                  483.0   \n6    B8Y8xuk4MFf  2019Q4                    303                  487.0   \n..           ...     ...                    ...                    ...   \n812  zsswqbRZEzQ  2019Q4                    108                  165.0   \n813  zsswqbRZEzQ  2020Q1                    106                  192.0   \n814  zsswqbRZEzQ  2020Q2                     62                  133.0   \n815  zvicDsjeRbr  2019Q4                     51                   72.0   \n817  zvicDsjeRbr  2020Q2                     21                   52.0   \n\n     difference_hts  percentage_difference_hts  total_dhis2_value_pmtct  \\\n2             -48.0                  32.214765                     49.0   \n3            -219.0                  40.480591                    217.0   \n4            -268.0                  39.238653                    272.0   \n5            -228.0                  47.204969                    229.0   \n6            -184.0                  37.782341                     42.0   \n..              ...                        ...                      ...   \n812           -57.0                  34.545455                     57.0   \n813           -86.0                  44.791667                     86.0   \n814           -71.0                  53.383459                     72.0   \n815           -21.0                  29.166667                     23.0   \n817           -31.0                  59.615385                     31.0   \n\n     total_datim_value_pmtct  difference_pmtct  percentage_difference_pmtct  \\\n2                       49.0               0.0                     0.000000   \n3                      213.0               4.0                     1.877934   \n4                      267.0               5.0                     1.872659   \n5                      223.0               6.0                     2.690583   \n6                       40.0               2.0                     5.000000   \n..                       ...               ...                          ...   \n812                     57.0               0.0                     0.000000   \n813                     85.0               1.0                     1.176471   \n814                     71.0               1.0                     1.408451   \n815                     23.0               0.0                     0.000000   \n817                     29.0               2.0                     6.896552   \n\n    accept  new_difference  \n2       no             1.0  \n3       no            -2.0  \n4       no             4.0  \n5       no             1.0  \n6       no          -142.0  \n..     ...             ...  \n812     no             0.0  \n813     no             0.0  \n814     no             1.0  \n815     no             2.0  \n817     no             0.0  \n\n[411 rows x 12 columns]",
      "text/html": "<div>\n<style scoped>\n    .dataframe tbody tr th:only-of-type {\n        vertical-align: middle;\n    }\n\n    .dataframe tbody tr th {\n        vertical-align: top;\n    }\n\n    .dataframe thead th {\n        text-align: right;\n    }\n</style>\n<table border=\"1\" class=\"dataframe\">\n  <thead>\n    <tr style=\"text-align: right;\">\n      <th></th>\n      <th>facilityuid</th>\n      <th>period</th>\n      <th>total_dhis2_value_hts</th>\n      <th>total_datim_value_hts</th>\n      <th>difference_hts</th>\n      <th>percentage_difference_hts</th>\n      <th>total_dhis2_value_pmtct</th>\n      <th>total_datim_value_pmtct</th>\n      <th>difference_pmtct</th>\n      <th>percentage_difference_pmtct</th>\n      <th>accept</th>\n      <th>new_difference</th>\n    </tr>\n  </thead>\n  <tbody>\n    <tr>\n      <th>2</th>\n      <td>AKCk8JAY0dK</td>\n      <td>2020Q2</td>\n      <td>101</td>\n      <td>149.0</td>\n      <td>-48.0</td>\n      <td>32.214765</td>\n      <td>49.0</td>\n      <td>49.0</td>\n      <td>0.0</td>\n      <td>0.000000</td>\n      <td>no</td>\n      <td>1.0</td>\n    </tr>\n    <tr>\n      <th>3</th>\n      <td>AbSJUr5oge2</td>\n      <td>2019Q4</td>\n      <td>322</td>\n      <td>541.0</td>\n      <td>-219.0</td>\n      <td>40.480591</td>\n      <td>217.0</td>\n      <td>213.0</td>\n      <td>4.0</td>\n      <td>1.877934</td>\n      <td>no</td>\n      <td>-2.0</td>\n    </tr>\n    <tr>\n      <th>4</th>\n      <td>AbSJUr5oge2</td>\n      <td>2020Q1</td>\n      <td>415</td>\n      <td>683.0</td>\n      <td>-268.0</td>\n      <td>39.238653</td>\n      <td>272.0</td>\n      <td>267.0</td>\n      <td>5.0</td>\n      <td>1.872659</td>\n      <td>no</td>\n      <td>4.0</td>\n    </tr>\n    <tr>\n      <th>5</th>\n      <td>AbSJUr5oge2</td>\n      <td>2020Q2</td>\n      <td>255</td>\n      <td>483.0</td>\n      <td>-228.0</td>\n      <td>47.204969</td>\n      <td>229.0</td>\n      <td>223.0</td>\n      <td>6.0</td>\n      <td>2.690583</td>\n      <td>no</td>\n      <td>1.0</td>\n    </tr>\n    <tr>\n      <th>6</th>\n      <td>B8Y8xuk4MFf</td>\n      <td>2019Q4</td>\n      <td>303</td>\n      <td>487.0</td>\n      <td>-184.0</td>\n      <td>37.782341</td>\n      <td>42.0</td>\n      <td>40.0</td>\n      <td>2.0</td>\n      <td>5.000000</td>\n      <td>no</td>\n      <td>-142.0</td>\n    </tr>\n    <tr>\n      <th>...</th>\n      <td>...</td>\n      <td>...</td>\n      <td>...</td>\n      <td>...</td>\n      <td>...</td>\n      <td>...</td>\n      <td>...</td>\n      <td>...</td>\n      <td>...</td>\n      <td>...</td>\n      <td>...</td>\n      <td>...</td>\n    </tr>\n    <tr>\n      <th>812</th>\n      <td>zsswqbRZEzQ</td>\n      <td>2019Q4</td>\n      <td>108</td>\n      <td>165.0</td>\n      <td>-57.0</td>\n      <td>34.545455</td>\n      <td>57.0</td>\n      <td>57.0</td>\n      <td>0.0</td>\n      <td>0.000000</td>\n      <td>no</td>\n      <td>0.0</td>\n    </tr>\n    <tr>\n      <th>813</th>\n      <td>zsswqbRZEzQ</td>\n      <td>2020Q1</td>\n      <td>106</td>\n      <td>192.0</td>\n      <td>-86.0</td>\n      <td>44.791667</td>\n      <td>86.0</td>\n      <td>85.0</td>\n      <td>1.0</td>\n      <td>1.176471</td>\n      <td>no</td>\n      <td>0.0</td>\n    </tr>\n    <tr>\n      <th>814</th>\n      <td>zsswqbRZEzQ</td>\n      <td>2020Q2</td>\n      <td>62</td>\n      <td>133.0</td>\n      <td>-71.0</td>\n      <td>53.383459</td>\n      <td>72.0</td>\n      <td>71.0</td>\n      <td>1.0</td>\n      <td>1.408451</td>\n      <td>no</td>\n      <td>1.0</td>\n    </tr>\n    <tr>\n      <th>815</th>\n      <td>zvicDsjeRbr</td>\n      <td>2019Q4</td>\n      <td>51</td>\n      <td>72.0</td>\n      <td>-21.0</td>\n      <td>29.166667</td>\n      <td>23.0</td>\n      <td>23.0</td>\n      <td>0.0</td>\n      <td>0.000000</td>\n      <td>no</td>\n      <td>2.0</td>\n    </tr>\n    <tr>\n      <th>817</th>\n      <td>zvicDsjeRbr</td>\n      <td>2020Q2</td>\n      <td>21</td>\n      <td>52.0</td>\n      <td>-31.0</td>\n      <td>59.615385</td>\n      <td>31.0</td>\n      <td>29.0</td>\n      <td>2.0</td>\n      <td>6.896552</td>\n      <td>no</td>\n      <td>0.0</td>\n    </tr>\n  </tbody>\n</table>\n<p>411 rows × 12 columns</p>\n</div>"
     },
     "execution_count": 257,
     "metadata": {},
     "output_type": "execute_result"
    }
   ],
   "source": [
    "\n",
    "if (rejected['difference_hts'] < 0).any():\n",
    "    rejected['new_difference'] = rejected['total_dhis2_value_pmtct'] + rejected['difference_hts']\n",
    "else:\n",
    "    rejected['new_difference'] = rejected['total_datim_value_pmtct'] + rejected['difference_hts']\n",
    "\n",
    "rejected"
   ]
  },
  {
   "cell_type": "code",
   "execution_count": 258,
   "metadata": {
    "pycharm": {
     "name": "#%%\n"
    }
   },
   "outputs": [
    {
     "name": "stderr",
     "output_type": "stream",
     "text": [
      "C:\\Users\\bowen\\AppData\\Local\\Temp\\ipykernel_13684\\3065173262.py:1: SettingWithCopyWarning: \n",
      "A value is trying to be set on a copy of a slice from a DataFrame.\n",
      "Try using .loc[row_indexer,col_indexer] = value instead\n",
      "\n",
      "See the caveats in the documentation: https://pandas.pydata.org/pandas-docs/stable/user_guide/indexing.html#returning-a-view-versus-a-copy\n"
     ]
    },
    {
     "data": {
      "text/plain": "     facilityuid  period  total_dhis2_value_hts  total_datim_value_hts  \\\n2    AKCk8JAY0dK  2020Q2                    101                  149.0   \n3    AbSJUr5oge2  2019Q4                    322                  541.0   \n4    AbSJUr5oge2  2020Q1                    415                  683.0   \n5    AbSJUr5oge2  2020Q2                    255                  483.0   \n6    B8Y8xuk4MFf  2019Q4                    303                  487.0   \n..           ...     ...                    ...                    ...   \n812  zsswqbRZEzQ  2019Q4                    108                  165.0   \n813  zsswqbRZEzQ  2020Q1                    106                  192.0   \n814  zsswqbRZEzQ  2020Q2                     62                  133.0   \n815  zvicDsjeRbr  2019Q4                     51                   72.0   \n817  zvicDsjeRbr  2020Q2                     21                   52.0   \n\n     difference_hts  percentage_difference_hts  total_dhis2_value_pmtct  \\\n2             -48.0                  32.214765                     49.0   \n3            -219.0                  40.480591                    217.0   \n4            -268.0                  39.238653                    272.0   \n5            -228.0                  47.204969                    229.0   \n6            -184.0                  37.782341                     42.0   \n..              ...                        ...                      ...   \n812           -57.0                  34.545455                     57.0   \n813           -86.0                  44.791667                     86.0   \n814           -71.0                  53.383459                     72.0   \n815           -21.0                  29.166667                     23.0   \n817           -31.0                  59.615385                     31.0   \n\n     total_datim_value_pmtct  difference_pmtct  percentage_difference_pmtct  \\\n2                       49.0               0.0                     0.000000   \n3                      213.0               4.0                     1.877934   \n4                      267.0               5.0                     1.872659   \n5                      223.0               6.0                     2.690583   \n6                       40.0               2.0                     5.000000   \n..                       ...               ...                          ...   \n812                     57.0               0.0                     0.000000   \n813                     85.0               1.0                     1.176471   \n814                     71.0               1.0                     1.408451   \n815                     23.0               0.0                     0.000000   \n817                     29.0               2.0                     6.896552   \n\n    accept  new_difference  new_percentage_difference  \n2       no             1.0                   0.671141  \n3       no            -2.0                   0.369686  \n4       no             4.0                   0.585652  \n5       no             1.0                   0.207039  \n6       no          -142.0                  29.158111  \n..     ...             ...                        ...  \n812     no             0.0                   0.000000  \n813     no             0.0                   0.000000  \n814     no             1.0                   0.751880  \n815     no             2.0                   2.777778  \n817     no             0.0                   0.000000  \n\n[411 rows x 13 columns]",
      "text/html": "<div>\n<style scoped>\n    .dataframe tbody tr th:only-of-type {\n        vertical-align: middle;\n    }\n\n    .dataframe tbody tr th {\n        vertical-align: top;\n    }\n\n    .dataframe thead th {\n        text-align: right;\n    }\n</style>\n<table border=\"1\" class=\"dataframe\">\n  <thead>\n    <tr style=\"text-align: right;\">\n      <th></th>\n      <th>facilityuid</th>\n      <th>period</th>\n      <th>total_dhis2_value_hts</th>\n      <th>total_datim_value_hts</th>\n      <th>difference_hts</th>\n      <th>percentage_difference_hts</th>\n      <th>total_dhis2_value_pmtct</th>\n      <th>total_datim_value_pmtct</th>\n      <th>difference_pmtct</th>\n      <th>percentage_difference_pmtct</th>\n      <th>accept</th>\n      <th>new_difference</th>\n      <th>new_percentage_difference</th>\n    </tr>\n  </thead>\n  <tbody>\n    <tr>\n      <th>2</th>\n      <td>AKCk8JAY0dK</td>\n      <td>2020Q2</td>\n      <td>101</td>\n      <td>149.0</td>\n      <td>-48.0</td>\n      <td>32.214765</td>\n      <td>49.0</td>\n      <td>49.0</td>\n      <td>0.0</td>\n      <td>0.000000</td>\n      <td>no</td>\n      <td>1.0</td>\n      <td>0.671141</td>\n    </tr>\n    <tr>\n      <th>3</th>\n      <td>AbSJUr5oge2</td>\n      <td>2019Q4</td>\n      <td>322</td>\n      <td>541.0</td>\n      <td>-219.0</td>\n      <td>40.480591</td>\n      <td>217.0</td>\n      <td>213.0</td>\n      <td>4.0</td>\n      <td>1.877934</td>\n      <td>no</td>\n      <td>-2.0</td>\n      <td>0.369686</td>\n    </tr>\n    <tr>\n      <th>4</th>\n      <td>AbSJUr5oge2</td>\n      <td>2020Q1</td>\n      <td>415</td>\n      <td>683.0</td>\n      <td>-268.0</td>\n      <td>39.238653</td>\n      <td>272.0</td>\n      <td>267.0</td>\n      <td>5.0</td>\n      <td>1.872659</td>\n      <td>no</td>\n      <td>4.0</td>\n      <td>0.585652</td>\n    </tr>\n    <tr>\n      <th>5</th>\n      <td>AbSJUr5oge2</td>\n      <td>2020Q2</td>\n      <td>255</td>\n      <td>483.0</td>\n      <td>-228.0</td>\n      <td>47.204969</td>\n      <td>229.0</td>\n      <td>223.0</td>\n      <td>6.0</td>\n      <td>2.690583</td>\n      <td>no</td>\n      <td>1.0</td>\n      <td>0.207039</td>\n    </tr>\n    <tr>\n      <th>6</th>\n      <td>B8Y8xuk4MFf</td>\n      <td>2019Q4</td>\n      <td>303</td>\n      <td>487.0</td>\n      <td>-184.0</td>\n      <td>37.782341</td>\n      <td>42.0</td>\n      <td>40.0</td>\n      <td>2.0</td>\n      <td>5.000000</td>\n      <td>no</td>\n      <td>-142.0</td>\n      <td>29.158111</td>\n    </tr>\n    <tr>\n      <th>...</th>\n      <td>...</td>\n      <td>...</td>\n      <td>...</td>\n      <td>...</td>\n      <td>...</td>\n      <td>...</td>\n      <td>...</td>\n      <td>...</td>\n      <td>...</td>\n      <td>...</td>\n      <td>...</td>\n      <td>...</td>\n      <td>...</td>\n    </tr>\n    <tr>\n      <th>812</th>\n      <td>zsswqbRZEzQ</td>\n      <td>2019Q4</td>\n      <td>108</td>\n      <td>165.0</td>\n      <td>-57.0</td>\n      <td>34.545455</td>\n      <td>57.0</td>\n      <td>57.0</td>\n      <td>0.0</td>\n      <td>0.000000</td>\n      <td>no</td>\n      <td>0.0</td>\n      <td>0.000000</td>\n    </tr>\n    <tr>\n      <th>813</th>\n      <td>zsswqbRZEzQ</td>\n      <td>2020Q1</td>\n      <td>106</td>\n      <td>192.0</td>\n      <td>-86.0</td>\n      <td>44.791667</td>\n      <td>86.0</td>\n      <td>85.0</td>\n      <td>1.0</td>\n      <td>1.176471</td>\n      <td>no</td>\n      <td>0.0</td>\n      <td>0.000000</td>\n    </tr>\n    <tr>\n      <th>814</th>\n      <td>zsswqbRZEzQ</td>\n      <td>2020Q2</td>\n      <td>62</td>\n      <td>133.0</td>\n      <td>-71.0</td>\n      <td>53.383459</td>\n      <td>72.0</td>\n      <td>71.0</td>\n      <td>1.0</td>\n      <td>1.408451</td>\n      <td>no</td>\n      <td>1.0</td>\n      <td>0.751880</td>\n    </tr>\n    <tr>\n      <th>815</th>\n      <td>zvicDsjeRbr</td>\n      <td>2019Q4</td>\n      <td>51</td>\n      <td>72.0</td>\n      <td>-21.0</td>\n      <td>29.166667</td>\n      <td>23.0</td>\n      <td>23.0</td>\n      <td>0.0</td>\n      <td>0.000000</td>\n      <td>no</td>\n      <td>2.0</td>\n      <td>2.777778</td>\n    </tr>\n    <tr>\n      <th>817</th>\n      <td>zvicDsjeRbr</td>\n      <td>2020Q2</td>\n      <td>21</td>\n      <td>52.0</td>\n      <td>-31.0</td>\n      <td>59.615385</td>\n      <td>31.0</td>\n      <td>29.0</td>\n      <td>2.0</td>\n      <td>6.896552</td>\n      <td>no</td>\n      <td>0.0</td>\n      <td>0.000000</td>\n    </tr>\n  </tbody>\n</table>\n<p>411 rows × 13 columns</p>\n</div>"
     },
     "execution_count": 258,
     "metadata": {},
     "output_type": "execute_result"
    }
   ],
   "source": [
    "rejected['new_percentage_difference']= abs(rejected['new_difference']/ rejected['total_datim_value_hts']* 100)\n",
    "rejected"
   ]
  },
  {
   "cell_type": "code",
   "execution_count": 259,
   "metadata": {
    "pycharm": {
     "name": "#%%\n"
    }
   },
   "outputs": [
    {
     "name": "stdout",
     "output_type": "stream",
     "text": [
      "11.48350861783755\n"
     ]
    },
    {
     "data": {
      "text/plain": "     facilityuid  period  total_dhis2_value_hts  total_datim_value_hts  \\\n6    B8Y8xuk4MFf  2019Q4                    303                  487.0   \n15   BSIVRetkq9o  2019Q4                    202                  295.0   \n16   BSIVRetkq9o  2020Q1                    191                  293.0   \n62   Dp9uga9zfqH  2019Q4                   1298                 1893.0   \n63   Dp9uga9zfqH  2020Q1                    794                 1179.0   \n..           ...     ...                    ...                    ...   \n780  xaQ9Z2jrxRM  2019Q4                   1125                  402.0   \n781  xaQ9Z2jrxRM  2020Q1                   1091                  305.0   \n782  xaQ9Z2jrxRM  2020Q2                    333                  225.0   \n783  xt2lltkTLza  2019Q4                    414                 1029.0   \n793  yanWZpO1esQ  2020Q1                    946                  647.0   \n\n     difference_hts  percentage_difference_hts  total_dhis2_value_pmtct  \\\n6            -184.0                  37.782341                     42.0   \n15            -93.0                  31.525424                     48.0   \n16           -102.0                  34.812287                     59.0   \n62           -595.0                  31.431590                    106.0   \n63           -385.0                  32.654792                    121.0   \n..              ...                        ...                      ...   \n780           723.0                 179.850746                     45.0   \n781           786.0                 257.704918                     71.0   \n782           108.0                  48.000000                     58.0   \n783          -615.0                  59.766764                    121.0   \n793           299.0                  46.213292                    134.0   \n\n     total_datim_value_pmtct  difference_pmtct  percentage_difference_pmtct  \\\n6                       40.0               2.0                     5.000000   \n15                      50.0              -2.0                     4.000000   \n16                      58.0               1.0                     1.724138   \n62                     109.0              -3.0                     2.752294   \n63                     119.0               2.0                     1.680672   \n..                       ...               ...                          ...   \n780                     43.0               2.0                     4.651163   \n781                     71.0               0.0                     0.000000   \n782                     57.0               1.0                     1.754386   \n783                    125.0              -4.0                     3.200000   \n793                     96.0              38.0                    39.583333   \n\n    accept  new_difference  new_percentage_difference  \n6       no          -142.0                  29.158111  \n15      no           -45.0                  15.254237  \n16      no           -43.0                  14.675768  \n62      no          -489.0                  25.832013  \n63      no          -264.0                  22.391858  \n..     ...             ...                        ...  \n780     no           768.0                 191.044776  \n781     no           857.0                 280.983607  \n782     no           166.0                  73.777778  \n783     no          -494.0                  48.007775  \n793     no           433.0                  66.924266  \n\n[94 rows x 13 columns]",
      "text/html": "<div>\n<style scoped>\n    .dataframe tbody tr th:only-of-type {\n        vertical-align: middle;\n    }\n\n    .dataframe tbody tr th {\n        vertical-align: top;\n    }\n\n    .dataframe thead th {\n        text-align: right;\n    }\n</style>\n<table border=\"1\" class=\"dataframe\">\n  <thead>\n    <tr style=\"text-align: right;\">\n      <th></th>\n      <th>facilityuid</th>\n      <th>period</th>\n      <th>total_dhis2_value_hts</th>\n      <th>total_datim_value_hts</th>\n      <th>difference_hts</th>\n      <th>percentage_difference_hts</th>\n      <th>total_dhis2_value_pmtct</th>\n      <th>total_datim_value_pmtct</th>\n      <th>difference_pmtct</th>\n      <th>percentage_difference_pmtct</th>\n      <th>accept</th>\n      <th>new_difference</th>\n      <th>new_percentage_difference</th>\n    </tr>\n  </thead>\n  <tbody>\n    <tr>\n      <th>6</th>\n      <td>B8Y8xuk4MFf</td>\n      <td>2019Q4</td>\n      <td>303</td>\n      <td>487.0</td>\n      <td>-184.0</td>\n      <td>37.782341</td>\n      <td>42.0</td>\n      <td>40.0</td>\n      <td>2.0</td>\n      <td>5.000000</td>\n      <td>no</td>\n      <td>-142.0</td>\n      <td>29.158111</td>\n    </tr>\n    <tr>\n      <th>15</th>\n      <td>BSIVRetkq9o</td>\n      <td>2019Q4</td>\n      <td>202</td>\n      <td>295.0</td>\n      <td>-93.0</td>\n      <td>31.525424</td>\n      <td>48.0</td>\n      <td>50.0</td>\n      <td>-2.0</td>\n      <td>4.000000</td>\n      <td>no</td>\n      <td>-45.0</td>\n      <td>15.254237</td>\n    </tr>\n    <tr>\n      <th>16</th>\n      <td>BSIVRetkq9o</td>\n      <td>2020Q1</td>\n      <td>191</td>\n      <td>293.0</td>\n      <td>-102.0</td>\n      <td>34.812287</td>\n      <td>59.0</td>\n      <td>58.0</td>\n      <td>1.0</td>\n      <td>1.724138</td>\n      <td>no</td>\n      <td>-43.0</td>\n      <td>14.675768</td>\n    </tr>\n    <tr>\n      <th>62</th>\n      <td>Dp9uga9zfqH</td>\n      <td>2019Q4</td>\n      <td>1298</td>\n      <td>1893.0</td>\n      <td>-595.0</td>\n      <td>31.431590</td>\n      <td>106.0</td>\n      <td>109.0</td>\n      <td>-3.0</td>\n      <td>2.752294</td>\n      <td>no</td>\n      <td>-489.0</td>\n      <td>25.832013</td>\n    </tr>\n    <tr>\n      <th>63</th>\n      <td>Dp9uga9zfqH</td>\n      <td>2020Q1</td>\n      <td>794</td>\n      <td>1179.0</td>\n      <td>-385.0</td>\n      <td>32.654792</td>\n      <td>121.0</td>\n      <td>119.0</td>\n      <td>2.0</td>\n      <td>1.680672</td>\n      <td>no</td>\n      <td>-264.0</td>\n      <td>22.391858</td>\n    </tr>\n    <tr>\n      <th>...</th>\n      <td>...</td>\n      <td>...</td>\n      <td>...</td>\n      <td>...</td>\n      <td>...</td>\n      <td>...</td>\n      <td>...</td>\n      <td>...</td>\n      <td>...</td>\n      <td>...</td>\n      <td>...</td>\n      <td>...</td>\n      <td>...</td>\n    </tr>\n    <tr>\n      <th>780</th>\n      <td>xaQ9Z2jrxRM</td>\n      <td>2019Q4</td>\n      <td>1125</td>\n      <td>402.0</td>\n      <td>723.0</td>\n      <td>179.850746</td>\n      <td>45.0</td>\n      <td>43.0</td>\n      <td>2.0</td>\n      <td>4.651163</td>\n      <td>no</td>\n      <td>768.0</td>\n      <td>191.044776</td>\n    </tr>\n    <tr>\n      <th>781</th>\n      <td>xaQ9Z2jrxRM</td>\n      <td>2020Q1</td>\n      <td>1091</td>\n      <td>305.0</td>\n      <td>786.0</td>\n      <td>257.704918</td>\n      <td>71.0</td>\n      <td>71.0</td>\n      <td>0.0</td>\n      <td>0.000000</td>\n      <td>no</td>\n      <td>857.0</td>\n      <td>280.983607</td>\n    </tr>\n    <tr>\n      <th>782</th>\n      <td>xaQ9Z2jrxRM</td>\n      <td>2020Q2</td>\n      <td>333</td>\n      <td>225.0</td>\n      <td>108.0</td>\n      <td>48.000000</td>\n      <td>58.0</td>\n      <td>57.0</td>\n      <td>1.0</td>\n      <td>1.754386</td>\n      <td>no</td>\n      <td>166.0</td>\n      <td>73.777778</td>\n    </tr>\n    <tr>\n      <th>783</th>\n      <td>xt2lltkTLza</td>\n      <td>2019Q4</td>\n      <td>414</td>\n      <td>1029.0</td>\n      <td>-615.0</td>\n      <td>59.766764</td>\n      <td>121.0</td>\n      <td>125.0</td>\n      <td>-4.0</td>\n      <td>3.200000</td>\n      <td>no</td>\n      <td>-494.0</td>\n      <td>48.007775</td>\n    </tr>\n    <tr>\n      <th>793</th>\n      <td>yanWZpO1esQ</td>\n      <td>2020Q1</td>\n      <td>946</td>\n      <td>647.0</td>\n      <td>299.0</td>\n      <td>46.213292</td>\n      <td>134.0</td>\n      <td>96.0</td>\n      <td>38.0</td>\n      <td>39.583333</td>\n      <td>no</td>\n      <td>433.0</td>\n      <td>66.924266</td>\n    </tr>\n  </tbody>\n</table>\n<p>94 rows × 13 columns</p>\n</div>"
     },
     "execution_count": 259,
     "metadata": {},
     "output_type": "execute_result"
    }
   ],
   "source": [
    "new_cutoff = rejected[\"new_percentage_difference\"].mean()\n",
    "print(new_cutoff)\n",
    "b = rejected[rejected['new_percentage_difference'] > new_cutoff]\n",
    "b"
   ]
  },
  {
   "cell_type": "code",
   "execution_count": 260,
   "metadata": {
    "pycharm": {
     "name": "#%%\n"
    }
   },
   "outputs": [
    {
     "name": "stderr",
     "output_type": "stream",
     "text": [
      "C:\\Users\\bowen\\AppData\\Local\\Temp\\ipykernel_13684\\241405633.py:2: SettingWithCopyWarning: \n",
      "A value is trying to be set on a copy of a slice from a DataFrame.\n",
      "Try using .loc[row_indexer,col_indexer] = value instead\n",
      "\n",
      "See the caveats in the documentation: https://pandas.pydata.org/pandas-docs/stable/user_guide/indexing.html#returning-a-view-versus-a-copy\n"
     ]
    },
    {
     "data": {
      "text/plain": "     facilityuid  period  total_dhis2_value_hts  total_datim_value_hts  \\\n2    AKCk8JAY0dK  2020Q2                    101                  149.0   \n3    AbSJUr5oge2  2019Q4                    322                  541.0   \n4    AbSJUr5oge2  2020Q1                    415                  683.0   \n5    AbSJUr5oge2  2020Q2                    255                  483.0   \n6    B8Y8xuk4MFf  2019Q4                    303                  487.0   \n..           ...     ...                    ...                    ...   \n812  zsswqbRZEzQ  2019Q4                    108                  165.0   \n813  zsswqbRZEzQ  2020Q1                    106                  192.0   \n814  zsswqbRZEzQ  2020Q2                     62                  133.0   \n815  zvicDsjeRbr  2019Q4                     51                   72.0   \n817  zvicDsjeRbr  2020Q2                     21                   52.0   \n\n     difference_hts  percentage_difference_hts  total_dhis2_value_pmtct  \\\n2             -48.0                  32.214765                     49.0   \n3            -219.0                  40.480591                    217.0   \n4            -268.0                  39.238653                    272.0   \n5            -228.0                  47.204969                    229.0   \n6            -184.0                  37.782341                     42.0   \n..              ...                        ...                      ...   \n812           -57.0                  34.545455                     57.0   \n813           -86.0                  44.791667                     86.0   \n814           -71.0                  53.383459                     72.0   \n815           -21.0                  29.166667                     23.0   \n817           -31.0                  59.615385                     31.0   \n\n     total_datim_value_pmtct  difference_pmtct  percentage_difference_pmtct  \\\n2                       49.0               0.0                     0.000000   \n3                      213.0               4.0                     1.877934   \n4                      267.0               5.0                     1.872659   \n5                      223.0               6.0                     2.690583   \n6                       40.0               2.0                     5.000000   \n..                       ...               ...                          ...   \n812                     57.0               0.0                     0.000000   \n813                     85.0               1.0                     1.176471   \n814                     71.0               1.0                     1.408451   \n815                     23.0               0.0                     0.000000   \n817                     29.0               2.0                     6.896552   \n\n    accept  new_difference  new_percentage_difference new_accept  \n2       no             1.0                   0.671141        yes  \n3       no            -2.0                   0.369686        yes  \n4       no             4.0                   0.585652        yes  \n5       no             1.0                   0.207039        yes  \n6       no          -142.0                  29.158111         no  \n..     ...             ...                        ...        ...  \n812     no             0.0                   0.000000        yes  \n813     no             0.0                   0.000000        yes  \n814     no             1.0                   0.751880        yes  \n815     no             2.0                   2.777778        yes  \n817     no             0.0                   0.000000        yes  \n\n[411 rows x 14 columns]",
      "text/html": "<div>\n<style scoped>\n    .dataframe tbody tr th:only-of-type {\n        vertical-align: middle;\n    }\n\n    .dataframe tbody tr th {\n        vertical-align: top;\n    }\n\n    .dataframe thead th {\n        text-align: right;\n    }\n</style>\n<table border=\"1\" class=\"dataframe\">\n  <thead>\n    <tr style=\"text-align: right;\">\n      <th></th>\n      <th>facilityuid</th>\n      <th>period</th>\n      <th>total_dhis2_value_hts</th>\n      <th>total_datim_value_hts</th>\n      <th>difference_hts</th>\n      <th>percentage_difference_hts</th>\n      <th>total_dhis2_value_pmtct</th>\n      <th>total_datim_value_pmtct</th>\n      <th>difference_pmtct</th>\n      <th>percentage_difference_pmtct</th>\n      <th>accept</th>\n      <th>new_difference</th>\n      <th>new_percentage_difference</th>\n      <th>new_accept</th>\n    </tr>\n  </thead>\n  <tbody>\n    <tr>\n      <th>2</th>\n      <td>AKCk8JAY0dK</td>\n      <td>2020Q2</td>\n      <td>101</td>\n      <td>149.0</td>\n      <td>-48.0</td>\n      <td>32.214765</td>\n      <td>49.0</td>\n      <td>49.0</td>\n      <td>0.0</td>\n      <td>0.000000</td>\n      <td>no</td>\n      <td>1.0</td>\n      <td>0.671141</td>\n      <td>yes</td>\n    </tr>\n    <tr>\n      <th>3</th>\n      <td>AbSJUr5oge2</td>\n      <td>2019Q4</td>\n      <td>322</td>\n      <td>541.0</td>\n      <td>-219.0</td>\n      <td>40.480591</td>\n      <td>217.0</td>\n      <td>213.0</td>\n      <td>4.0</td>\n      <td>1.877934</td>\n      <td>no</td>\n      <td>-2.0</td>\n      <td>0.369686</td>\n      <td>yes</td>\n    </tr>\n    <tr>\n      <th>4</th>\n      <td>AbSJUr5oge2</td>\n      <td>2020Q1</td>\n      <td>415</td>\n      <td>683.0</td>\n      <td>-268.0</td>\n      <td>39.238653</td>\n      <td>272.0</td>\n      <td>267.0</td>\n      <td>5.0</td>\n      <td>1.872659</td>\n      <td>no</td>\n      <td>4.0</td>\n      <td>0.585652</td>\n      <td>yes</td>\n    </tr>\n    <tr>\n      <th>5</th>\n      <td>AbSJUr5oge2</td>\n      <td>2020Q2</td>\n      <td>255</td>\n      <td>483.0</td>\n      <td>-228.0</td>\n      <td>47.204969</td>\n      <td>229.0</td>\n      <td>223.0</td>\n      <td>6.0</td>\n      <td>2.690583</td>\n      <td>no</td>\n      <td>1.0</td>\n      <td>0.207039</td>\n      <td>yes</td>\n    </tr>\n    <tr>\n      <th>6</th>\n      <td>B8Y8xuk4MFf</td>\n      <td>2019Q4</td>\n      <td>303</td>\n      <td>487.0</td>\n      <td>-184.0</td>\n      <td>37.782341</td>\n      <td>42.0</td>\n      <td>40.0</td>\n      <td>2.0</td>\n      <td>5.000000</td>\n      <td>no</td>\n      <td>-142.0</td>\n      <td>29.158111</td>\n      <td>no</td>\n    </tr>\n    <tr>\n      <th>...</th>\n      <td>...</td>\n      <td>...</td>\n      <td>...</td>\n      <td>...</td>\n      <td>...</td>\n      <td>...</td>\n      <td>...</td>\n      <td>...</td>\n      <td>...</td>\n      <td>...</td>\n      <td>...</td>\n      <td>...</td>\n      <td>...</td>\n      <td>...</td>\n    </tr>\n    <tr>\n      <th>812</th>\n      <td>zsswqbRZEzQ</td>\n      <td>2019Q4</td>\n      <td>108</td>\n      <td>165.0</td>\n      <td>-57.0</td>\n      <td>34.545455</td>\n      <td>57.0</td>\n      <td>57.0</td>\n      <td>0.0</td>\n      <td>0.000000</td>\n      <td>no</td>\n      <td>0.0</td>\n      <td>0.000000</td>\n      <td>yes</td>\n    </tr>\n    <tr>\n      <th>813</th>\n      <td>zsswqbRZEzQ</td>\n      <td>2020Q1</td>\n      <td>106</td>\n      <td>192.0</td>\n      <td>-86.0</td>\n      <td>44.791667</td>\n      <td>86.0</td>\n      <td>85.0</td>\n      <td>1.0</td>\n      <td>1.176471</td>\n      <td>no</td>\n      <td>0.0</td>\n      <td>0.000000</td>\n      <td>yes</td>\n    </tr>\n    <tr>\n      <th>814</th>\n      <td>zsswqbRZEzQ</td>\n      <td>2020Q2</td>\n      <td>62</td>\n      <td>133.0</td>\n      <td>-71.0</td>\n      <td>53.383459</td>\n      <td>72.0</td>\n      <td>71.0</td>\n      <td>1.0</td>\n      <td>1.408451</td>\n      <td>no</td>\n      <td>1.0</td>\n      <td>0.751880</td>\n      <td>yes</td>\n    </tr>\n    <tr>\n      <th>815</th>\n      <td>zvicDsjeRbr</td>\n      <td>2019Q4</td>\n      <td>51</td>\n      <td>72.0</td>\n      <td>-21.0</td>\n      <td>29.166667</td>\n      <td>23.0</td>\n      <td>23.0</td>\n      <td>0.0</td>\n      <td>0.000000</td>\n      <td>no</td>\n      <td>2.0</td>\n      <td>2.777778</td>\n      <td>yes</td>\n    </tr>\n    <tr>\n      <th>817</th>\n      <td>zvicDsjeRbr</td>\n      <td>2020Q2</td>\n      <td>21</td>\n      <td>52.0</td>\n      <td>-31.0</td>\n      <td>59.615385</td>\n      <td>31.0</td>\n      <td>29.0</td>\n      <td>2.0</td>\n      <td>6.896552</td>\n      <td>no</td>\n      <td>0.0</td>\n      <td>0.000000</td>\n      <td>yes</td>\n    </tr>\n  </tbody>\n</table>\n<p>411 rows × 14 columns</p>\n</div>"
     },
     "execution_count": 260,
     "metadata": {},
     "output_type": "execute_result"
    }
   ],
   "source": [
    "# define a lambda function with if-else conditions\n",
    "rejected['new_accept'] = rejected['new_percentage_difference'].apply(lambda x: 'yes' if x < new_cutoff else 'no')\n",
    "rejected"
   ]
  },
  {
   "cell_type": "code",
   "execution_count": 261,
   "metadata": {
    "pycharm": {
     "name": "#%%\n"
    }
   },
   "outputs": [
    {
     "name": "stderr",
     "output_type": "stream",
     "text": [
      "C:\\Users\\bowen\\AppData\\Local\\Temp\\ipykernel_13684\\3703681518.py:1: SettingWithCopyWarning: \n",
      "A value is trying to be set on a copy of a slice from a DataFrame.\n",
      "Try using .loc[row_indexer,col_indexer] = value instead\n",
      "\n",
      "See the caveats in the documentation: https://pandas.pydata.org/pandas-docs/stable/user_guide/indexing.html#returning-a-view-versus-a-copy\n"
     ]
    },
    {
     "data": {
      "text/plain": "     facilityuid  period  total_dhis2_value_hts  total_datim_value_hts  \\\n2    AKCk8JAY0dK  2020Q2                    101                  149.0   \n3    AbSJUr5oge2  2019Q4                    322                  541.0   \n4    AbSJUr5oge2  2020Q1                    415                  683.0   \n5    AbSJUr5oge2  2020Q2                    255                  483.0   \n6    B8Y8xuk4MFf  2019Q4                    303                  487.0   \n..           ...     ...                    ...                    ...   \n812  zsswqbRZEzQ  2019Q4                    108                  165.0   \n813  zsswqbRZEzQ  2020Q1                    106                  192.0   \n814  zsswqbRZEzQ  2020Q2                     62                  133.0   \n815  zvicDsjeRbr  2019Q4                     51                   72.0   \n817  zvicDsjeRbr  2020Q2                     21                   52.0   \n\n     difference_hts  percentage_difference_hts  total_dhis2_value_pmtct  \\\n2             -48.0                  32.214765                     49.0   \n3            -219.0                  40.480591                    217.0   \n4            -268.0                  39.238653                    272.0   \n5            -228.0                  47.204969                    229.0   \n6            -184.0                  37.782341                     42.0   \n..              ...                        ...                      ...   \n812           -57.0                  34.545455                     57.0   \n813           -86.0                  44.791667                     86.0   \n814           -71.0                  53.383459                     72.0   \n815           -21.0                  29.166667                     23.0   \n817           -31.0                  59.615385                     31.0   \n\n     total_datim_value_pmtct  difference_pmtct  percentage_difference_pmtct  \\\n2                       49.0               0.0                     0.000000   \n3                      213.0               4.0                     1.877934   \n4                      267.0               5.0                     1.872659   \n5                      223.0               6.0                     2.690583   \n6                       40.0               2.0                     5.000000   \n..                       ...               ...                          ...   \n812                     57.0               0.0                     0.000000   \n813                     85.0               1.0                     1.176471   \n814                     71.0               1.0                     1.408451   \n815                     23.0               0.0                     0.000000   \n817                     29.0               2.0                     6.896552   \n\n    accept  new_difference  new_percentage_difference new_accept  \n2      yes             1.0                   0.671141        yes  \n3      yes            -2.0                   0.369686        yes  \n4      yes             4.0                   0.585652        yes  \n5      yes             1.0                   0.207039        yes  \n6       no          -142.0                  29.158111         no  \n..     ...             ...                        ...        ...  \n812    yes             0.0                   0.000000        yes  \n813    yes             0.0                   0.000000        yes  \n814    yes             1.0                   0.751880        yes  \n815    yes             2.0                   2.777778        yes  \n817    yes             0.0                   0.000000        yes  \n\n[411 rows x 14 columns]",
      "text/html": "<div>\n<style scoped>\n    .dataframe tbody tr th:only-of-type {\n        vertical-align: middle;\n    }\n\n    .dataframe tbody tr th {\n        vertical-align: top;\n    }\n\n    .dataframe thead th {\n        text-align: right;\n    }\n</style>\n<table border=\"1\" class=\"dataframe\">\n  <thead>\n    <tr style=\"text-align: right;\">\n      <th></th>\n      <th>facilityuid</th>\n      <th>period</th>\n      <th>total_dhis2_value_hts</th>\n      <th>total_datim_value_hts</th>\n      <th>difference_hts</th>\n      <th>percentage_difference_hts</th>\n      <th>total_dhis2_value_pmtct</th>\n      <th>total_datim_value_pmtct</th>\n      <th>difference_pmtct</th>\n      <th>percentage_difference_pmtct</th>\n      <th>accept</th>\n      <th>new_difference</th>\n      <th>new_percentage_difference</th>\n      <th>new_accept</th>\n    </tr>\n  </thead>\n  <tbody>\n    <tr>\n      <th>2</th>\n      <td>AKCk8JAY0dK</td>\n      <td>2020Q2</td>\n      <td>101</td>\n      <td>149.0</td>\n      <td>-48.0</td>\n      <td>32.214765</td>\n      <td>49.0</td>\n      <td>49.0</td>\n      <td>0.0</td>\n      <td>0.000000</td>\n      <td>yes</td>\n      <td>1.0</td>\n      <td>0.671141</td>\n      <td>yes</td>\n    </tr>\n    <tr>\n      <th>3</th>\n      <td>AbSJUr5oge2</td>\n      <td>2019Q4</td>\n      <td>322</td>\n      <td>541.0</td>\n      <td>-219.0</td>\n      <td>40.480591</td>\n      <td>217.0</td>\n      <td>213.0</td>\n      <td>4.0</td>\n      <td>1.877934</td>\n      <td>yes</td>\n      <td>-2.0</td>\n      <td>0.369686</td>\n      <td>yes</td>\n    </tr>\n    <tr>\n      <th>4</th>\n      <td>AbSJUr5oge2</td>\n      <td>2020Q1</td>\n      <td>415</td>\n      <td>683.0</td>\n      <td>-268.0</td>\n      <td>39.238653</td>\n      <td>272.0</td>\n      <td>267.0</td>\n      <td>5.0</td>\n      <td>1.872659</td>\n      <td>yes</td>\n      <td>4.0</td>\n      <td>0.585652</td>\n      <td>yes</td>\n    </tr>\n    <tr>\n      <th>5</th>\n      <td>AbSJUr5oge2</td>\n      <td>2020Q2</td>\n      <td>255</td>\n      <td>483.0</td>\n      <td>-228.0</td>\n      <td>47.204969</td>\n      <td>229.0</td>\n      <td>223.0</td>\n      <td>6.0</td>\n      <td>2.690583</td>\n      <td>yes</td>\n      <td>1.0</td>\n      <td>0.207039</td>\n      <td>yes</td>\n    </tr>\n    <tr>\n      <th>6</th>\n      <td>B8Y8xuk4MFf</td>\n      <td>2019Q4</td>\n      <td>303</td>\n      <td>487.0</td>\n      <td>-184.0</td>\n      <td>37.782341</td>\n      <td>42.0</td>\n      <td>40.0</td>\n      <td>2.0</td>\n      <td>5.000000</td>\n      <td>no</td>\n      <td>-142.0</td>\n      <td>29.158111</td>\n      <td>no</td>\n    </tr>\n    <tr>\n      <th>...</th>\n      <td>...</td>\n      <td>...</td>\n      <td>...</td>\n      <td>...</td>\n      <td>...</td>\n      <td>...</td>\n      <td>...</td>\n      <td>...</td>\n      <td>...</td>\n      <td>...</td>\n      <td>...</td>\n      <td>...</td>\n      <td>...</td>\n      <td>...</td>\n    </tr>\n    <tr>\n      <th>812</th>\n      <td>zsswqbRZEzQ</td>\n      <td>2019Q4</td>\n      <td>108</td>\n      <td>165.0</td>\n      <td>-57.0</td>\n      <td>34.545455</td>\n      <td>57.0</td>\n      <td>57.0</td>\n      <td>0.0</td>\n      <td>0.000000</td>\n      <td>yes</td>\n      <td>0.0</td>\n      <td>0.000000</td>\n      <td>yes</td>\n    </tr>\n    <tr>\n      <th>813</th>\n      <td>zsswqbRZEzQ</td>\n      <td>2020Q1</td>\n      <td>106</td>\n      <td>192.0</td>\n      <td>-86.0</td>\n      <td>44.791667</td>\n      <td>86.0</td>\n      <td>85.0</td>\n      <td>1.0</td>\n      <td>1.176471</td>\n      <td>yes</td>\n      <td>0.0</td>\n      <td>0.000000</td>\n      <td>yes</td>\n    </tr>\n    <tr>\n      <th>814</th>\n      <td>zsswqbRZEzQ</td>\n      <td>2020Q2</td>\n      <td>62</td>\n      <td>133.0</td>\n      <td>-71.0</td>\n      <td>53.383459</td>\n      <td>72.0</td>\n      <td>71.0</td>\n      <td>1.0</td>\n      <td>1.408451</td>\n      <td>yes</td>\n      <td>1.0</td>\n      <td>0.751880</td>\n      <td>yes</td>\n    </tr>\n    <tr>\n      <th>815</th>\n      <td>zvicDsjeRbr</td>\n      <td>2019Q4</td>\n      <td>51</td>\n      <td>72.0</td>\n      <td>-21.0</td>\n      <td>29.166667</td>\n      <td>23.0</td>\n      <td>23.0</td>\n      <td>0.0</td>\n      <td>0.000000</td>\n      <td>yes</td>\n      <td>2.0</td>\n      <td>2.777778</td>\n      <td>yes</td>\n    </tr>\n    <tr>\n      <th>817</th>\n      <td>zvicDsjeRbr</td>\n      <td>2020Q2</td>\n      <td>21</td>\n      <td>52.0</td>\n      <td>-31.0</td>\n      <td>59.615385</td>\n      <td>31.0</td>\n      <td>29.0</td>\n      <td>2.0</td>\n      <td>6.896552</td>\n      <td>yes</td>\n      <td>0.0</td>\n      <td>0.000000</td>\n      <td>yes</td>\n    </tr>\n  </tbody>\n</table>\n<p>411 rows × 14 columns</p>\n</div>"
     },
     "execution_count": 261,
     "metadata": {},
     "output_type": "execute_result"
    }
   ],
   "source": [
    "rejected['accept'] = rejected['new_accept']\n",
    "rejected"
   ]
  },
  {
   "cell_type": "code",
   "execution_count": 261,
   "metadata": {
    "pycharm": {
     "name": "#%%\n"
    }
   },
   "outputs": [],
   "source": []
  },
  {
   "cell_type": "code",
   "execution_count": 262,
   "metadata": {
    "pycharm": {
     "name": "#%%\n"
    }
   },
   "outputs": [
    {
     "data": {
      "text/plain": "     facilityuid  period  total_dhis2_value_hts  total_datim_value_hts  \\\n0    AKCk8JAY0dK  2019Q4                    168                  200.0   \n1    AKCk8JAY0dK  2020Q1                    234                  280.0   \n7    B8Y8xuk4MFf  2020Q1                    144                  192.0   \n9    BEjIOW8DUVY  2019Q4                     81                  104.0   \n17   BSIVRetkq9o  2020Q2                    136                  186.0   \n..           ...     ...                    ...                    ...   \n810  zjvUyYZscbf  2020Q1                     97                  131.0   \n816  zvicDsjeRbr  2020Q1                     32                   44.0   \n818  zwV7ekHDAwe  2019Q4                    739                  890.0   \n819  zwV7ekHDAwe  2020Q1                    455                  510.0   \n820  zwV7ekHDAwe  2020Q2                    396                  333.0   \n\n     difference_hts  percentage_difference_hts  total_dhis2_value_pmtct  \\\n0             -32.0                  16.000000                     31.0   \n1             -46.0                  16.428571                     46.0   \n7             -48.0                  25.000000                     44.0   \n9             -23.0                  22.115385                     23.0   \n17            -50.0                  26.881720                     58.0   \n..              ...                        ...                      ...   \n810           -34.0                  25.954198                     36.0   \n816           -12.0                  27.272727                     20.0   \n818          -151.0                  16.966292                     66.0   \n819           -55.0                  10.784314                     93.0   \n820            63.0                  18.918919                     57.0   \n\n     total_datim_value_pmtct  difference_pmtct  percentage_difference_pmtct  \\\n0                       31.0               0.0                     0.000000   \n1                       46.0               0.0                     0.000000   \n7                       43.0               1.0                     2.325581   \n9                       23.0               0.0                     0.000000   \n17                      56.0               2.0                     3.571429   \n..                       ...               ...                          ...   \n810                     34.0               2.0                     5.882353   \n816                     20.0               0.0                     0.000000   \n818                     66.0               0.0                     0.000000   \n819                     85.0               8.0                     9.411765   \n820                     56.0               1.0                     1.785714   \n\n    accept  \n0      yes  \n1      yes  \n7      yes  \n9      yes  \n17     yes  \n..     ...  \n810    yes  \n816    yes  \n818    yes  \n819    yes  \n820    yes  \n\n[410 rows x 11 columns]",
      "text/html": "<div>\n<style scoped>\n    .dataframe tbody tr th:only-of-type {\n        vertical-align: middle;\n    }\n\n    .dataframe tbody tr th {\n        vertical-align: top;\n    }\n\n    .dataframe thead th {\n        text-align: right;\n    }\n</style>\n<table border=\"1\" class=\"dataframe\">\n  <thead>\n    <tr style=\"text-align: right;\">\n      <th></th>\n      <th>facilityuid</th>\n      <th>period</th>\n      <th>total_dhis2_value_hts</th>\n      <th>total_datim_value_hts</th>\n      <th>difference_hts</th>\n      <th>percentage_difference_hts</th>\n      <th>total_dhis2_value_pmtct</th>\n      <th>total_datim_value_pmtct</th>\n      <th>difference_pmtct</th>\n      <th>percentage_difference_pmtct</th>\n      <th>accept</th>\n    </tr>\n  </thead>\n  <tbody>\n    <tr>\n      <th>0</th>\n      <td>AKCk8JAY0dK</td>\n      <td>2019Q4</td>\n      <td>168</td>\n      <td>200.0</td>\n      <td>-32.0</td>\n      <td>16.000000</td>\n      <td>31.0</td>\n      <td>31.0</td>\n      <td>0.0</td>\n      <td>0.000000</td>\n      <td>yes</td>\n    </tr>\n    <tr>\n      <th>1</th>\n      <td>AKCk8JAY0dK</td>\n      <td>2020Q1</td>\n      <td>234</td>\n      <td>280.0</td>\n      <td>-46.0</td>\n      <td>16.428571</td>\n      <td>46.0</td>\n      <td>46.0</td>\n      <td>0.0</td>\n      <td>0.000000</td>\n      <td>yes</td>\n    </tr>\n    <tr>\n      <th>7</th>\n      <td>B8Y8xuk4MFf</td>\n      <td>2020Q1</td>\n      <td>144</td>\n      <td>192.0</td>\n      <td>-48.0</td>\n      <td>25.000000</td>\n      <td>44.0</td>\n      <td>43.0</td>\n      <td>1.0</td>\n      <td>2.325581</td>\n      <td>yes</td>\n    </tr>\n    <tr>\n      <th>9</th>\n      <td>BEjIOW8DUVY</td>\n      <td>2019Q4</td>\n      <td>81</td>\n      <td>104.0</td>\n      <td>-23.0</td>\n      <td>22.115385</td>\n      <td>23.0</td>\n      <td>23.0</td>\n      <td>0.0</td>\n      <td>0.000000</td>\n      <td>yes</td>\n    </tr>\n    <tr>\n      <th>17</th>\n      <td>BSIVRetkq9o</td>\n      <td>2020Q2</td>\n      <td>136</td>\n      <td>186.0</td>\n      <td>-50.0</td>\n      <td>26.881720</td>\n      <td>58.0</td>\n      <td>56.0</td>\n      <td>2.0</td>\n      <td>3.571429</td>\n      <td>yes</td>\n    </tr>\n    <tr>\n      <th>...</th>\n      <td>...</td>\n      <td>...</td>\n      <td>...</td>\n      <td>...</td>\n      <td>...</td>\n      <td>...</td>\n      <td>...</td>\n      <td>...</td>\n      <td>...</td>\n      <td>...</td>\n      <td>...</td>\n    </tr>\n    <tr>\n      <th>810</th>\n      <td>zjvUyYZscbf</td>\n      <td>2020Q1</td>\n      <td>97</td>\n      <td>131.0</td>\n      <td>-34.0</td>\n      <td>25.954198</td>\n      <td>36.0</td>\n      <td>34.0</td>\n      <td>2.0</td>\n      <td>5.882353</td>\n      <td>yes</td>\n    </tr>\n    <tr>\n      <th>816</th>\n      <td>zvicDsjeRbr</td>\n      <td>2020Q1</td>\n      <td>32</td>\n      <td>44.0</td>\n      <td>-12.0</td>\n      <td>27.272727</td>\n      <td>20.0</td>\n      <td>20.0</td>\n      <td>0.0</td>\n      <td>0.000000</td>\n      <td>yes</td>\n    </tr>\n    <tr>\n      <th>818</th>\n      <td>zwV7ekHDAwe</td>\n      <td>2019Q4</td>\n      <td>739</td>\n      <td>890.0</td>\n      <td>-151.0</td>\n      <td>16.966292</td>\n      <td>66.0</td>\n      <td>66.0</td>\n      <td>0.0</td>\n      <td>0.000000</td>\n      <td>yes</td>\n    </tr>\n    <tr>\n      <th>819</th>\n      <td>zwV7ekHDAwe</td>\n      <td>2020Q1</td>\n      <td>455</td>\n      <td>510.0</td>\n      <td>-55.0</td>\n      <td>10.784314</td>\n      <td>93.0</td>\n      <td>85.0</td>\n      <td>8.0</td>\n      <td>9.411765</td>\n      <td>yes</td>\n    </tr>\n    <tr>\n      <th>820</th>\n      <td>zwV7ekHDAwe</td>\n      <td>2020Q2</td>\n      <td>396</td>\n      <td>333.0</td>\n      <td>63.0</td>\n      <td>18.918919</td>\n      <td>57.0</td>\n      <td>56.0</td>\n      <td>1.0</td>\n      <td>1.785714</td>\n      <td>yes</td>\n    </tr>\n  </tbody>\n</table>\n<p>410 rows × 11 columns</p>\n</div>"
     },
     "execution_count": 262,
     "metadata": {},
     "output_type": "execute_result"
    }
   ],
   "source": [
    "merged_df = merged_df[merged_df['accept'] != 'no'].copy()\n",
    "merged_df"
   ]
  },
  {
   "cell_type": "code",
   "execution_count": 263,
   "metadata": {
    "pycharm": {
     "name": "#%%\n"
    }
   },
   "outputs": [
    {
     "name": "stderr",
     "output_type": "stream",
     "text": [
      "C:\\Users\\bowen\\AppData\\Local\\Temp\\ipykernel_13684\\1228230554.py:1: SettingWithCopyWarning: \n",
      "A value is trying to be set on a copy of a slice from a DataFrame\n",
      "\n",
      "See the caveats in the documentation: https://pandas.pydata.org/pandas-docs/stable/user_guide/indexing.html#returning-a-view-versus-a-copy\n"
     ]
    },
    {
     "data": {
      "text/plain": "     facilityuid  period  total_dhis2_value_hts  total_datim_value_hts  \\\n2    AKCk8JAY0dK  2020Q2                    101                  149.0   \n3    AbSJUr5oge2  2019Q4                    322                  541.0   \n4    AbSJUr5oge2  2020Q1                    415                  683.0   \n5    AbSJUr5oge2  2020Q2                    255                  483.0   \n6    B8Y8xuk4MFf  2019Q4                    303                  487.0   \n..           ...     ...                    ...                    ...   \n812  zsswqbRZEzQ  2019Q4                    108                  165.0   \n813  zsswqbRZEzQ  2020Q1                    106                  192.0   \n814  zsswqbRZEzQ  2020Q2                     62                  133.0   \n815  zvicDsjeRbr  2019Q4                     51                   72.0   \n817  zvicDsjeRbr  2020Q2                     21                   52.0   \n\n     difference_hts  percentage_difference_hts  total_dhis2_value_pmtct  \\\n2             -48.0                  32.214765                     49.0   \n3            -219.0                  40.480591                    217.0   \n4            -268.0                  39.238653                    272.0   \n5            -228.0                  47.204969                    229.0   \n6            -184.0                  37.782341                     42.0   \n..              ...                        ...                      ...   \n812           -57.0                  34.545455                     57.0   \n813           -86.0                  44.791667                     86.0   \n814           -71.0                  53.383459                     72.0   \n815           -21.0                  29.166667                     23.0   \n817           -31.0                  59.615385                     31.0   \n\n     total_datim_value_pmtct  difference_pmtct  percentage_difference_pmtct  \\\n2                       49.0               0.0                     0.000000   \n3                      213.0               4.0                     1.877934   \n4                      267.0               5.0                     1.872659   \n5                      223.0               6.0                     2.690583   \n6                       40.0               2.0                     5.000000   \n..                       ...               ...                          ...   \n812                     57.0               0.0                     0.000000   \n813                     85.0               1.0                     1.176471   \n814                     71.0               1.0                     1.408451   \n815                     23.0               0.0                     0.000000   \n817                     29.0               2.0                     6.896552   \n\n    accept  \n2      yes  \n3      yes  \n4      yes  \n5      yes  \n6       no  \n..     ...  \n812    yes  \n813    yes  \n814    yes  \n815    yes  \n817    yes  \n\n[411 rows x 11 columns]",
      "text/html": "<div>\n<style scoped>\n    .dataframe tbody tr th:only-of-type {\n        vertical-align: middle;\n    }\n\n    .dataframe tbody tr th {\n        vertical-align: top;\n    }\n\n    .dataframe thead th {\n        text-align: right;\n    }\n</style>\n<table border=\"1\" class=\"dataframe\">\n  <thead>\n    <tr style=\"text-align: right;\">\n      <th></th>\n      <th>facilityuid</th>\n      <th>period</th>\n      <th>total_dhis2_value_hts</th>\n      <th>total_datim_value_hts</th>\n      <th>difference_hts</th>\n      <th>percentage_difference_hts</th>\n      <th>total_dhis2_value_pmtct</th>\n      <th>total_datim_value_pmtct</th>\n      <th>difference_pmtct</th>\n      <th>percentage_difference_pmtct</th>\n      <th>accept</th>\n    </tr>\n  </thead>\n  <tbody>\n    <tr>\n      <th>2</th>\n      <td>AKCk8JAY0dK</td>\n      <td>2020Q2</td>\n      <td>101</td>\n      <td>149.0</td>\n      <td>-48.0</td>\n      <td>32.214765</td>\n      <td>49.0</td>\n      <td>49.0</td>\n      <td>0.0</td>\n      <td>0.000000</td>\n      <td>yes</td>\n    </tr>\n    <tr>\n      <th>3</th>\n      <td>AbSJUr5oge2</td>\n      <td>2019Q4</td>\n      <td>322</td>\n      <td>541.0</td>\n      <td>-219.0</td>\n      <td>40.480591</td>\n      <td>217.0</td>\n      <td>213.0</td>\n      <td>4.0</td>\n      <td>1.877934</td>\n      <td>yes</td>\n    </tr>\n    <tr>\n      <th>4</th>\n      <td>AbSJUr5oge2</td>\n      <td>2020Q1</td>\n      <td>415</td>\n      <td>683.0</td>\n      <td>-268.0</td>\n      <td>39.238653</td>\n      <td>272.0</td>\n      <td>267.0</td>\n      <td>5.0</td>\n      <td>1.872659</td>\n      <td>yes</td>\n    </tr>\n    <tr>\n      <th>5</th>\n      <td>AbSJUr5oge2</td>\n      <td>2020Q2</td>\n      <td>255</td>\n      <td>483.0</td>\n      <td>-228.0</td>\n      <td>47.204969</td>\n      <td>229.0</td>\n      <td>223.0</td>\n      <td>6.0</td>\n      <td>2.690583</td>\n      <td>yes</td>\n    </tr>\n    <tr>\n      <th>6</th>\n      <td>B8Y8xuk4MFf</td>\n      <td>2019Q4</td>\n      <td>303</td>\n      <td>487.0</td>\n      <td>-184.0</td>\n      <td>37.782341</td>\n      <td>42.0</td>\n      <td>40.0</td>\n      <td>2.0</td>\n      <td>5.000000</td>\n      <td>no</td>\n    </tr>\n    <tr>\n      <th>...</th>\n      <td>...</td>\n      <td>...</td>\n      <td>...</td>\n      <td>...</td>\n      <td>...</td>\n      <td>...</td>\n      <td>...</td>\n      <td>...</td>\n      <td>...</td>\n      <td>...</td>\n      <td>...</td>\n    </tr>\n    <tr>\n      <th>812</th>\n      <td>zsswqbRZEzQ</td>\n      <td>2019Q4</td>\n      <td>108</td>\n      <td>165.0</td>\n      <td>-57.0</td>\n      <td>34.545455</td>\n      <td>57.0</td>\n      <td>57.0</td>\n      <td>0.0</td>\n      <td>0.000000</td>\n      <td>yes</td>\n    </tr>\n    <tr>\n      <th>813</th>\n      <td>zsswqbRZEzQ</td>\n      <td>2020Q1</td>\n      <td>106</td>\n      <td>192.0</td>\n      <td>-86.0</td>\n      <td>44.791667</td>\n      <td>86.0</td>\n      <td>85.0</td>\n      <td>1.0</td>\n      <td>1.176471</td>\n      <td>yes</td>\n    </tr>\n    <tr>\n      <th>814</th>\n      <td>zsswqbRZEzQ</td>\n      <td>2020Q2</td>\n      <td>62</td>\n      <td>133.0</td>\n      <td>-71.0</td>\n      <td>53.383459</td>\n      <td>72.0</td>\n      <td>71.0</td>\n      <td>1.0</td>\n      <td>1.408451</td>\n      <td>yes</td>\n    </tr>\n    <tr>\n      <th>815</th>\n      <td>zvicDsjeRbr</td>\n      <td>2019Q4</td>\n      <td>51</td>\n      <td>72.0</td>\n      <td>-21.0</td>\n      <td>29.166667</td>\n      <td>23.0</td>\n      <td>23.0</td>\n      <td>0.0</td>\n      <td>0.000000</td>\n      <td>yes</td>\n    </tr>\n    <tr>\n      <th>817</th>\n      <td>zvicDsjeRbr</td>\n      <td>2020Q2</td>\n      <td>21</td>\n      <td>52.0</td>\n      <td>-31.0</td>\n      <td>59.615385</td>\n      <td>31.0</td>\n      <td>29.0</td>\n      <td>2.0</td>\n      <td>6.896552</td>\n      <td>yes</td>\n    </tr>\n  </tbody>\n</table>\n<p>411 rows × 11 columns</p>\n</div>"
     },
     "execution_count": 263,
     "metadata": {},
     "output_type": "execute_result"
    }
   ],
   "source": [
    "rejected.drop(['new_difference','new_percentage_difference', 'new_accept'], axis=1, inplace=True)\n",
    "rejected"
   ]
  },
  {
   "cell_type": "code",
   "execution_count": 264,
   "metadata": {
    "pycharm": {
     "name": "#%%\n"
    }
   },
   "outputs": [
    {
     "data": {
      "text/plain": "     facilityuid  period  total_dhis2_value_hts  total_datim_value_hts  \\\n0    AKCk8JAY0dK  2019Q4                    168                  200.0   \n1    AKCk8JAY0dK  2020Q1                    234                  280.0   \n7    B8Y8xuk4MFf  2020Q1                    144                  192.0   \n9    BEjIOW8DUVY  2019Q4                     81                  104.0   \n17   BSIVRetkq9o  2020Q2                    136                  186.0   \n..           ...     ...                    ...                    ...   \n812  zsswqbRZEzQ  2019Q4                    108                  165.0   \n813  zsswqbRZEzQ  2020Q1                    106                  192.0   \n814  zsswqbRZEzQ  2020Q2                     62                  133.0   \n815  zvicDsjeRbr  2019Q4                     51                   72.0   \n817  zvicDsjeRbr  2020Q2                     21                   52.0   \n\n     difference_hts  percentage_difference_hts  total_dhis2_value_pmtct  \\\n0             -32.0                  16.000000                     31.0   \n1             -46.0                  16.428571                     46.0   \n7             -48.0                  25.000000                     44.0   \n9             -23.0                  22.115385                     23.0   \n17            -50.0                  26.881720                     58.0   \n..              ...                        ...                      ...   \n812           -57.0                  34.545455                     57.0   \n813           -86.0                  44.791667                     86.0   \n814           -71.0                  53.383459                     72.0   \n815           -21.0                  29.166667                     23.0   \n817           -31.0                  59.615385                     31.0   \n\n     total_datim_value_pmtct  difference_pmtct  percentage_difference_pmtct  \\\n0                       31.0               0.0                     0.000000   \n1                       46.0               0.0                     0.000000   \n7                       43.0               1.0                     2.325581   \n9                       23.0               0.0                     0.000000   \n17                      56.0               2.0                     3.571429   \n..                       ...               ...                          ...   \n812                     57.0               0.0                     0.000000   \n813                     85.0               1.0                     1.176471   \n814                     71.0               1.0                     1.408451   \n815                     23.0               0.0                     0.000000   \n817                     29.0               2.0                     6.896552   \n\n    accept  \n0      yes  \n1      yes  \n7      yes  \n9      yes  \n17     yes  \n..     ...  \n812    yes  \n813    yes  \n814    yes  \n815    yes  \n817    yes  \n\n[821 rows x 11 columns]",
      "text/html": "<div>\n<style scoped>\n    .dataframe tbody tr th:only-of-type {\n        vertical-align: middle;\n    }\n\n    .dataframe tbody tr th {\n        vertical-align: top;\n    }\n\n    .dataframe thead th {\n        text-align: right;\n    }\n</style>\n<table border=\"1\" class=\"dataframe\">\n  <thead>\n    <tr style=\"text-align: right;\">\n      <th></th>\n      <th>facilityuid</th>\n      <th>period</th>\n      <th>total_dhis2_value_hts</th>\n      <th>total_datim_value_hts</th>\n      <th>difference_hts</th>\n      <th>percentage_difference_hts</th>\n      <th>total_dhis2_value_pmtct</th>\n      <th>total_datim_value_pmtct</th>\n      <th>difference_pmtct</th>\n      <th>percentage_difference_pmtct</th>\n      <th>accept</th>\n    </tr>\n  </thead>\n  <tbody>\n    <tr>\n      <th>0</th>\n      <td>AKCk8JAY0dK</td>\n      <td>2019Q4</td>\n      <td>168</td>\n      <td>200.0</td>\n      <td>-32.0</td>\n      <td>16.000000</td>\n      <td>31.0</td>\n      <td>31.0</td>\n      <td>0.0</td>\n      <td>0.000000</td>\n      <td>yes</td>\n    </tr>\n    <tr>\n      <th>1</th>\n      <td>AKCk8JAY0dK</td>\n      <td>2020Q1</td>\n      <td>234</td>\n      <td>280.0</td>\n      <td>-46.0</td>\n      <td>16.428571</td>\n      <td>46.0</td>\n      <td>46.0</td>\n      <td>0.0</td>\n      <td>0.000000</td>\n      <td>yes</td>\n    </tr>\n    <tr>\n      <th>7</th>\n      <td>B8Y8xuk4MFf</td>\n      <td>2020Q1</td>\n      <td>144</td>\n      <td>192.0</td>\n      <td>-48.0</td>\n      <td>25.000000</td>\n      <td>44.0</td>\n      <td>43.0</td>\n      <td>1.0</td>\n      <td>2.325581</td>\n      <td>yes</td>\n    </tr>\n    <tr>\n      <th>9</th>\n      <td>BEjIOW8DUVY</td>\n      <td>2019Q4</td>\n      <td>81</td>\n      <td>104.0</td>\n      <td>-23.0</td>\n      <td>22.115385</td>\n      <td>23.0</td>\n      <td>23.0</td>\n      <td>0.0</td>\n      <td>0.000000</td>\n      <td>yes</td>\n    </tr>\n    <tr>\n      <th>17</th>\n      <td>BSIVRetkq9o</td>\n      <td>2020Q2</td>\n      <td>136</td>\n      <td>186.0</td>\n      <td>-50.0</td>\n      <td>26.881720</td>\n      <td>58.0</td>\n      <td>56.0</td>\n      <td>2.0</td>\n      <td>3.571429</td>\n      <td>yes</td>\n    </tr>\n    <tr>\n      <th>...</th>\n      <td>...</td>\n      <td>...</td>\n      <td>...</td>\n      <td>...</td>\n      <td>...</td>\n      <td>...</td>\n      <td>...</td>\n      <td>...</td>\n      <td>...</td>\n      <td>...</td>\n      <td>...</td>\n    </tr>\n    <tr>\n      <th>812</th>\n      <td>zsswqbRZEzQ</td>\n      <td>2019Q4</td>\n      <td>108</td>\n      <td>165.0</td>\n      <td>-57.0</td>\n      <td>34.545455</td>\n      <td>57.0</td>\n      <td>57.0</td>\n      <td>0.0</td>\n      <td>0.000000</td>\n      <td>yes</td>\n    </tr>\n    <tr>\n      <th>813</th>\n      <td>zsswqbRZEzQ</td>\n      <td>2020Q1</td>\n      <td>106</td>\n      <td>192.0</td>\n      <td>-86.0</td>\n      <td>44.791667</td>\n      <td>86.0</td>\n      <td>85.0</td>\n      <td>1.0</td>\n      <td>1.176471</td>\n      <td>yes</td>\n    </tr>\n    <tr>\n      <th>814</th>\n      <td>zsswqbRZEzQ</td>\n      <td>2020Q2</td>\n      <td>62</td>\n      <td>133.0</td>\n      <td>-71.0</td>\n      <td>53.383459</td>\n      <td>72.0</td>\n      <td>71.0</td>\n      <td>1.0</td>\n      <td>1.408451</td>\n      <td>yes</td>\n    </tr>\n    <tr>\n      <th>815</th>\n      <td>zvicDsjeRbr</td>\n      <td>2019Q4</td>\n      <td>51</td>\n      <td>72.0</td>\n      <td>-21.0</td>\n      <td>29.166667</td>\n      <td>23.0</td>\n      <td>23.0</td>\n      <td>0.0</td>\n      <td>0.000000</td>\n      <td>yes</td>\n    </tr>\n    <tr>\n      <th>817</th>\n      <td>zvicDsjeRbr</td>\n      <td>2020Q2</td>\n      <td>21</td>\n      <td>52.0</td>\n      <td>-31.0</td>\n      <td>59.615385</td>\n      <td>31.0</td>\n      <td>29.0</td>\n      <td>2.0</td>\n      <td>6.896552</td>\n      <td>yes</td>\n    </tr>\n  </tbody>\n</table>\n<p>821 rows × 11 columns</p>\n</div>"
     },
     "execution_count": 264,
     "metadata": {},
     "output_type": "execute_result"
    }
   ],
   "source": [
    "final_merge = pd.concat([merged_df, rejected], axis=0)\n",
    "final_merge"
   ]
  },
  {
   "cell_type": "code",
   "execution_count": 275,
   "outputs": [],
   "source": [
    "total_rejected = len(final_merge[final_merge['accept'] == 'no'])\n",
    "len(final_merge)\n",
    "total_accepted = len(final_merge[final_merge['accept'] == 'yes'])"
   ],
   "metadata": {
    "collapsed": false,
    "pycharm": {
     "name": "#%%\n"
    }
   }
  },
  {
   "cell_type": "code",
   "execution_count": 278,
   "outputs": [
    {
     "data": {
      "text/plain": "<Figure size 640x480 with 1 Axes>",
      "image/png": "[encoded data removed]"
     },
     "metadata": {},
     "output_type": "display_data"
    }
   ],
   "source": [
    "new_data = {\"total_accepted\": total_accepted,\n",
    "        \"total_rejected\": total_rejected}\n",
    "\n",
    "x_data = list(new_data.keys())\n",
    "y_data = list(new_data.values())\n",
    "\n",
    "\n",
    "bar2 = plt.bar(x_data, y_data, color ='maroon',\n",
    "        width = 0.4)\n",
    "bar2[0].set_color('g')\n",
    "bar2[1].set_color('r')\n",
    "plt.xlabel(\"acceptance\")\n",
    "plt.ylabel(\"Total count\")\n",
    "plt.title(\"Relational plot between accepted and rejected\")\n",
    "plt.show()"
   ],
   "metadata": {
    "collapsed": false,
    "pycharm": {
     "name": "#%%\n"
    }
   }
  },
  {
   "cell_type": "code",
   "execution_count": 194,
   "outputs": [
    {
     "name": "stdout",
     "output_type": "stream",
     "text": [
      "<class 'pandas.core.frame.DataFrame'>\n",
      "Int64Index: 821 entries, 0 to 817\n",
      "Data columns (total 11 columns):\n",
      " #   Column                       Non-Null Count  Dtype  \n",
      "---  ------                       --------------  -----  \n",
      " 0   facilityuid                  821 non-null    object \n",
      " 1   period                       821 non-null    object \n",
      " 2   total_dhis2_value_hts        821 non-null    int64  \n",
      " 3   total_datim_value_hts        821 non-null    float64\n",
      " 4   difference_hts               821 non-null    float64\n",
      " 5   percentage_difference_hts    821 non-null    float64\n",
      " 6   total_dhis2_value_pmtct      821 non-null    float64\n",
      " 7   total_datim_value_pmtct      821 non-null    float64\n",
      " 8   difference_pmtct             821 non-null    float64\n",
      " 9   percentage_difference_pmtct  821 non-null    float64\n",
      " 10  accept                       821 non-null    object \n",
      "dtypes: float64(7), int64(1), object(3)\n",
      "memory usage: 77.0+ KB\n"
     ]
    }
   ],
   "source": [
    "final_merge.info()"
   ],
   "metadata": {
    "collapsed": false,
    "pycharm": {
     "name": "#%%\n"
    }
   }
  },
  {
   "cell_type": "markdown",
   "source": [
    "# Creating the binary classification model"
   ],
   "metadata": {
    "collapsed": false,
    "pycharm": {
     "name": "#%% md\n"
    }
   }
  },
  {
   "cell_type": "code",
   "execution_count": 195,
   "outputs": [],
   "source": [
    "from sklearn import linear_model, model_selection, metrics\n",
    "from sklearn.tree import DecisionTreeClassifier\n",
    "from sklearn import tree\n",
    "\n",
    "from sklearn.model_selection import train_test_split\n",
    "from sklearn import preprocessing"
   ],
   "metadata": {
    "collapsed": false,
    "pycharm": {
     "name": "#%%\n"
    }
   }
  },
  {
   "cell_type": "code",
   "execution_count": 196,
   "outputs": [
    {
     "data": {
      "text/plain": "array(['2019Q4', '2020Q1', '2020Q2'], dtype=object)"
     },
     "execution_count": 196,
     "metadata": {},
     "output_type": "execute_result"
    }
   ],
   "source": [
    "final_merge['period'].unique()"
   ],
   "metadata": {
    "collapsed": false,
    "pycharm": {
     "name": "#%%\n"
    }
   }
  },
  {
   "cell_type": "code",
   "execution_count": 197,
   "outputs": [
    {
     "data": {
      "text/plain": "     facilityuid  period  total_dhis2_value_hts  total_datim_value_hts  \\\n0    AKCk8JAY0dK       0                    168                  200.0   \n1    AKCk8JAY0dK       1                    234                  280.0   \n7    B8Y8xuk4MFf       1                    144                  192.0   \n9    BEjIOW8DUVY       0                     81                  104.0   \n17   BSIVRetkq9o       2                    136                  186.0   \n..           ...     ...                    ...                    ...   \n812  zsswqbRZEzQ       0                    108                  165.0   \n813  zsswqbRZEzQ       1                    106                  192.0   \n814  zsswqbRZEzQ       2                     62                  133.0   \n815  zvicDsjeRbr       0                     51                   72.0   \n817  zvicDsjeRbr       2                     21                   52.0   \n\n     difference_hts  percentage_difference_hts  total_dhis2_value_pmtct  \\\n0             -32.0                  16.000000                     31.0   \n1             -46.0                  16.428571                     46.0   \n7             -48.0                  25.000000                     44.0   \n9             -23.0                  22.115385                     23.0   \n17            -50.0                  26.881720                     58.0   \n..              ...                        ...                      ...   \n812           -57.0                  34.545455                     57.0   \n813           -86.0                  44.791667                     86.0   \n814           -71.0                  53.383459                     72.0   \n815           -21.0                  29.166667                     23.0   \n817           -31.0                  59.615385                     31.0   \n\n     total_datim_value_pmtct  difference_pmtct  percentage_difference_pmtct  \\\n0                       31.0               0.0                     0.000000   \n1                       46.0               0.0                     0.000000   \n7                       43.0               1.0                     2.325581   \n9                       23.0               0.0                     0.000000   \n17                      56.0               2.0                     3.571429   \n..                       ...               ...                          ...   \n812                     57.0               0.0                     0.000000   \n813                     85.0               1.0                     1.176471   \n814                     71.0               1.0                     1.408451   \n815                     23.0               0.0                     0.000000   \n817                     29.0               2.0                     6.896552   \n\n     accept  \n0         1  \n1         1  \n7         1  \n9         1  \n17        1  \n..      ...  \n812       1  \n813       1  \n814       1  \n815       1  \n817       1  \n\n[821 rows x 11 columns]",
      "text/html": "<div>\n<style scoped>\n    .dataframe tbody tr th:only-of-type {\n        vertical-align: middle;\n    }\n\n    .dataframe tbody tr th {\n        vertical-align: top;\n    }\n\n    .dataframe thead th {\n        text-align: right;\n    }\n</style>\n<table border=\"1\" class=\"dataframe\">\n  <thead>\n    <tr style=\"text-align: right;\">\n      <th></th>\n      <th>facilityuid</th>\n      <th>period</th>\n      <th>total_dhis2_value_hts</th>\n      <th>total_datim_value_hts</th>\n      <th>difference_hts</th>\n      <th>percentage_difference_hts</th>\n      <th>total_dhis2_value_pmtct</th>\n      <th>total_datim_value_pmtct</th>\n      <th>difference_pmtct</th>\n      <th>percentage_difference_pmtct</th>\n      <th>accept</th>\n    </tr>\n  </thead>\n  <tbody>\n    <tr>\n      <th>0</th>\n      <td>AKCk8JAY0dK</td>\n      <td>0</td>\n      <td>168</td>\n      <td>200.0</td>\n      <td>-32.0</td>\n      <td>16.000000</td>\n      <td>31.0</td>\n      <td>31.0</td>\n      <td>0.0</td>\n      <td>0.000000</td>\n      <td>1</td>\n    </tr>\n    <tr>\n      <th>1</th>\n      <td>AKCk8JAY0dK</td>\n      <td>1</td>\n      <td>234</td>\n      <td>280.0</td>\n      <td>-46.0</td>\n      <td>16.428571</td>\n      <td>46.0</td>\n      <td>46.0</td>\n      <td>0.0</td>\n      <td>0.000000</td>\n      <td>1</td>\n    </tr>\n    <tr>\n      <th>7</th>\n      <td>B8Y8xuk4MFf</td>\n      <td>1</td>\n      <td>144</td>\n      <td>192.0</td>\n      <td>-48.0</td>\n      <td>25.000000</td>\n      <td>44.0</td>\n      <td>43.0</td>\n      <td>1.0</td>\n      <td>2.325581</td>\n      <td>1</td>\n    </tr>\n    <tr>\n      <th>9</th>\n      <td>BEjIOW8DUVY</td>\n      <td>0</td>\n      <td>81</td>\n      <td>104.0</td>\n      <td>-23.0</td>\n      <td>22.115385</td>\n      <td>23.0</td>\n      <td>23.0</td>\n      <td>0.0</td>\n      <td>0.000000</td>\n      <td>1</td>\n    </tr>\n    <tr>\n      <th>17</th>\n      <td>BSIVRetkq9o</td>\n      <td>2</td>\n      <td>136</td>\n      <td>186.0</td>\n      <td>-50.0</td>\n      <td>26.881720</td>\n      <td>58.0</td>\n      <td>56.0</td>\n      <td>2.0</td>\n      <td>3.571429</td>\n      <td>1</td>\n    </tr>\n    <tr>\n      <th>...</th>\n      <td>...</td>\n      <td>...</td>\n      <td>...</td>\n      <td>...</td>\n      <td>...</td>\n      <td>...</td>\n      <td>...</td>\n      <td>...</td>\n      <td>...</td>\n      <td>...</td>\n      <td>...</td>\n    </tr>\n    <tr>\n      <th>812</th>\n      <td>zsswqbRZEzQ</td>\n      <td>0</td>\n      <td>108</td>\n      <td>165.0</td>\n      <td>-57.0</td>\n      <td>34.545455</td>\n      <td>57.0</td>\n      <td>57.0</td>\n      <td>0.0</td>\n      <td>0.000000</td>\n      <td>1</td>\n    </tr>\n    <tr>\n      <th>813</th>\n      <td>zsswqbRZEzQ</td>\n      <td>1</td>\n      <td>106</td>\n      <td>192.0</td>\n      <td>-86.0</td>\n      <td>44.791667</td>\n      <td>86.0</td>\n      <td>85.0</td>\n      <td>1.0</td>\n      <td>1.176471</td>\n      <td>1</td>\n    </tr>\n    <tr>\n      <th>814</th>\n      <td>zsswqbRZEzQ</td>\n      <td>2</td>\n      <td>62</td>\n      <td>133.0</td>\n      <td>-71.0</td>\n      <td>53.383459</td>\n      <td>72.0</td>\n      <td>71.0</td>\n      <td>1.0</td>\n      <td>1.408451</td>\n      <td>1</td>\n    </tr>\n    <tr>\n      <th>815</th>\n      <td>zvicDsjeRbr</td>\n      <td>0</td>\n      <td>51</td>\n      <td>72.0</td>\n      <td>-21.0</td>\n      <td>29.166667</td>\n      <td>23.0</td>\n      <td>23.0</td>\n      <td>0.0</td>\n      <td>0.000000</td>\n      <td>1</td>\n    </tr>\n    <tr>\n      <th>817</th>\n      <td>zvicDsjeRbr</td>\n      <td>2</td>\n      <td>21</td>\n      <td>52.0</td>\n      <td>-31.0</td>\n      <td>59.615385</td>\n      <td>31.0</td>\n      <td>29.0</td>\n      <td>2.0</td>\n      <td>6.896552</td>\n      <td>1</td>\n    </tr>\n  </tbody>\n</table>\n<p>821 rows × 11 columns</p>\n</div>"
     },
     "execution_count": 197,
     "metadata": {},
     "output_type": "execute_result"
    }
   ],
   "source": [
    "#converting categorical data to numerical data\n",
    "label_encoder = preprocessing.LabelEncoder()\n",
    "\n",
    "# Three columns have categorical text info, and we convert them to numbers\n",
    "final_merge['accept'] = label_encoder.fit_transform(final_merge['accept'])\n",
    "final_merge['period'] = label_encoder.fit_transform(final_merge['period'])\n",
    "final_merge"
   ],
   "metadata": {
    "collapsed": false,
    "pycharm": {
     "name": "#%%\n"
    }
   }
  },
  {
   "cell_type": "code",
   "execution_count": 198,
   "outputs": [
    {
     "data": {
      "text/plain": "array([0, 1, 2])"
     },
     "execution_count": 198,
     "metadata": {},
     "output_type": "execute_result"
    }
   ],
   "source": [
    "final_merge['period'].unique()"
   ],
   "metadata": {
    "collapsed": false,
    "pycharm": {
     "name": "#%%\n"
    }
   }
  },
  {
   "cell_type": "code",
   "execution_count": 199,
   "outputs": [
    {
     "data": {
      "text/plain": "     facilityuid  period  total_dhis2_value_hts  total_datim_value_hts  \\\n0    AKCk8JAY0dK       0                    168                  200.0   \n1    AKCk8JAY0dK       1                    234                  280.0   \n2    B8Y8xuk4MFf       1                    144                  192.0   \n3    BEjIOW8DUVY       0                     81                  104.0   \n4    BSIVRetkq9o       2                    136                  186.0   \n..           ...     ...                    ...                    ...   \n816  zsswqbRZEzQ       0                    108                  165.0   \n817  zsswqbRZEzQ       1                    106                  192.0   \n818  zsswqbRZEzQ       2                     62                  133.0   \n819  zvicDsjeRbr       0                     51                   72.0   \n820  zvicDsjeRbr       2                     21                   52.0   \n\n     difference_hts  percentage_difference_hts  total_dhis2_value_pmtct  \\\n0             -32.0                  16.000000                     31.0   \n1             -46.0                  16.428571                     46.0   \n2             -48.0                  25.000000                     44.0   \n3             -23.0                  22.115385                     23.0   \n4             -50.0                  26.881720                     58.0   \n..              ...                        ...                      ...   \n816           -57.0                  34.545455                     57.0   \n817           -86.0                  44.791667                     86.0   \n818           -71.0                  53.383459                     72.0   \n819           -21.0                  29.166667                     23.0   \n820           -31.0                  59.615385                     31.0   \n\n     total_datim_value_pmtct  difference_pmtct  percentage_difference_pmtct  \\\n0                       31.0               0.0                     0.000000   \n1                       46.0               0.0                     0.000000   \n2                       43.0               1.0                     2.325581   \n3                       23.0               0.0                     0.000000   \n4                       56.0               2.0                     3.571429   \n..                       ...               ...                          ...   \n816                     57.0               0.0                     0.000000   \n817                     85.0               1.0                     1.176471   \n818                     71.0               1.0                     1.408451   \n819                     23.0               0.0                     0.000000   \n820                     29.0               2.0                     6.896552   \n\n     accept  \n0         1  \n1         1  \n2         1  \n3         1  \n4         1  \n..      ...  \n816       1  \n817       1  \n818       1  \n819       1  \n820       1  \n\n[821 rows x 11 columns]",
      "text/html": "<div>\n<style scoped>\n    .dataframe tbody tr th:only-of-type {\n        vertical-align: middle;\n    }\n\n    .dataframe tbody tr th {\n        vertical-align: top;\n    }\n\n    .dataframe thead th {\n        text-align: right;\n    }\n</style>\n<table border=\"1\" class=\"dataframe\">\n  <thead>\n    <tr style=\"text-align: right;\">\n      <th></th>\n      <th>facilityuid</th>\n      <th>period</th>\n      <th>total_dhis2_value_hts</th>\n      <th>total_datim_value_hts</th>\n      <th>difference_hts</th>\n      <th>percentage_difference_hts</th>\n      <th>total_dhis2_value_pmtct</th>\n      <th>total_datim_value_pmtct</th>\n      <th>difference_pmtct</th>\n      <th>percentage_difference_pmtct</th>\n      <th>accept</th>\n    </tr>\n  </thead>\n  <tbody>\n    <tr>\n      <th>0</th>\n      <td>AKCk8JAY0dK</td>\n      <td>0</td>\n      <td>168</td>\n      <td>200.0</td>\n      <td>-32.0</td>\n      <td>16.000000</td>\n      <td>31.0</td>\n      <td>31.0</td>\n      <td>0.0</td>\n      <td>0.000000</td>\n      <td>1</td>\n    </tr>\n    <tr>\n      <th>1</th>\n      <td>AKCk8JAY0dK</td>\n      <td>1</td>\n      <td>234</td>\n      <td>280.0</td>\n      <td>-46.0</td>\n      <td>16.428571</td>\n      <td>46.0</td>\n      <td>46.0</td>\n      <td>0.0</td>\n      <td>0.000000</td>\n      <td>1</td>\n    </tr>\n    <tr>\n      <th>2</th>\n      <td>B8Y8xuk4MFf</td>\n      <td>1</td>\n      <td>144</td>\n      <td>192.0</td>\n      <td>-48.0</td>\n      <td>25.000000</td>\n      <td>44.0</td>\n      <td>43.0</td>\n      <td>1.0</td>\n      <td>2.325581</td>\n      <td>1</td>\n    </tr>\n    <tr>\n      <th>3</th>\n      <td>BEjIOW8DUVY</td>\n      <td>0</td>\n      <td>81</td>\n      <td>104.0</td>\n      <td>-23.0</td>\n      <td>22.115385</td>\n      <td>23.0</td>\n      <td>23.0</td>\n      <td>0.0</td>\n      <td>0.000000</td>\n      <td>1</td>\n    </tr>\n    <tr>\n      <th>4</th>\n      <td>BSIVRetkq9o</td>\n      <td>2</td>\n      <td>136</td>\n      <td>186.0</td>\n      <td>-50.0</td>\n      <td>26.881720</td>\n      <td>58.0</td>\n      <td>56.0</td>\n      <td>2.0</td>\n      <td>3.571429</td>\n      <td>1</td>\n    </tr>\n    <tr>\n      <th>...</th>\n      <td>...</td>\n      <td>...</td>\n      <td>...</td>\n      <td>...</td>\n      <td>...</td>\n      <td>...</td>\n      <td>...</td>\n      <td>...</td>\n      <td>...</td>\n      <td>...</td>\n      <td>...</td>\n    </tr>\n    <tr>\n      <th>816</th>\n      <td>zsswqbRZEzQ</td>\n      <td>0</td>\n      <td>108</td>\n      <td>165.0</td>\n      <td>-57.0</td>\n      <td>34.545455</td>\n      <td>57.0</td>\n      <td>57.0</td>\n      <td>0.0</td>\n      <td>0.000000</td>\n      <td>1</td>\n    </tr>\n    <tr>\n      <th>817</th>\n      <td>zsswqbRZEzQ</td>\n      <td>1</td>\n      <td>106</td>\n      <td>192.0</td>\n      <td>-86.0</td>\n      <td>44.791667</td>\n      <td>86.0</td>\n      <td>85.0</td>\n      <td>1.0</td>\n      <td>1.176471</td>\n      <td>1</td>\n    </tr>\n    <tr>\n      <th>818</th>\n      <td>zsswqbRZEzQ</td>\n      <td>2</td>\n      <td>62</td>\n      <td>133.0</td>\n      <td>-71.0</td>\n      <td>53.383459</td>\n      <td>72.0</td>\n      <td>71.0</td>\n      <td>1.0</td>\n      <td>1.408451</td>\n      <td>1</td>\n    </tr>\n    <tr>\n      <th>819</th>\n      <td>zvicDsjeRbr</td>\n      <td>0</td>\n      <td>51</td>\n      <td>72.0</td>\n      <td>-21.0</td>\n      <td>29.166667</td>\n      <td>23.0</td>\n      <td>23.0</td>\n      <td>0.0</td>\n      <td>0.000000</td>\n      <td>1</td>\n    </tr>\n    <tr>\n      <th>820</th>\n      <td>zvicDsjeRbr</td>\n      <td>2</td>\n      <td>21</td>\n      <td>52.0</td>\n      <td>-31.0</td>\n      <td>59.615385</td>\n      <td>31.0</td>\n      <td>29.0</td>\n      <td>2.0</td>\n      <td>6.896552</td>\n      <td>1</td>\n    </tr>\n  </tbody>\n</table>\n<p>821 rows × 11 columns</p>\n</div>"
     },
     "execution_count": 199,
     "metadata": {},
     "output_type": "execute_result"
    }
   ],
   "source": [
    "final_merge.reset_index(drop=True, inplace=True)\n",
    "final_merge"
   ],
   "metadata": {
    "collapsed": false,
    "pycharm": {
     "name": "#%%\n"
    }
   }
  },
  {
   "cell_type": "code",
   "execution_count": 200,
   "outputs": [
    {
     "data": {
      "text/plain": "     facilityuid  period  total_dhis2_value_hts  total_datim_value_hts  \\\n0    AKCk8JAY0dK       0                    168                  200.0   \n1    AKCk8JAY0dK       1                    234                  280.0   \n2    B8Y8xuk4MFf       1                    144                  192.0   \n3    BEjIOW8DUVY       0                     81                  104.0   \n4    BSIVRetkq9o       2                    136                  186.0   \n..           ...     ...                    ...                    ...   \n816  zsswqbRZEzQ       0                    108                  165.0   \n817  zsswqbRZEzQ       1                    106                  192.0   \n818  zsswqbRZEzQ       2                     62                  133.0   \n819  zvicDsjeRbr       0                     51                   72.0   \n820  zvicDsjeRbr       2                     21                   52.0   \n\n     difference_hts  percentage_difference_hts  total_dhis2_value_pmtct  \\\n0             -32.0                  16.000000                     31.0   \n1             -46.0                  16.428571                     46.0   \n2             -48.0                  25.000000                     44.0   \n3             -23.0                  22.115385                     23.0   \n4             -50.0                  26.881720                     58.0   \n..              ...                        ...                      ...   \n816           -57.0                  34.545455                     57.0   \n817           -86.0                  44.791667                     86.0   \n818           -71.0                  53.383459                     72.0   \n819           -21.0                  29.166667                     23.0   \n820           -31.0                  59.615385                     31.0   \n\n     total_datim_value_pmtct  difference_pmtct  percentage_difference_pmtct  \\\n0                       31.0               0.0                     0.000000   \n1                       46.0               0.0                     0.000000   \n2                       43.0               1.0                     2.325581   \n3                       23.0               0.0                     0.000000   \n4                       56.0               2.0                     3.571429   \n..                       ...               ...                          ...   \n816                     57.0               0.0                     0.000000   \n817                     85.0               1.0                     1.176471   \n818                     71.0               1.0                     1.408451   \n819                     23.0               0.0                     0.000000   \n820                     29.0               2.0                     6.896552   \n\n     accept  \n0         1  \n1         1  \n2         1  \n3         1  \n4         1  \n..      ...  \n816       1  \n817       1  \n818       1  \n819       1  \n820       1  \n\n[821 rows x 11 columns]",
      "text/html": "<div>\n<style scoped>\n    .dataframe tbody tr th:only-of-type {\n        vertical-align: middle;\n    }\n\n    .dataframe tbody tr th {\n        vertical-align: top;\n    }\n\n    .dataframe thead th {\n        text-align: right;\n    }\n</style>\n<table border=\"1\" class=\"dataframe\">\n  <thead>\n    <tr style=\"text-align: right;\">\n      <th></th>\n      <th>facilityuid</th>\n      <th>period</th>\n      <th>total_dhis2_value_hts</th>\n      <th>total_datim_value_hts</th>\n      <th>difference_hts</th>\n      <th>percentage_difference_hts</th>\n      <th>total_dhis2_value_pmtct</th>\n      <th>total_datim_value_pmtct</th>\n      <th>difference_pmtct</th>\n      <th>percentage_difference_pmtct</th>\n      <th>accept</th>\n    </tr>\n  </thead>\n  <tbody>\n    <tr>\n      <th>0</th>\n      <td>AKCk8JAY0dK</td>\n      <td>0</td>\n      <td>168</td>\n      <td>200.0</td>\n      <td>-32.0</td>\n      <td>16.000000</td>\n      <td>31.0</td>\n      <td>31.0</td>\n      <td>0.0</td>\n      <td>0.000000</td>\n      <td>1</td>\n    </tr>\n    <tr>\n      <th>1</th>\n      <td>AKCk8JAY0dK</td>\n      <td>1</td>\n      <td>234</td>\n      <td>280.0</td>\n      <td>-46.0</td>\n      <td>16.428571</td>\n      <td>46.0</td>\n      <td>46.0</td>\n      <td>0.0</td>\n      <td>0.000000</td>\n      <td>1</td>\n    </tr>\n    <tr>\n      <th>2</th>\n      <td>B8Y8xuk4MFf</td>\n      <td>1</td>\n      <td>144</td>\n      <td>192.0</td>\n      <td>-48.0</td>\n      <td>25.000000</td>\n      <td>44.0</td>\n      <td>43.0</td>\n      <td>1.0</td>\n      <td>2.325581</td>\n      <td>1</td>\n    </tr>\n    <tr>\n      <th>3</th>\n      <td>BEjIOW8DUVY</td>\n      <td>0</td>\n      <td>81</td>\n      <td>104.0</td>\n      <td>-23.0</td>\n      <td>22.115385</td>\n      <td>23.0</td>\n      <td>23.0</td>\n      <td>0.0</td>\n      <td>0.000000</td>\n      <td>1</td>\n    </tr>\n    <tr>\n      <th>4</th>\n      <td>BSIVRetkq9o</td>\n      <td>2</td>\n      <td>136</td>\n      <td>186.0</td>\n      <td>-50.0</td>\n      <td>26.881720</td>\n      <td>58.0</td>\n      <td>56.0</td>\n      <td>2.0</td>\n      <td>3.571429</td>\n      <td>1</td>\n    </tr>\n    <tr>\n      <th>...</th>\n      <td>...</td>\n      <td>...</td>\n      <td>...</td>\n      <td>...</td>\n      <td>...</td>\n      <td>...</td>\n      <td>...</td>\n      <td>...</td>\n      <td>...</td>\n      <td>...</td>\n      <td>...</td>\n    </tr>\n    <tr>\n      <th>816</th>\n      <td>zsswqbRZEzQ</td>\n      <td>0</td>\n      <td>108</td>\n      <td>165.0</td>\n      <td>-57.0</td>\n      <td>34.545455</td>\n      <td>57.0</td>\n      <td>57.0</td>\n      <td>0.0</td>\n      <td>0.000000</td>\n      <td>1</td>\n    </tr>\n    <tr>\n      <th>817</th>\n      <td>zsswqbRZEzQ</td>\n      <td>1</td>\n      <td>106</td>\n      <td>192.0</td>\n      <td>-86.0</td>\n      <td>44.791667</td>\n      <td>86.0</td>\n      <td>85.0</td>\n      <td>1.0</td>\n      <td>1.176471</td>\n      <td>1</td>\n    </tr>\n    <tr>\n      <th>818</th>\n      <td>zsswqbRZEzQ</td>\n      <td>2</td>\n      <td>62</td>\n      <td>133.0</td>\n      <td>-71.0</td>\n      <td>53.383459</td>\n      <td>72.0</td>\n      <td>71.0</td>\n      <td>1.0</td>\n      <td>1.408451</td>\n      <td>1</td>\n    </tr>\n    <tr>\n      <th>819</th>\n      <td>zvicDsjeRbr</td>\n      <td>0</td>\n      <td>51</td>\n      <td>72.0</td>\n      <td>-21.0</td>\n      <td>29.166667</td>\n      <td>23.0</td>\n      <td>23.0</td>\n      <td>0.0</td>\n      <td>0.000000</td>\n      <td>1</td>\n    </tr>\n    <tr>\n      <th>820</th>\n      <td>zvicDsjeRbr</td>\n      <td>2</td>\n      <td>21</td>\n      <td>52.0</td>\n      <td>-31.0</td>\n      <td>59.615385</td>\n      <td>31.0</td>\n      <td>29.0</td>\n      <td>2.0</td>\n      <td>6.896552</td>\n      <td>1</td>\n    </tr>\n  </tbody>\n</table>\n<p>821 rows × 11 columns</p>\n</div>"
     },
     "execution_count": 200,
     "metadata": {},
     "output_type": "execute_result"
    }
   ],
   "source": [
    "#converting facilityuid to index values\n",
    "final_merge.rename(columns={'index': 'facilityuid'}, inplace=True)\n",
    "final_merge"
   ],
   "metadata": {
    "collapsed": false,
    "pycharm": {
     "name": "#%%\n"
    }
   }
  },
  {
   "cell_type": "code",
   "execution_count": 201,
   "outputs": [],
   "source": [
    "#selecting dependent and independent variables\n",
    "y= final_merge['accept']\n",
    "\n",
    "#Remove columns we are not interested in\n",
    "final_merge.drop(['facilityuid', 'difference_pmtct','difference_hts', 'percentage_difference_pmtct', 'accept'], axis=1, inplace=True)\n",
    "\n",
    "#Saving the rest of the data as input data\n",
    "X = final_merge"
   ],
   "metadata": {
    "collapsed": false,
    "pycharm": {
     "name": "#%%\n"
    }
   }
  },
  {
   "cell_type": "code",
   "execution_count": 202,
   "outputs": [
    {
     "data": {
      "text/plain": "821"
     },
     "execution_count": 202,
     "metadata": {},
     "output_type": "execute_result"
    }
   ],
   "source": [
    "len(X)"
   ],
   "metadata": {
    "collapsed": false,
    "pycharm": {
     "name": "#%%\n"
    }
   }
  },
  {
   "cell_type": "code",
   "execution_count": 203,
   "outputs": [
    {
     "data": {
      "text/plain": "Index(['period', 'total_dhis2_value_hts', 'total_datim_value_hts',\n       'percentage_difference_hts', 'total_dhis2_value_pmtct',\n       'total_datim_value_pmtct'],\n      dtype='object')"
     },
     "execution_count": 203,
     "metadata": {},
     "output_type": "execute_result"
    }
   ],
   "source": [
    "X.columns"
   ],
   "metadata": {
    "collapsed": false,
    "pycharm": {
     "name": "#%%\n"
    }
   }
  },
  {
   "cell_type": "code",
   "execution_count": 204,
   "outputs": [],
   "source": [
    "from matplotlib import pyplot as plt\n",
    "from sklearn import datasets\n",
    "from sklearn.tree import DecisionTreeClassifier\n",
    "from sklearn import tree"
   ],
   "metadata": {
    "collapsed": false,
    "pycharm": {
     "name": "#%%\n"
    }
   }
  },
  {
   "cell_type": "code",
   "execution_count": 205,
   "outputs": [],
   "source": [
    "#Create a Decision Tree Classifier\n",
    "tree_model= DecisionTreeClassifier(random_state=0, max_depth=5)"
   ],
   "metadata": {
    "collapsed": false,
    "pycharm": {
     "name": "#%%\n"
    }
   }
  },
  {
   "cell_type": "code",
   "execution_count": 206,
   "outputs": [],
   "source": [
    "#Splitting dataset\n",
    "\n",
    "X_train, X_test, y_train, y_test= train_test_split(X, y, test_size=0.2, random_state=99)"
   ],
   "metadata": {
    "collapsed": false,
    "pycharm": {
     "name": "#%%\n"
    }
   }
  },
  {
   "cell_type": "code",
   "execution_count": 207,
   "outputs": [
    {
     "data": {
      "text/plain": "     period  total_dhis2_value_hts  total_datim_value_hts  \\\n384       0                    102                  132.0   \n699       0                    169                  333.0   \n199       1                    193                  259.0   \n494       1                    142                  236.0   \n624       1                    114                  218.0   \n..      ...                    ...                    ...   \n174       0                    482                  496.0   \n455       1                     42                   77.0   \n99        1                    373                  468.0   \n263       0                    890                  947.0   \n224       1                    213                  247.0   \n\n     percentage_difference_hts  total_dhis2_value_pmtct  \\\n384                  22.727273                     29.0   \n699                  49.249249                    177.0   \n199                  25.482625                     39.0   \n494                  39.830508                     59.0   \n624                  47.706422                    110.0   \n..                         ...                      ...   \n174                   2.822581                     31.0   \n455                  45.454545                     34.0   \n99                   20.299145                     75.0   \n263                   6.019007                     63.0   \n224                  13.765182                     42.0   \n\n     total_datim_value_pmtct  \n384                     28.0  \n699                    173.0  \n199                     39.0  \n494                     58.0  \n624                    106.0  \n..                       ...  \n174                     31.0  \n455                     34.0  \n99                      71.0  \n263                     62.0  \n224                     42.0  \n\n[165 rows x 6 columns]",
      "text/html": "<div>\n<style scoped>\n    .dataframe tbody tr th:only-of-type {\n        vertical-align: middle;\n    }\n\n    .dataframe tbody tr th {\n        vertical-align: top;\n    }\n\n    .dataframe thead th {\n        text-align: right;\n    }\n</style>\n<table border=\"1\" class=\"dataframe\">\n  <thead>\n    <tr style=\"text-align: right;\">\n      <th></th>\n      <th>period</th>\n      <th>total_dhis2_value_hts</th>\n      <th>total_datim_value_hts</th>\n      <th>percentage_difference_hts</th>\n      <th>total_dhis2_value_pmtct</th>\n      <th>total_datim_value_pmtct</th>\n    </tr>\n  </thead>\n  <tbody>\n    <tr>\n      <th>384</th>\n      <td>0</td>\n      <td>102</td>\n      <td>132.0</td>\n      <td>22.727273</td>\n      <td>29.0</td>\n      <td>28.0</td>\n    </tr>\n    <tr>\n      <th>699</th>\n      <td>0</td>\n      <td>169</td>\n      <td>333.0</td>\n      <td>49.249249</td>\n      <td>177.0</td>\n      <td>173.0</td>\n    </tr>\n    <tr>\n      <th>199</th>\n      <td>1</td>\n      <td>193</td>\n      <td>259.0</td>\n      <td>25.482625</td>\n      <td>39.0</td>\n      <td>39.0</td>\n    </tr>\n    <tr>\n      <th>494</th>\n      <td>1</td>\n      <td>142</td>\n      <td>236.0</td>\n      <td>39.830508</td>\n      <td>59.0</td>\n      <td>58.0</td>\n    </tr>\n    <tr>\n      <th>624</th>\n      <td>1</td>\n      <td>114</td>\n      <td>218.0</td>\n      <td>47.706422</td>\n      <td>110.0</td>\n      <td>106.0</td>\n    </tr>\n    <tr>\n      <th>...</th>\n      <td>...</td>\n      <td>...</td>\n      <td>...</td>\n      <td>...</td>\n      <td>...</td>\n      <td>...</td>\n    </tr>\n    <tr>\n      <th>174</th>\n      <td>0</td>\n      <td>482</td>\n      <td>496.0</td>\n      <td>2.822581</td>\n      <td>31.0</td>\n      <td>31.0</td>\n    </tr>\n    <tr>\n      <th>455</th>\n      <td>1</td>\n      <td>42</td>\n      <td>77.0</td>\n      <td>45.454545</td>\n      <td>34.0</td>\n      <td>34.0</td>\n    </tr>\n    <tr>\n      <th>99</th>\n      <td>1</td>\n      <td>373</td>\n      <td>468.0</td>\n      <td>20.299145</td>\n      <td>75.0</td>\n      <td>71.0</td>\n    </tr>\n    <tr>\n      <th>263</th>\n      <td>0</td>\n      <td>890</td>\n      <td>947.0</td>\n      <td>6.019007</td>\n      <td>63.0</td>\n      <td>62.0</td>\n    </tr>\n    <tr>\n      <th>224</th>\n      <td>1</td>\n      <td>213</td>\n      <td>247.0</td>\n      <td>13.765182</td>\n      <td>42.0</td>\n      <td>42.0</td>\n    </tr>\n  </tbody>\n</table>\n<p>165 rows × 6 columns</p>\n</div>"
     },
     "execution_count": 207,
     "metadata": {},
     "output_type": "execute_result"
    }
   ],
   "source": [
    "len(X_train)\n",
    "X_test"
   ],
   "metadata": {
    "collapsed": false,
    "pycharm": {
     "name": "#%%\n"
    }
   }
  },
  {
   "cell_type": "code",
   "execution_count": 208,
   "outputs": [
    {
     "data": {
      "text/plain": "     period  total_dhis2_value_hts  total_datim_value_hts  \\\n384       0                    102                  132.0   \n699       0                    169                  333.0   \n199       1                    193                  259.0   \n494       1                    142                  236.0   \n624       1                    114                  218.0   \n..      ...                    ...                    ...   \n174       0                    482                  496.0   \n455       1                     42                   77.0   \n99        1                    373                  468.0   \n263       0                    890                  947.0   \n224       1                    213                  247.0   \n\n     percentage_difference_hts  total_dhis2_value_pmtct  \\\n384                  22.727273                     29.0   \n699                  49.249249                    177.0   \n199                  25.482625                     39.0   \n494                  39.830508                     59.0   \n624                  47.706422                    110.0   \n..                         ...                      ...   \n174                   2.822581                     31.0   \n455                  45.454545                     34.0   \n99                   20.299145                     75.0   \n263                   6.019007                     63.0   \n224                  13.765182                     42.0   \n\n     total_datim_value_pmtct  \n384                     28.0  \n699                    173.0  \n199                     39.0  \n494                     58.0  \n624                    106.0  \n..                       ...  \n174                     31.0  \n455                     34.0  \n99                      71.0  \n263                     62.0  \n224                     42.0  \n\n[165 rows x 6 columns]",
      "text/html": "<div>\n<style scoped>\n    .dataframe tbody tr th:only-of-type {\n        vertical-align: middle;\n    }\n\n    .dataframe tbody tr th {\n        vertical-align: top;\n    }\n\n    .dataframe thead th {\n        text-align: right;\n    }\n</style>\n<table border=\"1\" class=\"dataframe\">\n  <thead>\n    <tr style=\"text-align: right;\">\n      <th></th>\n      <th>period</th>\n      <th>total_dhis2_value_hts</th>\n      <th>total_datim_value_hts</th>\n      <th>percentage_difference_hts</th>\n      <th>total_dhis2_value_pmtct</th>\n      <th>total_datim_value_pmtct</th>\n    </tr>\n  </thead>\n  <tbody>\n    <tr>\n      <th>384</th>\n      <td>0</td>\n      <td>102</td>\n      <td>132.0</td>\n      <td>22.727273</td>\n      <td>29.0</td>\n      <td>28.0</td>\n    </tr>\n    <tr>\n      <th>699</th>\n      <td>0</td>\n      <td>169</td>\n      <td>333.0</td>\n      <td>49.249249</td>\n      <td>177.0</td>\n      <td>173.0</td>\n    </tr>\n    <tr>\n      <th>199</th>\n      <td>1</td>\n      <td>193</td>\n      <td>259.0</td>\n      <td>25.482625</td>\n      <td>39.0</td>\n      <td>39.0</td>\n    </tr>\n    <tr>\n      <th>494</th>\n      <td>1</td>\n      <td>142</td>\n      <td>236.0</td>\n      <td>39.830508</td>\n      <td>59.0</td>\n      <td>58.0</td>\n    </tr>\n    <tr>\n      <th>624</th>\n      <td>1</td>\n      <td>114</td>\n      <td>218.0</td>\n      <td>47.706422</td>\n      <td>110.0</td>\n      <td>106.0</td>\n    </tr>\n    <tr>\n      <th>...</th>\n      <td>...</td>\n      <td>...</td>\n      <td>...</td>\n      <td>...</td>\n      <td>...</td>\n      <td>...</td>\n    </tr>\n    <tr>\n      <th>174</th>\n      <td>0</td>\n      <td>482</td>\n      <td>496.0</td>\n      <td>2.822581</td>\n      <td>31.0</td>\n      <td>31.0</td>\n    </tr>\n    <tr>\n      <th>455</th>\n      <td>1</td>\n      <td>42</td>\n      <td>77.0</td>\n      <td>45.454545</td>\n      <td>34.0</td>\n      <td>34.0</td>\n    </tr>\n    <tr>\n      <th>99</th>\n      <td>1</td>\n      <td>373</td>\n      <td>468.0</td>\n      <td>20.299145</td>\n      <td>75.0</td>\n      <td>71.0</td>\n    </tr>\n    <tr>\n      <th>263</th>\n      <td>0</td>\n      <td>890</td>\n      <td>947.0</td>\n      <td>6.019007</td>\n      <td>63.0</td>\n      <td>62.0</td>\n    </tr>\n    <tr>\n      <th>224</th>\n      <td>1</td>\n      <td>213</td>\n      <td>247.0</td>\n      <td>13.765182</td>\n      <td>42.0</td>\n      <td>42.0</td>\n    </tr>\n  </tbody>\n</table>\n<p>165 rows × 6 columns</p>\n</div>"
     },
     "execution_count": 208,
     "metadata": {},
     "output_type": "execute_result"
    }
   ],
   "source": [
    "# set index\n",
    "X_test"
   ],
   "metadata": {
    "collapsed": false,
    "pycharm": {
     "name": "#%%\n"
    }
   }
  },
  {
   "cell_type": "code",
   "execution_count": 210,
   "outputs": [
    {
     "data": {
      "text/plain": "165"
     },
     "execution_count": 210,
     "metadata": {},
     "output_type": "execute_result"
    }
   ],
   "source": [
    "len(X_test)"
   ],
   "metadata": {
    "collapsed": false,
    "pycharm": {
     "name": "#%%\n"
    }
   }
  },
  {
   "cell_type": "code",
   "execution_count": 211,
   "outputs": [
    {
     "data": {
      "text/plain": "DecisionTreeClassifier(max_depth=5, random_state=0)",
      "text/html": "<style>#sk-container-id-3 {color: black;background-color: white;}#sk-container-id-3 pre{padding: 0;}#sk-container-id-3 div.sk-toggleable {background-color: white;}#sk-container-id-3 label.sk-toggleable__label {cursor: pointer;display: block;width: 100%;margin-bottom: 0;padding: 0.3em;box-sizing: border-box;text-align: center;}#sk-container-id-3 label.sk-toggleable__label-arrow:before {content: \"▸\";float: left;margin-right: 0.25em;color: #696969;}#sk-container-id-3 label.sk-toggleable__label-arrow:hover:before {color: black;}#sk-container-id-3 div.sk-estimator:hover label.sk-toggleable__label-arrow:before {color: black;}#sk-container-id-3 div.sk-toggleable__content {max-height: 0;max-width: 0;overflow: hidden;text-align: left;background-color: #f0f8ff;}#sk-container-id-3 div.sk-toggleable__content pre {margin: 0.2em;color: black;border-radius: 0.25em;background-color: #f0f8ff;}#sk-container-id-3 input.sk-toggleable__control:checked~div.sk-toggleable__content {max-height: 200px;max-width: 100%;overflow: auto;}#sk-container-id-3 input.sk-toggleable__control:checked~label.sk-toggleable__label-arrow:before {content: \"▾\";}#sk-container-id-3 div.sk-estimator input.sk-toggleable__control:checked~label.sk-toggleable__label {background-color: #d4ebff;}#sk-container-id-3 div.sk-label input.sk-toggleable__control:checked~label.sk-toggleable__label {background-color: #d4ebff;}#sk-container-id-3 input.sk-hidden--visually {border: 0;clip: rect(1px 1px 1px 1px);clip: rect(1px, 1px, 1px, 1px);height: 1px;margin: -1px;overflow: hidden;padding: 0;position: absolute;width: 1px;}#sk-container-id-3 div.sk-estimator {font-family: monospace;background-color: #f0f8ff;border: 1px dotted black;border-radius: 0.25em;box-sizing: border-box;margin-bottom: 0.5em;}#sk-container-id-3 div.sk-estimator:hover {background-color: #d4ebff;}#sk-container-id-3 div.sk-parallel-item::after {content: \"\";width: 100%;border-bottom: 1px solid gray;flex-grow: 1;}#sk-container-id-3 div.sk-label:hover label.sk-toggleable__label {background-color: #d4ebff;}#sk-container-id-3 div.sk-serial::before {content: \"\";position: absolute;border-left: 1px solid gray;box-sizing: border-box;top: 0;bottom: 0;left: 50%;z-index: 0;}#sk-container-id-3 div.sk-serial {display: flex;flex-direction: column;align-items: center;background-color: white;padding-right: 0.2em;padding-left: 0.2em;position: relative;}#sk-container-id-3 div.sk-item {position: relative;z-index: 1;}#sk-container-id-3 div.sk-parallel {display: flex;align-items: stretch;justify-content: center;background-color: white;position: relative;}#sk-container-id-3 div.sk-item::before, #sk-container-id-3 div.sk-parallel-item::before {content: \"\";position: absolute;border-left: 1px solid gray;box-sizing: border-box;top: 0;bottom: 0;left: 50%;z-index: -1;}#sk-container-id-3 div.sk-parallel-item {display: flex;flex-direction: column;z-index: 1;position: relative;background-color: white;}#sk-container-id-3 div.sk-parallel-item:first-child::after {align-self: flex-end;width: 50%;}#sk-container-id-3 div.sk-parallel-item:last-child::after {align-self: flex-start;width: 50%;}#sk-container-id-3 div.sk-parallel-item:only-child::after {width: 0;}#sk-container-id-3 div.sk-dashed-wrapped {border: 1px dashed gray;margin: 0 0.4em 0.5em 0.4em;box-sizing: border-box;padding-bottom: 0.4em;background-color: white;}#sk-container-id-3 div.sk-label label {font-family: monospace;font-weight: bold;display: inline-block;line-height: 1.2em;}#sk-container-id-3 div.sk-label-container {text-align: center;}#sk-container-id-3 div.sk-container {/* jupyter's `normalize.less` sets `[hidden] { display: none; }` but bootstrap.min.css set `[hidden] { display: none !important; }` so we also need the `!important` here to be able to override the default hidden behavior on the sphinx rendered scikit-learn.org. See: https://github.com/scikit-learn/scikit-learn/issues/21755 */display: inline-block !important;position: relative;}#sk-container-id-3 div.sk-text-repr-fallback {display: none;}</style><div id=\"sk-container-id-3\" class=\"sk-top-container\"><div class=\"sk-text-repr-fallback\"><pre>DecisionTreeClassifier(max_depth=5, random_state=0)</pre><b>In a Jupyter environment, please rerun this cell to show the HTML representation or trust the notebook. <br />On GitHub, the HTML representation is unable to render, please try loading this page with nbviewer.org.</b></div><div class=\"sk-container\" hidden><div class=\"sk-item\"><div class=\"sk-estimator sk-toggleable\"><input class=\"sk-toggleable__control sk-hidden--visually\" id=\"sk-estimator-id-3\" type=\"checkbox\" checked><label for=\"sk-estimator-id-3\" class=\"sk-toggleable__label sk-toggleable__label-arrow\">DecisionTreeClassifier</label><div class=\"sk-toggleable__content\"><pre>DecisionTreeClassifier(max_depth=5, random_state=0)</pre></div></div></div></div></div>"
     },
     "execution_count": 211,
     "metadata": {},
     "output_type": "execute_result"
    }
   ],
   "source": [
    "#Fitting the model into training data\n",
    "tree_model.fit(X_train, y_train)"
   ],
   "metadata": {
    "collapsed": false,
    "pycharm": {
     "name": "#%%\n"
    }
   }
  },
  {
   "cell_type": "markdown",
   "source": [
    "## Visualization"
   ],
   "metadata": {
    "collapsed": false,
    "pycharm": {
     "name": "#%% md\n"
    }
   }
  },
  {
   "cell_type": "code",
   "execution_count": 212,
   "outputs": [
    {
     "name": "stdout",
     "output_type": "stream",
     "text": [
      "|--- feature_3 <= 30.07\n",
      "|   |--- feature_3 <= 28.85\n",
      "|   |   |--- class: 1\n",
      "|   |--- feature_3 >  28.85\n",
      "|   |   |--- feature_3 <= 28.87\n",
      "|   |   |   |--- class: 0\n",
      "|   |   |--- feature_3 >  28.87\n",
      "|   |   |   |--- class: 1\n",
      "|--- feature_3 >  30.07\n",
      "|   |--- feature_1 <= 298.00\n",
      "|   |   |--- feature_4 <= 40.50\n",
      "|   |   |   |--- feature_2 <= 83.50\n",
      "|   |   |   |   |--- feature_3 <= 53.54\n",
      "|   |   |   |   |   |--- class: 1\n",
      "|   |   |   |   |--- feature_3 >  53.54\n",
      "|   |   |   |   |   |--- class: 0\n",
      "|   |   |   |--- feature_2 >  83.50\n",
      "|   |   |   |   |--- feature_3 <= 36.57\n",
      "|   |   |   |   |   |--- class: 0\n",
      "|   |   |   |   |--- feature_3 >  36.57\n",
      "|   |   |   |   |   |--- class: 0\n",
      "|   |   |--- feature_4 >  40.50\n",
      "|   |   |   |--- feature_2 <= 231.50\n",
      "|   |   |   |   |--- feature_3 <= 30.29\n",
      "|   |   |   |   |   |--- class: 0\n",
      "|   |   |   |   |--- feature_3 >  30.29\n",
      "|   |   |   |   |   |--- class: 1\n",
      "|   |   |   |--- feature_2 >  231.50\n",
      "|   |   |   |   |--- feature_5 <= 75.50\n",
      "|   |   |   |   |   |--- class: 0\n",
      "|   |   |   |   |--- feature_5 >  75.50\n",
      "|   |   |   |   |   |--- class: 1\n",
      "|   |--- feature_1 >  298.00\n",
      "|   |   |--- feature_4 <= 163.00\n",
      "|   |   |   |--- class: 0\n",
      "|   |   |--- feature_4 >  163.00\n",
      "|   |   |   |--- feature_1 <= 489.50\n",
      "|   |   |   |   |--- feature_3 <= 30.40\n",
      "|   |   |   |   |   |--- class: 0\n",
      "|   |   |   |   |--- feature_3 >  30.40\n",
      "|   |   |   |   |   |--- class: 1\n",
      "|   |   |   |--- feature_1 >  489.50\n",
      "|   |   |   |   |--- feature_1 <= 925.50\n",
      "|   |   |   |   |   |--- class: 0\n",
      "|   |   |   |   |--- feature_1 >  925.50\n",
      "|   |   |   |   |   |--- class: 1\n",
      "\n"
     ]
    }
   ],
   "source": [
    "text_representation = tree.export_text(tree_model)\n",
    "print(text_representation)"
   ],
   "metadata": {
    "collapsed": false,
    "pycharm": {
     "name": "#%%\n"
    }
   }
  },
  {
   "cell_type": "code",
   "execution_count": 213,
   "outputs": [],
   "source": [
    "# save file\n",
    "with open(\"decistion_tree.log\", \"w\") as fout:\n",
    "    fout.write(text_representation)"
   ],
   "metadata": {
    "collapsed": false,
    "pycharm": {
     "name": "#%%\n"
    }
   }
  },
  {
   "cell_type": "markdown",
   "source": [
    "## Prediction"
   ],
   "metadata": {
    "collapsed": false,
    "pycharm": {
     "name": "#%% md\n"
    }
   }
  },
  {
   "cell_type": "code",
   "execution_count": 214,
   "outputs": [
    {
     "name": "stdout",
     "output_type": "stream",
     "text": [
      "[1 1 1 0 1 1 1 1 1 1 1 1 1 0 1 1 1 1 0 1 0 1 0 1 1 1 1 1 1 0 1 1 1 1 1 1 1\n",
      " 1 0 1 1 1 1 1 1 1 0 1 1 1 1 1 1 1 0 1 1 1 1 1 1 1 1 1 1 1 1 1 1 1 1 1 1 1\n",
      " 0 1 1 1 1 1 1 1 1 1 1 1 1 1 1 1 1 0 1 1 1 1 1 1 1 1 1 1 1 1 1 0 1 1 0 1 0\n",
      " 1 1 1 1 1 1 1 1 1 1 0 1 1 1 1 1 1 1 0 0 1 1 1 1 1 1 1 1 1 1 1 1 1 1 1 1 1\n",
      " 1 1 0 1 0 1 0 1 1 1 1 1 1 1 1 1 1]\n"
     ]
    }
   ],
   "source": [
    "#Do predictions on test data\n",
    "y_pred= tree_model.predict(X_test)\n",
    "print(y_pred)"
   ],
   "metadata": {
    "collapsed": false,
    "pycharm": {
     "name": "#%%\n"
    }
   }
  },
  {
   "cell_type": "code",
   "execution_count": 283,
   "outputs": [
    {
     "data": {
      "text/plain": "<Figure size 640x480 with 1 Axes>",
      "image/png": "[encoded data removed]"
     },
     "metadata": {},
     "output_type": "display_data"
    }
   ],
   "source": [
    "import numpy as np\n",
    "total_pred_accepted = np.count_nonzero(y_pred==1)\n",
    "total_pred_rejected = np.count_nonzero(y_pred==0)\n",
    "total_pred_accepted\n",
    "\n",
    "final_data = {\"final_accepted\": total_pred_accepted,\n",
    "        \"final_rejected\": total_pred_rejected}\n",
    "\n",
    "x_data = list(final_data.keys())\n",
    "y_data = list(final_data.values())\n",
    "\n",
    "\n",
    "bar = plt.bar(x_data, y_data, color ='maroon',\n",
    "        width = 0.4)\n",
    "bar[0].set_color('g')\n",
    "bar[1].set_color('r')\n",
    "plt.xlabel(\"acceptance\")\n",
    "plt.ylabel(\"Total count\")\n",
    "plt.title(\"Relational plot between accepted and rejected\")\n",
    "plt.show()"
   ],
   "metadata": {
    "collapsed": false,
    "pycharm": {
     "name": "#%%\n"
    }
   }
  },
  {
   "cell_type": "code",
   "execution_count": 215,
   "outputs": [
    {
     "data": {
      "text/plain": "165"
     },
     "execution_count": 215,
     "metadata": {},
     "output_type": "execute_result"
    }
   ],
   "source": [
    "len(y_pred)"
   ],
   "metadata": {
    "collapsed": false,
    "pycharm": {
     "name": "#%%\n"
    }
   }
  },
  {
   "cell_type": "code",
   "execution_count": 216,
   "outputs": [
    {
     "data": {
      "text/plain": "95.15151515151516"
     },
     "execution_count": 216,
     "metadata": {},
     "output_type": "execute_result"
    }
   ],
   "source": [
    "#Calculate accuracy\n",
    "tree_model.score(X_test, y_test) * 100"
   ],
   "metadata": {
    "collapsed": false,
    "pycharm": {
     "name": "#%%\n"
    }
   }
  },
  {
   "cell_type": "code",
   "execution_count": 217,
   "outputs": [
    {
     "data": {
      "text/plain": "0.9726027397260274"
     },
     "execution_count": 217,
     "metadata": {},
     "output_type": "execute_result"
    }
   ],
   "source": [
    "#finding F1 score\n",
    "from sklearn.metrics import f1_score\n",
    "\n",
    "f1_score(y_test, y_pred)"
   ],
   "metadata": {
    "collapsed": false,
    "pycharm": {
     "name": "#%%\n"
    }
   }
  },
  {
   "cell_type": "markdown",
   "source": [
    "## Relationship between prediction and the test"
   ],
   "metadata": {
    "collapsed": false,
    "pycharm": {
     "name": "#%% md\n"
    }
   }
  },
  {
   "cell_type": "code",
   "execution_count": 53,
   "outputs": [
    {
     "data": {
      "text/plain": "     prediction\n0             1\n1             1\n2             1\n3             0\n4             1\n..          ...\n160           1\n161           1\n162           1\n163           1\n164           1\n\n[165 rows x 1 columns]",
      "text/html": "<div>\n<style scoped>\n    .dataframe tbody tr th:only-of-type {\n        vertical-align: middle;\n    }\n\n    .dataframe tbody tr th {\n        vertical-align: top;\n    }\n\n    .dataframe thead th {\n        text-align: right;\n    }\n</style>\n<table border=\"1\" class=\"dataframe\">\n  <thead>\n    <tr style=\"text-align: right;\">\n      <th></th>\n      <th>prediction</th>\n    </tr>\n  </thead>\n  <tbody>\n    <tr>\n      <th>0</th>\n      <td>1</td>\n    </tr>\n    <tr>\n      <th>1</th>\n      <td>1</td>\n    </tr>\n    <tr>\n      <th>2</th>\n      <td>1</td>\n    </tr>\n    <tr>\n      <th>3</th>\n      <td>0</td>\n    </tr>\n    <tr>\n      <th>4</th>\n      <td>1</td>\n    </tr>\n    <tr>\n      <th>...</th>\n      <td>...</td>\n    </tr>\n    <tr>\n      <th>160</th>\n      <td>1</td>\n    </tr>\n    <tr>\n      <th>161</th>\n      <td>1</td>\n    </tr>\n    <tr>\n      <th>162</th>\n      <td>1</td>\n    </tr>\n    <tr>\n      <th>163</th>\n      <td>1</td>\n    </tr>\n    <tr>\n      <th>164</th>\n      <td>1</td>\n    </tr>\n  </tbody>\n</table>\n<p>165 rows × 1 columns</p>\n</div>"
     },
     "execution_count": 53,
     "metadata": {},
     "output_type": "execute_result"
    }
   ],
   "source": [
    "preds = pd.DataFrame(y_pred, columns=['prediction'])\n",
    "preds"
   ],
   "metadata": {
    "collapsed": false,
    "pycharm": {
     "name": "#%%\n"
    }
   }
  },
  {
   "cell_type": "code",
   "execution_count": null,
   "outputs": [],
   "source": [],
   "metadata": {
    "collapsed": false,
    "pycharm": {
     "name": "#%%\n"
    }
   }
  },
  {
   "cell_type": "code",
   "execution_count": 221,
   "outputs": [
    {
     "data": {
      "text/plain": "     index  prediction\n0        0         1.0\n1        1         1.0\n2        2         1.0\n3        3         0.0\n4        4         1.0\n..     ...         ...\n160    160         1.0\n161    161         1.0\n162    162         1.0\n163    163         1.0\n164    164         1.0\n\n[165 rows x 2 columns]",
      "text/html": "<div>\n<style scoped>\n    .dataframe tbody tr th:only-of-type {\n        vertical-align: middle;\n    }\n\n    .dataframe tbody tr th {\n        vertical-align: top;\n    }\n\n    .dataframe thead th {\n        text-align: right;\n    }\n</style>\n<table border=\"1\" class=\"dataframe\">\n  <thead>\n    <tr style=\"text-align: right;\">\n      <th></th>\n      <th>index</th>\n      <th>prediction</th>\n    </tr>\n  </thead>\n  <tbody>\n    <tr>\n      <th>0</th>\n      <td>0</td>\n      <td>1.0</td>\n    </tr>\n    <tr>\n      <th>1</th>\n      <td>1</td>\n      <td>1.0</td>\n    </tr>\n    <tr>\n      <th>2</th>\n      <td>2</td>\n      <td>1.0</td>\n    </tr>\n    <tr>\n      <th>3</th>\n      <td>3</td>\n      <td>0.0</td>\n    </tr>\n    <tr>\n      <th>4</th>\n      <td>4</td>\n      <td>1.0</td>\n    </tr>\n    <tr>\n      <th>...</th>\n      <td>...</td>\n      <td>...</td>\n    </tr>\n    <tr>\n      <th>160</th>\n      <td>160</td>\n      <td>1.0</td>\n    </tr>\n    <tr>\n      <th>161</th>\n      <td>161</td>\n      <td>1.0</td>\n    </tr>\n    <tr>\n      <th>162</th>\n      <td>162</td>\n      <td>1.0</td>\n    </tr>\n    <tr>\n      <th>163</th>\n      <td>163</td>\n      <td>1.0</td>\n    </tr>\n    <tr>\n      <th>164</th>\n      <td>164</td>\n      <td>1.0</td>\n    </tr>\n  </tbody>\n</table>\n<p>165 rows × 2 columns</p>\n</div>"
     },
     "execution_count": 221,
     "metadata": {},
     "output_type": "execute_result"
    }
   ],
   "source": [
    "preds = preds.reset_index(drop=False)\n",
    "preds"
   ],
   "metadata": {
    "collapsed": false,
    "pycharm": {
     "name": "#%%\n"
    }
   }
  },
  {
   "cell_type": "code",
   "execution_count": 63,
   "outputs": [
    {
     "data": {
      "text/plain": "     prediction\n0           1.0\n1           1.0\n2           1.0\n3           0.0\n4           1.0\n..          ...\n160         1.0\n161         1.0\n162         1.0\n163         1.0\n164         1.0\n\n[165 rows x 1 columns]",
      "text/html": "<div>\n<style scoped>\n    .dataframe tbody tr th:only-of-type {\n        vertical-align: middle;\n    }\n\n    .dataframe tbody tr th {\n        vertical-align: top;\n    }\n\n    .dataframe thead th {\n        text-align: right;\n    }\n</style>\n<table border=\"1\" class=\"dataframe\">\n  <thead>\n    <tr style=\"text-align: right;\">\n      <th></th>\n      <th>prediction</th>\n    </tr>\n  </thead>\n  <tbody>\n    <tr>\n      <th>0</th>\n      <td>1.0</td>\n    </tr>\n    <tr>\n      <th>1</th>\n      <td>1.0</td>\n    </tr>\n    <tr>\n      <th>2</th>\n      <td>1.0</td>\n    </tr>\n    <tr>\n      <th>3</th>\n      <td>0.0</td>\n    </tr>\n    <tr>\n      <th>4</th>\n      <td>1.0</td>\n    </tr>\n    <tr>\n      <th>...</th>\n      <td>...</td>\n    </tr>\n    <tr>\n      <th>160</th>\n      <td>1.0</td>\n    </tr>\n    <tr>\n      <th>161</th>\n      <td>1.0</td>\n    </tr>\n    <tr>\n      <th>162</th>\n      <td>1.0</td>\n    </tr>\n    <tr>\n      <th>163</th>\n      <td>1.0</td>\n    </tr>\n    <tr>\n      <th>164</th>\n      <td>1.0</td>\n    </tr>\n  </tbody>\n</table>\n<p>165 rows × 1 columns</p>\n</div>"
     },
     "execution_count": 63,
     "metadata": {},
     "output_type": "execute_result"
    }
   ],
   "source": [
    "preds[\"prediction\"] = preds[\"prediction\"].astype('float32')\n",
    "preds"
   ],
   "metadata": {
    "collapsed": false,
    "pycharm": {
     "name": "#%%\n"
    }
   }
  },
  {
   "cell_type": "code",
   "execution_count": 64,
   "outputs": [
    {
     "data": {
      "text/plain": "     period  total_dhis2_value_hts  total_datim_value_hts  \\\n384       0                    102                  132.0   \n699       0                    169                  333.0   \n199       1                    193                  259.0   \n494       1                    142                  236.0   \n624       1                    114                  218.0   \n..      ...                    ...                    ...   \n174       0                    482                  496.0   \n455       1                     42                   77.0   \n99        1                    373                  468.0   \n263       0                    890                  947.0   \n224       1                    213                  247.0   \n\n     percentage_difference_hts  total_dhis2_value_pmtct  \\\n384                  22.727273                     29.0   \n699                  49.249249                    177.0   \n199                  25.482625                     39.0   \n494                  39.830508                     59.0   \n624                  47.706422                    110.0   \n..                         ...                      ...   \n174                   2.822581                     31.0   \n455                  45.454545                     34.0   \n99                   20.299145                     75.0   \n263                   6.019007                     63.0   \n224                  13.765182                     42.0   \n\n     total_datim_value_pmtct  \n384                     28.0  \n699                    173.0  \n199                     39.0  \n494                     58.0  \n624                    106.0  \n..                       ...  \n174                     31.0  \n455                     34.0  \n99                      71.0  \n263                     62.0  \n224                     42.0  \n\n[165 rows x 6 columns]",
      "text/html": "<div>\n<style scoped>\n    .dataframe tbody tr th:only-of-type {\n        vertical-align: middle;\n    }\n\n    .dataframe tbody tr th {\n        vertical-align: top;\n    }\n\n    .dataframe thead th {\n        text-align: right;\n    }\n</style>\n<table border=\"1\" class=\"dataframe\">\n  <thead>\n    <tr style=\"text-align: right;\">\n      <th></th>\n      <th>period</th>\n      <th>total_dhis2_value_hts</th>\n      <th>total_datim_value_hts</th>\n      <th>percentage_difference_hts</th>\n      <th>total_dhis2_value_pmtct</th>\n      <th>total_datim_value_pmtct</th>\n    </tr>\n  </thead>\n  <tbody>\n    <tr>\n      <th>384</th>\n      <td>0</td>\n      <td>102</td>\n      <td>132.0</td>\n      <td>22.727273</td>\n      <td>29.0</td>\n      <td>28.0</td>\n    </tr>\n    <tr>\n      <th>699</th>\n      <td>0</td>\n      <td>169</td>\n      <td>333.0</td>\n      <td>49.249249</td>\n      <td>177.0</td>\n      <td>173.0</td>\n    </tr>\n    <tr>\n      <th>199</th>\n      <td>1</td>\n      <td>193</td>\n      <td>259.0</td>\n      <td>25.482625</td>\n      <td>39.0</td>\n      <td>39.0</td>\n    </tr>\n    <tr>\n      <th>494</th>\n      <td>1</td>\n      <td>142</td>\n      <td>236.0</td>\n      <td>39.830508</td>\n      <td>59.0</td>\n      <td>58.0</td>\n    </tr>\n    <tr>\n      <th>624</th>\n      <td>1</td>\n      <td>114</td>\n      <td>218.0</td>\n      <td>47.706422</td>\n      <td>110.0</td>\n      <td>106.0</td>\n    </tr>\n    <tr>\n      <th>...</th>\n      <td>...</td>\n      <td>...</td>\n      <td>...</td>\n      <td>...</td>\n      <td>...</td>\n      <td>...</td>\n    </tr>\n    <tr>\n      <th>174</th>\n      <td>0</td>\n      <td>482</td>\n      <td>496.0</td>\n      <td>2.822581</td>\n      <td>31.0</td>\n      <td>31.0</td>\n    </tr>\n    <tr>\n      <th>455</th>\n      <td>1</td>\n      <td>42</td>\n      <td>77.0</td>\n      <td>45.454545</td>\n      <td>34.0</td>\n      <td>34.0</td>\n    </tr>\n    <tr>\n      <th>99</th>\n      <td>1</td>\n      <td>373</td>\n      <td>468.0</td>\n      <td>20.299145</td>\n      <td>75.0</td>\n      <td>71.0</td>\n    </tr>\n    <tr>\n      <th>263</th>\n      <td>0</td>\n      <td>890</td>\n      <td>947.0</td>\n      <td>6.019007</td>\n      <td>63.0</td>\n      <td>62.0</td>\n    </tr>\n    <tr>\n      <th>224</th>\n      <td>1</td>\n      <td>213</td>\n      <td>247.0</td>\n      <td>13.765182</td>\n      <td>42.0</td>\n      <td>42.0</td>\n    </tr>\n  </tbody>\n</table>\n<p>165 rows × 6 columns</p>\n</div>"
     },
     "execution_count": 64,
     "metadata": {},
     "output_type": "execute_result"
    }
   ],
   "source": [
    "X_test"
   ],
   "metadata": {
    "collapsed": false,
    "pycharm": {
     "name": "#%%\n"
    }
   }
  },
  {
   "cell_type": "code",
   "execution_count": 222,
   "outputs": [
    {
     "data": {
      "text/plain": "     facilityuid  period  total_dhis2_value_hts  total_datim_value_hts  \\\n0    AKCk8JAY0dK  2019Q4                    168                  200.0   \n1    AKCk8JAY0dK  2020Q1                    234                  280.0   \n7    B8Y8xuk4MFf  2020Q1                    144                  192.0   \n9    BEjIOW8DUVY  2019Q4                     81                  104.0   \n17   BSIVRetkq9o  2020Q2                    136                  186.0   \n..           ...     ...                    ...                    ...   \n810  zjvUyYZscbf  2020Q1                     97                  131.0   \n816  zvicDsjeRbr  2020Q1                     32                   44.0   \n818  zwV7ekHDAwe  2019Q4                    739                  890.0   \n819  zwV7ekHDAwe  2020Q1                    455                  510.0   \n820  zwV7ekHDAwe  2020Q2                    396                  333.0   \n\n     difference_hts  percentage_difference_hts  total_dhis2_value_pmtct  \\\n0             -32.0                  16.000000                     31.0   \n1             -46.0                  16.428571                     46.0   \n7             -48.0                  25.000000                     44.0   \n9             -23.0                  22.115385                     23.0   \n17            -50.0                  26.881720                     58.0   \n..              ...                        ...                      ...   \n810           -34.0                  25.954198                     36.0   \n816           -12.0                  27.272727                     20.0   \n818          -151.0                  16.966292                     66.0   \n819           -55.0                  10.784314                     93.0   \n820            63.0                  18.918919                     57.0   \n\n     total_datim_value_pmtct  difference_pmtct  percentage_difference_pmtct  \\\n0                       31.0               0.0                     0.000000   \n1                       46.0               0.0                     0.000000   \n7                       43.0               1.0                     2.325581   \n9                       23.0               0.0                     0.000000   \n17                      56.0               2.0                     3.571429   \n..                       ...               ...                          ...   \n810                     34.0               2.0                     5.882353   \n816                     20.0               0.0                     0.000000   \n818                     66.0               0.0                     0.000000   \n819                     85.0               8.0                     9.411765   \n820                     56.0               1.0                     1.785714   \n\n    accept  \n0      yes  \n1      yes  \n7      yes  \n9      yes  \n17     yes  \n..     ...  \n810    yes  \n816    yes  \n818    yes  \n819    yes  \n820    yes  \n\n[410 rows x 11 columns]",
      "text/html": "<div>\n<style scoped>\n    .dataframe tbody tr th:only-of-type {\n        vertical-align: middle;\n    }\n\n    .dataframe tbody tr th {\n        vertical-align: top;\n    }\n\n    .dataframe thead th {\n        text-align: right;\n    }\n</style>\n<table border=\"1\" class=\"dataframe\">\n  <thead>\n    <tr style=\"text-align: right;\">\n      <th></th>\n      <th>facilityuid</th>\n      <th>period</th>\n      <th>total_dhis2_value_hts</th>\n      <th>total_datim_value_hts</th>\n      <th>difference_hts</th>\n      <th>percentage_difference_hts</th>\n      <th>total_dhis2_value_pmtct</th>\n      <th>total_datim_value_pmtct</th>\n      <th>difference_pmtct</th>\n      <th>percentage_difference_pmtct</th>\n      <th>accept</th>\n    </tr>\n  </thead>\n  <tbody>\n    <tr>\n      <th>0</th>\n      <td>AKCk8JAY0dK</td>\n      <td>2019Q4</td>\n      <td>168</td>\n      <td>200.0</td>\n      <td>-32.0</td>\n      <td>16.000000</td>\n      <td>31.0</td>\n      <td>31.0</td>\n      <td>0.0</td>\n      <td>0.000000</td>\n      <td>yes</td>\n    </tr>\n    <tr>\n      <th>1</th>\n      <td>AKCk8JAY0dK</td>\n      <td>2020Q1</td>\n      <td>234</td>\n      <td>280.0</td>\n      <td>-46.0</td>\n      <td>16.428571</td>\n      <td>46.0</td>\n      <td>46.0</td>\n      <td>0.0</td>\n      <td>0.000000</td>\n      <td>yes</td>\n    </tr>\n    <tr>\n      <th>7</th>\n      <td>B8Y8xuk4MFf</td>\n      <td>2020Q1</td>\n      <td>144</td>\n      <td>192.0</td>\n      <td>-48.0</td>\n      <td>25.000000</td>\n      <td>44.0</td>\n      <td>43.0</td>\n      <td>1.0</td>\n      <td>2.325581</td>\n      <td>yes</td>\n    </tr>\n    <tr>\n      <th>9</th>\n      <td>BEjIOW8DUVY</td>\n      <td>2019Q4</td>\n      <td>81</td>\n      <td>104.0</td>\n      <td>-23.0</td>\n      <td>22.115385</td>\n      <td>23.0</td>\n      <td>23.0</td>\n      <td>0.0</td>\n      <td>0.000000</td>\n      <td>yes</td>\n    </tr>\n    <tr>\n      <th>17</th>\n      <td>BSIVRetkq9o</td>\n      <td>2020Q2</td>\n      <td>136</td>\n      <td>186.0</td>\n      <td>-50.0</td>\n      <td>26.881720</td>\n      <td>58.0</td>\n      <td>56.0</td>\n      <td>2.0</td>\n      <td>3.571429</td>\n      <td>yes</td>\n    </tr>\n    <tr>\n      <th>...</th>\n      <td>...</td>\n      <td>...</td>\n      <td>...</td>\n      <td>...</td>\n      <td>...</td>\n      <td>...</td>\n      <td>...</td>\n      <td>...</td>\n      <td>...</td>\n      <td>...</td>\n      <td>...</td>\n    </tr>\n    <tr>\n      <th>810</th>\n      <td>zjvUyYZscbf</td>\n      <td>2020Q1</td>\n      <td>97</td>\n      <td>131.0</td>\n      <td>-34.0</td>\n      <td>25.954198</td>\n      <td>36.0</td>\n      <td>34.0</td>\n      <td>2.0</td>\n      <td>5.882353</td>\n      <td>yes</td>\n    </tr>\n    <tr>\n      <th>816</th>\n      <td>zvicDsjeRbr</td>\n      <td>2020Q1</td>\n      <td>32</td>\n      <td>44.0</td>\n      <td>-12.0</td>\n      <td>27.272727</td>\n      <td>20.0</td>\n      <td>20.0</td>\n      <td>0.0</td>\n      <td>0.000000</td>\n      <td>yes</td>\n    </tr>\n    <tr>\n      <th>818</th>\n      <td>zwV7ekHDAwe</td>\n      <td>2019Q4</td>\n      <td>739</td>\n      <td>890.0</td>\n      <td>-151.0</td>\n      <td>16.966292</td>\n      <td>66.0</td>\n      <td>66.0</td>\n      <td>0.0</td>\n      <td>0.000000</td>\n      <td>yes</td>\n    </tr>\n    <tr>\n      <th>819</th>\n      <td>zwV7ekHDAwe</td>\n      <td>2020Q1</td>\n      <td>455</td>\n      <td>510.0</td>\n      <td>-55.0</td>\n      <td>10.784314</td>\n      <td>93.0</td>\n      <td>85.0</td>\n      <td>8.0</td>\n      <td>9.411765</td>\n      <td>yes</td>\n    </tr>\n    <tr>\n      <th>820</th>\n      <td>zwV7ekHDAwe</td>\n      <td>2020Q2</td>\n      <td>396</td>\n      <td>333.0</td>\n      <td>63.0</td>\n      <td>18.918919</td>\n      <td>57.0</td>\n      <td>56.0</td>\n      <td>1.0</td>\n      <td>1.785714</td>\n      <td>yes</td>\n    </tr>\n  </tbody>\n</table>\n<p>410 rows × 11 columns</p>\n</div>"
     },
     "execution_count": 222,
     "metadata": {},
     "output_type": "execute_result"
    }
   ],
   "source": [
    "merged_df"
   ],
   "metadata": {
    "collapsed": false,
    "pycharm": {
     "name": "#%%\n"
    }
   }
  },
  {
   "cell_type": "code",
   "execution_count": 224,
   "outputs": [
    {
     "data": {
      "text/plain": "     period_x  total_dhis2_value_hts_x  total_datim_value_hts_x  \\\n384         0                      102                    132.0   \n699         0                      169                    333.0   \n199         1                      193                    259.0   \n624         1                      114                    218.0   \n22          2                      205                    204.0   \n..        ...                      ...                      ...   \n208         2                      299                    259.0   \n403         2                      217                    292.0   \n611         1                      251                    421.0   \n263         0                      890                    947.0   \n224         1                      213                    247.0   \n\n     percentage_difference_hts_x  total_dhis2_value_pmtct_x  \\\n384                    22.727273                       29.0   \n699                    49.249249                      177.0   \n199                    25.482625                       39.0   \n624                    47.706422                      110.0   \n22                      0.490196                       57.0   \n..                           ...                        ...   \n208                    15.444015                       73.0   \n403                    25.684932                       75.0   \n611                    40.380048                      176.0   \n263                     6.019007                       63.0   \n224                    13.765182                       42.0   \n\n     total_datim_value_pmtct_x  facilityuid period_y  total_dhis2_value_hts_y  \\\n384                       28.0  WKpi4HTOfa6   2019Q4                      127   \n699                      173.0  rGIiGfPUc5P   2020Q2                      143   \n199                       39.0  LGgFPRuWpws   2020Q2                      405   \n624                      106.0  leXuCmyYwWX   2020Q2                      397   \n22                        56.0  Bmhbkq3ILv5   2020Q2                       62   \n..                         ...          ...      ...                      ...   \n208                       70.0  LYR8fhhFOaQ   2020Q2                      151   \n403                       72.0  WnyXc5FYO5e   2020Q1                      190   \n611                      175.0  kmEXAwkvnDQ   2020Q1                      148   \n263                       62.0  OnMW8Kn4YDf   2019Q4                      499   \n224                       42.0  MxwFljO9mmy   2019Q4                      394   \n\n     total_datim_value_hts_y  difference_hts  percentage_difference_hts_y  \\\n384                    176.0           -49.0                    27.840909   \n699                    198.0           -55.0                    27.777778   \n199                    449.0           -44.0                     9.799555   \n624                    355.0            42.0                    11.830986   \n22                      85.0           -23.0                    27.058824   \n..                       ...             ...                          ...   \n208                    172.0           -21.0                    12.209302   \n403                    209.0           -19.0                     9.090909   \n611                    162.0           -14.0                     8.641975   \n263                    622.0          -123.0                    19.774920   \n224                    509.0          -115.0                    22.593320   \n\n     total_dhis2_value_pmtct_y  total_datim_value_pmtct_y  difference_pmtct  \\\n384                       50.0                       50.0               0.0   \n699                       56.0                       56.0               0.0   \n199                       68.0                       65.0               3.0   \n624                       47.0                       45.0               2.0   \n22                        25.0                       25.0               0.0   \n..                         ...                        ...               ...   \n208                       32.0                       29.0               3.0   \n403                       22.0                       22.0               0.0   \n611                       34.0                       34.0               0.0   \n263                       21.0                       21.0               0.0   \n224                       61.0                       61.0               0.0   \n\n     percentage_difference_pmtct accept  \n384                     0.000000    yes  \n699                     0.000000    yes  \n199                     4.615385    yes  \n624                     4.444444    yes  \n22                      0.000000    yes  \n..                           ...    ...  \n208                    10.344828    yes  \n403                     0.000000    yes  \n611                     0.000000    yes  \n263                     0.000000    yes  \n224                     0.000000    yes  \n\n[83 rows x 17 columns]",
      "text/html": "<div>\n<style scoped>\n    .dataframe tbody tr th:only-of-type {\n        vertical-align: middle;\n    }\n\n    .dataframe tbody tr th {\n        vertical-align: top;\n    }\n\n    .dataframe thead th {\n        text-align: right;\n    }\n</style>\n<table border=\"1\" class=\"dataframe\">\n  <thead>\n    <tr style=\"text-align: right;\">\n      <th></th>\n      <th>period_x</th>\n      <th>total_dhis2_value_hts_x</th>\n      <th>total_datim_value_hts_x</th>\n      <th>percentage_difference_hts_x</th>\n      <th>total_dhis2_value_pmtct_x</th>\n      <th>total_datim_value_pmtct_x</th>\n      <th>facilityuid</th>\n      <th>period_y</th>\n      <th>total_dhis2_value_hts_y</th>\n      <th>total_datim_value_hts_y</th>\n      <th>difference_hts</th>\n      <th>percentage_difference_hts_y</th>\n      <th>total_dhis2_value_pmtct_y</th>\n      <th>total_datim_value_pmtct_y</th>\n      <th>difference_pmtct</th>\n      <th>percentage_difference_pmtct</th>\n      <th>accept</th>\n    </tr>\n  </thead>\n  <tbody>\n    <tr>\n      <th>384</th>\n      <td>0</td>\n      <td>102</td>\n      <td>132.0</td>\n      <td>22.727273</td>\n      <td>29.0</td>\n      <td>28.0</td>\n      <td>WKpi4HTOfa6</td>\n      <td>2019Q4</td>\n      <td>127</td>\n      <td>176.0</td>\n      <td>-49.0</td>\n      <td>27.840909</td>\n      <td>50.0</td>\n      <td>50.0</td>\n      <td>0.0</td>\n      <td>0.000000</td>\n      <td>yes</td>\n    </tr>\n    <tr>\n      <th>699</th>\n      <td>0</td>\n      <td>169</td>\n      <td>333.0</td>\n      <td>49.249249</td>\n      <td>177.0</td>\n      <td>173.0</td>\n      <td>rGIiGfPUc5P</td>\n      <td>2020Q2</td>\n      <td>143</td>\n      <td>198.0</td>\n      <td>-55.0</td>\n      <td>27.777778</td>\n      <td>56.0</td>\n      <td>56.0</td>\n      <td>0.0</td>\n      <td>0.000000</td>\n      <td>yes</td>\n    </tr>\n    <tr>\n      <th>199</th>\n      <td>1</td>\n      <td>193</td>\n      <td>259.0</td>\n      <td>25.482625</td>\n      <td>39.0</td>\n      <td>39.0</td>\n      <td>LGgFPRuWpws</td>\n      <td>2020Q2</td>\n      <td>405</td>\n      <td>449.0</td>\n      <td>-44.0</td>\n      <td>9.799555</td>\n      <td>68.0</td>\n      <td>65.0</td>\n      <td>3.0</td>\n      <td>4.615385</td>\n      <td>yes</td>\n    </tr>\n    <tr>\n      <th>624</th>\n      <td>1</td>\n      <td>114</td>\n      <td>218.0</td>\n      <td>47.706422</td>\n      <td>110.0</td>\n      <td>106.0</td>\n      <td>leXuCmyYwWX</td>\n      <td>2020Q2</td>\n      <td>397</td>\n      <td>355.0</td>\n      <td>42.0</td>\n      <td>11.830986</td>\n      <td>47.0</td>\n      <td>45.0</td>\n      <td>2.0</td>\n      <td>4.444444</td>\n      <td>yes</td>\n    </tr>\n    <tr>\n      <th>22</th>\n      <td>2</td>\n      <td>205</td>\n      <td>204.0</td>\n      <td>0.490196</td>\n      <td>57.0</td>\n      <td>56.0</td>\n      <td>Bmhbkq3ILv5</td>\n      <td>2020Q2</td>\n      <td>62</td>\n      <td>85.0</td>\n      <td>-23.0</td>\n      <td>27.058824</td>\n      <td>25.0</td>\n      <td>25.0</td>\n      <td>0.0</td>\n      <td>0.000000</td>\n      <td>yes</td>\n    </tr>\n    <tr>\n      <th>...</th>\n      <td>...</td>\n      <td>...</td>\n      <td>...</td>\n      <td>...</td>\n      <td>...</td>\n      <td>...</td>\n      <td>...</td>\n      <td>...</td>\n      <td>...</td>\n      <td>...</td>\n      <td>...</td>\n      <td>...</td>\n      <td>...</td>\n      <td>...</td>\n      <td>...</td>\n      <td>...</td>\n      <td>...</td>\n    </tr>\n    <tr>\n      <th>208</th>\n      <td>2</td>\n      <td>299</td>\n      <td>259.0</td>\n      <td>15.444015</td>\n      <td>73.0</td>\n      <td>70.0</td>\n      <td>LYR8fhhFOaQ</td>\n      <td>2020Q2</td>\n      <td>151</td>\n      <td>172.0</td>\n      <td>-21.0</td>\n      <td>12.209302</td>\n      <td>32.0</td>\n      <td>29.0</td>\n      <td>3.0</td>\n      <td>10.344828</td>\n      <td>yes</td>\n    </tr>\n    <tr>\n      <th>403</th>\n      <td>2</td>\n      <td>217</td>\n      <td>292.0</td>\n      <td>25.684932</td>\n      <td>75.0</td>\n      <td>72.0</td>\n      <td>WnyXc5FYO5e</td>\n      <td>2020Q1</td>\n      <td>190</td>\n      <td>209.0</td>\n      <td>-19.0</td>\n      <td>9.090909</td>\n      <td>22.0</td>\n      <td>22.0</td>\n      <td>0.0</td>\n      <td>0.000000</td>\n      <td>yes</td>\n    </tr>\n    <tr>\n      <th>611</th>\n      <td>1</td>\n      <td>251</td>\n      <td>421.0</td>\n      <td>40.380048</td>\n      <td>176.0</td>\n      <td>175.0</td>\n      <td>kmEXAwkvnDQ</td>\n      <td>2020Q1</td>\n      <td>148</td>\n      <td>162.0</td>\n      <td>-14.0</td>\n      <td>8.641975</td>\n      <td>34.0</td>\n      <td>34.0</td>\n      <td>0.0</td>\n      <td>0.000000</td>\n      <td>yes</td>\n    </tr>\n    <tr>\n      <th>263</th>\n      <td>0</td>\n      <td>890</td>\n      <td>947.0</td>\n      <td>6.019007</td>\n      <td>63.0</td>\n      <td>62.0</td>\n      <td>OnMW8Kn4YDf</td>\n      <td>2019Q4</td>\n      <td>499</td>\n      <td>622.0</td>\n      <td>-123.0</td>\n      <td>19.774920</td>\n      <td>21.0</td>\n      <td>21.0</td>\n      <td>0.0</td>\n      <td>0.000000</td>\n      <td>yes</td>\n    </tr>\n    <tr>\n      <th>224</th>\n      <td>1</td>\n      <td>213</td>\n      <td>247.0</td>\n      <td>13.765182</td>\n      <td>42.0</td>\n      <td>42.0</td>\n      <td>MxwFljO9mmy</td>\n      <td>2019Q4</td>\n      <td>394</td>\n      <td>509.0</td>\n      <td>-115.0</td>\n      <td>22.593320</td>\n      <td>61.0</td>\n      <td>61.0</td>\n      <td>0.0</td>\n      <td>0.000000</td>\n      <td>yes</td>\n    </tr>\n  </tbody>\n</table>\n<p>83 rows × 17 columns</p>\n</div>"
     },
     "execution_count": 224,
     "metadata": {},
     "output_type": "execute_result"
    }
   ],
   "source": [
    "df3 = pd.merge(X_test, merged_df, left_index=True, right_index=True)\n",
    "# Print the result\n",
    "df3"
   ],
   "metadata": {
    "collapsed": false,
    "pycharm": {
     "name": "#%%\n"
    }
   }
  },
  {
   "cell_type": "code",
   "execution_count": 69,
   "outputs": [
    {
     "data": {
      "text/plain": "     index  period  total_dhis2_value_hts  total_datim_value_hts  \\\n0      384       0                    102                  132.0   \n1      699       0                    169                  333.0   \n2      199       1                    193                  259.0   \n3      494       1                    142                  236.0   \n4      624       1                    114                  218.0   \n..     ...     ...                    ...                    ...   \n160    174       0                    482                  496.0   \n161    455       1                     42                   77.0   \n162     99       1                    373                  468.0   \n163    263       0                    890                  947.0   \n164    224       1                    213                  247.0   \n\n     percentage_difference_hts  total_dhis2_value_pmtct  \\\n0                    22.727273                     29.0   \n1                    49.249249                    177.0   \n2                    25.482625                     39.0   \n3                    39.830508                     59.0   \n4                    47.706422                    110.0   \n..                         ...                      ...   \n160                   2.822581                     31.0   \n161                  45.454545                     34.0   \n162                  20.299145                     75.0   \n163                   6.019007                     63.0   \n164                  13.765182                     42.0   \n\n     total_datim_value_pmtct  predics  \n0                       28.0      1.0  \n1                      173.0      1.0  \n2                       39.0      1.0  \n3                       58.0      0.0  \n4                      106.0      1.0  \n..                       ...      ...  \n160                     31.0      1.0  \n161                     34.0      1.0  \n162                     71.0      1.0  \n163                     62.0      1.0  \n164                     42.0      1.0  \n\n[165 rows x 8 columns]",
      "text/html": "<div>\n<style scoped>\n    .dataframe tbody tr th:only-of-type {\n        vertical-align: middle;\n    }\n\n    .dataframe tbody tr th {\n        vertical-align: top;\n    }\n\n    .dataframe thead th {\n        text-align: right;\n    }\n</style>\n<table border=\"1\" class=\"dataframe\">\n  <thead>\n    <tr style=\"text-align: right;\">\n      <th></th>\n      <th>index</th>\n      <th>period</th>\n      <th>total_dhis2_value_hts</th>\n      <th>total_datim_value_hts</th>\n      <th>percentage_difference_hts</th>\n      <th>total_dhis2_value_pmtct</th>\n      <th>total_datim_value_pmtct</th>\n      <th>predics</th>\n    </tr>\n  </thead>\n  <tbody>\n    <tr>\n      <th>0</th>\n      <td>384</td>\n      <td>0</td>\n      <td>102</td>\n      <td>132.0</td>\n      <td>22.727273</td>\n      <td>29.0</td>\n      <td>28.0</td>\n      <td>1.0</td>\n    </tr>\n    <tr>\n      <th>1</th>\n      <td>699</td>\n      <td>0</td>\n      <td>169</td>\n      <td>333.0</td>\n      <td>49.249249</td>\n      <td>177.0</td>\n      <td>173.0</td>\n      <td>1.0</td>\n    </tr>\n    <tr>\n      <th>2</th>\n      <td>199</td>\n      <td>1</td>\n      <td>193</td>\n      <td>259.0</td>\n      <td>25.482625</td>\n      <td>39.0</td>\n      <td>39.0</td>\n      <td>1.0</td>\n    </tr>\n    <tr>\n      <th>3</th>\n      <td>494</td>\n      <td>1</td>\n      <td>142</td>\n      <td>236.0</td>\n      <td>39.830508</td>\n      <td>59.0</td>\n      <td>58.0</td>\n      <td>0.0</td>\n    </tr>\n    <tr>\n      <th>4</th>\n      <td>624</td>\n      <td>1</td>\n      <td>114</td>\n      <td>218.0</td>\n      <td>47.706422</td>\n      <td>110.0</td>\n      <td>106.0</td>\n      <td>1.0</td>\n    </tr>\n    <tr>\n      <th>...</th>\n      <td>...</td>\n      <td>...</td>\n      <td>...</td>\n      <td>...</td>\n      <td>...</td>\n      <td>...</td>\n      <td>...</td>\n      <td>...</td>\n    </tr>\n    <tr>\n      <th>160</th>\n      <td>174</td>\n      <td>0</td>\n      <td>482</td>\n      <td>496.0</td>\n      <td>2.822581</td>\n      <td>31.0</td>\n      <td>31.0</td>\n      <td>1.0</td>\n    </tr>\n    <tr>\n      <th>161</th>\n      <td>455</td>\n      <td>1</td>\n      <td>42</td>\n      <td>77.0</td>\n      <td>45.454545</td>\n      <td>34.0</td>\n      <td>34.0</td>\n      <td>1.0</td>\n    </tr>\n    <tr>\n      <th>162</th>\n      <td>99</td>\n      <td>1</td>\n      <td>373</td>\n      <td>468.0</td>\n      <td>20.299145</td>\n      <td>75.0</td>\n      <td>71.0</td>\n      <td>1.0</td>\n    </tr>\n    <tr>\n      <th>163</th>\n      <td>263</td>\n      <td>0</td>\n      <td>890</td>\n      <td>947.0</td>\n      <td>6.019007</td>\n      <td>63.0</td>\n      <td>62.0</td>\n      <td>1.0</td>\n    </tr>\n    <tr>\n      <th>164</th>\n      <td>224</td>\n      <td>1</td>\n      <td>213</td>\n      <td>247.0</td>\n      <td>13.765182</td>\n      <td>42.0</td>\n      <td>42.0</td>\n      <td>1.0</td>\n    </tr>\n  </tbody>\n</table>\n<p>165 rows × 8 columns</p>\n</div>"
     },
     "execution_count": 69,
     "metadata": {},
     "output_type": "execute_result"
    }
   ],
   "source": [
    "ex = X_test.copy()\n",
    "ex = ex.reset_index()\n",
    "ex[\"predics\"] = preds[\"prediction\"]\n",
    "ex"
   ],
   "metadata": {
    "collapsed": false,
    "pycharm": {
     "name": "#%%\n"
    }
   }
  },
  {
   "cell_type": "code",
   "execution_count": null,
   "outputs": [],
   "source": [],
   "metadata": {
    "collapsed": false,
    "pycharm": {
     "name": "#%%\n"
    }
   }
  }
 ],
 "metadata": {
  "kernelspec": {
   "display_name": "base",
   "language": "python",
   "name": "python3"
  },
  "language_info": {
   "codemirror_mode": {
    "name": "ipython",
    "version": 3
   },
   "file_extension": ".py",
   "mimetype": "text/x-python",
   "name": "python",
   "nbconvert_exporter": "python",
   "pygments_lexer": "ipython3",
   "version": "3.9.13"
  },
  "orig_nbformat": 4,
  "vscode": {
   "interpreter": {
    "hash": "5764602bc5e15974420ba0a3caed7061d770b6b7de350fe4980c5fe44de76677"
   }
  }
 },
 "nbformat": 4,
 "nbformat_minor": 2
}